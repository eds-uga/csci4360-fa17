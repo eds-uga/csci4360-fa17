{
 "cells": [
  {
   "cell_type": "markdown",
   "metadata": {},
   "source": [
    "First let us discuss what exactly are AutoEncoders ?"
   ]
  },
  {
   "cell_type": "code",
   "execution_count": 26,
   "metadata": {
    "scrolled": false
   },
   "outputs": [
    {
     "data": {
      "text/html": [
       "<img src=\"images/autoencoder_structure.png\"/>"
      ],
      "text/plain": [
       "<IPython.core.display.Image object>"
      ]
     },
     "metadata": {},
     "output_type": "display_data"
    }
   ],
   "source": [
    "# Autoendoer using H2o\n",
    "\n",
    "#CSCI6360 H2O WORKSHOP                                         \n",
    "\n",
    "from IPython.display import Image,display\n",
    "from IPython.core.display import HTML \n",
    "import matplotlib.pyplot as plot\n",
    "from h2o.estimators.deeplearning import H2ODeepLearningEstimator\n",
    "from h2o.grid.grid_search import H2OGridSearch\n",
    "\n",
    "\n",
    "#special thanks to wikipedia for the image\n",
    "\n",
    "#Code available at https://github.com/CodeMaster001/CSCI6360\n",
    "img = Image(url=\"images/autoencoder_structure.png\")\n",
    "\n",
    "\n",
    "display(img)\n"
   ]
  },
  {
   "cell_type": "code",
   "execution_count": 27,
   "metadata": {},
   "outputs": [
    {
     "data": {
      "text/html": [
       "<img src=\"images/autoencoder_equation.png\"/>"
      ],
      "text/plain": [
       "<IPython.core.display.Image object>"
      ]
     },
     "metadata": {},
     "output_type": "display_data"
    }
   ],
   "source": [
    "img_1 = Image(url=\"images/autoencoder_equation.png\") #special thanks to wikipedia for the image\n",
    "display(img_1)"
   ]
  },
  {
   "cell_type": "code",
   "execution_count": 28,
   "metadata": {
    "scrolled": true
   },
   "outputs": [
    {
     "data": {
      "text/html": [
       "<img src=\"images/autoencoder_network.png\"/>"
      ],
      "text/plain": [
       "<IPython.core.display.Image object>"
      ]
     },
     "metadata": {},
     "output_type": "display_data"
    }
   ],
   "source": [
    "img_1 = Image(url=\"images/autoencoder_network.png\") #special thanks to ufld.stanford.edu for the image\n",
    "display(img_1)"
   ]
  },
  {
   "cell_type": "markdown",
   "metadata": {},
   "source": [
    "This is a workshop on H2O,a library that is used extensively in the production environment, widely used in healthcare and finance\n",
    "\n",
    "Here is its OFFICIAL WEBSITE\n",
    "\n",
    "https://www.h2o.ai\n",
    "\n",
    " \n",
    "First, lets create a seperate environment for h2o in Anaconda and performs a switch to that environment.\n",
    "\n",
    "conda create --name h2o-py python=3.5 h2o h2o-py\n",
    "\n",
    "As,I am currently in Mac , I would like to use a UI as I am a bit confortable with it , reducing complexity is nice !!!\n",
    "\n",
    "\n",
    "\n",
    "What is h2o?\n",
    "\n",
    "A library which is used for building machine learning models at ease on huge dataset.It supports mxnet, \n",
    "tensorflow and caffe. It is not an alternative for any of those,\n",
    "its just exends the backent (h2o.ai!!)\n",
    "\n",
    "Other examples that work like h2o is keras.\n",
    "\n"
   ]
  },
  {
   "cell_type": "markdown",
   "metadata": {},
   "source": [
    "We are now going to import h2o inside python\n",
    "\n",
    "Adventages of having h2o :\n",
    "\n",
    "1.Notable adventages variation in Stochastic Gradient descent implementation\n",
    "H2O SGD algorithm is executed in parallel across all cores. The training set is also distributed across all nodes.\n",
    "At the final an average is taken of all the values.\n",
    "\n",
    "For more detials on Page 16.\n",
    "\n",
    "http://docs.h2o.ai/h2o/latest-stable/h2o-docs/booklets/DeepLearningBooklet.pdf\n",
    "\n",
    "Lets start h2o programming\n"
   ]
  },
  {
   "cell_type": "code",
   "execution_count": 29,
   "metadata": {
    "scrolled": true
   },
   "outputs": [
    {
     "name": "stdout",
     "output_type": "stream",
     "text": [
      "Checking whether there is an H2O instance running at http://localhost:54321. connected.\n",
      "Warning: Your H2O cluster version is too old (5 months and 4 days)! Please download and install the latest version from http://h2o.ai/download/\n"
     ]
    },
    {
     "data": {
      "text/html": [
       "<div style=\"overflow:auto\"><table style=\"width:50%\"><tr><td>H2O cluster uptime:</td>\n",
       "<td>1 hour 30 mins</td></tr>\n",
       "<tr><td>H2O cluster version:</td>\n",
       "<td>3.10.4.8</td></tr>\n",
       "<tr><td>H2O cluster version age:</td>\n",
       "<td>5 months and 4 days !!!</td></tr>\n",
       "<tr><td>H2O cluster name:</td>\n",
       "<td>H2O_from_python_prajayshetty_heoxjp</td></tr>\n",
       "<tr><td>H2O cluster total nodes:</td>\n",
       "<td>1</td></tr>\n",
       "<tr><td>H2O cluster free memory:</td>\n",
       "<td>749 Mb</td></tr>\n",
       "<tr><td>H2O cluster total cores:</td>\n",
       "<td>4</td></tr>\n",
       "<tr><td>H2O cluster allowed cores:</td>\n",
       "<td>4</td></tr>\n",
       "<tr><td>H2O cluster status:</td>\n",
       "<td>locked, healthy</td></tr>\n",
       "<tr><td>H2O connection url:</td>\n",
       "<td>http://localhost:54321</td></tr>\n",
       "<tr><td>H2O connection proxy:</td>\n",
       "<td>None</td></tr>\n",
       "<tr><td>H2O internal security:</td>\n",
       "<td>False</td></tr>\n",
       "<tr><td>Python version:</td>\n",
       "<td>3.6.2 final</td></tr></table></div>"
      ],
      "text/plain": [
       "--------------------------  -----------------------------------\n",
       "H2O cluster uptime:         1 hour 30 mins\n",
       "H2O cluster version:        3.10.4.8\n",
       "H2O cluster version age:    5 months and 4 days !!!\n",
       "H2O cluster name:           H2O_from_python_prajayshetty_heoxjp\n",
       "H2O cluster total nodes:    1\n",
       "H2O cluster free memory:    749 Mb\n",
       "H2O cluster total cores:    4\n",
       "H2O cluster allowed cores:  4\n",
       "H2O cluster status:         locked, healthy\n",
       "H2O connection url:         http://localhost:54321\n",
       "H2O connection proxy:\n",
       "H2O internal security:      False\n",
       "Python version:             3.6.2 final\n",
       "--------------------------  -----------------------------------"
      ]
     },
     "metadata": {},
     "output_type": "display_data"
    },
    {
     "name": "stdout",
     "output_type": "stream",
     "text": [
      "Checking whether there is an H2O instance running at http://localhost:54323. connected.\n",
      "Warning: Your H2O cluster version is too old (5 months and 4 days)! Please download and install the latest version from http://h2o.ai/download/\n"
     ]
    },
    {
     "data": {
      "text/html": [
       "<div style=\"overflow:auto\"><table style=\"width:50%\"><tr><td>H2O cluster uptime:</td>\n",
       "<td>1 hour 27 mins</td></tr>\n",
       "<tr><td>H2O cluster version:</td>\n",
       "<td>3.10.4.8</td></tr>\n",
       "<tr><td>H2O cluster version age:</td>\n",
       "<td>5 months and 4 days !!!</td></tr>\n",
       "<tr><td>H2O cluster name:</td>\n",
       "<td>H2O_from_python_prajayshetty_n9bfmr</td></tr>\n",
       "<tr><td>H2O cluster total nodes:</td>\n",
       "<td>1</td></tr>\n",
       "<tr><td>H2O cluster free memory:</td>\n",
       "<td>718 Mb</td></tr>\n",
       "<tr><td>H2O cluster total cores:</td>\n",
       "<td>4</td></tr>\n",
       "<tr><td>H2O cluster allowed cores:</td>\n",
       "<td>4</td></tr>\n",
       "<tr><td>H2O cluster status:</td>\n",
       "<td>locked, healthy</td></tr>\n",
       "<tr><td>H2O connection url:</td>\n",
       "<td>http://localhost:54323</td></tr>\n",
       "<tr><td>H2O connection proxy:</td>\n",
       "<td>None</td></tr>\n",
       "<tr><td>H2O internal security:</td>\n",
       "<td>False</td></tr>\n",
       "<tr><td>Python version:</td>\n",
       "<td>3.6.2 final</td></tr></table></div>"
      ],
      "text/plain": [
       "--------------------------  -----------------------------------\n",
       "H2O cluster uptime:         1 hour 27 mins\n",
       "H2O cluster version:        3.10.4.8\n",
       "H2O cluster version age:    5 months and 4 days !!!\n",
       "H2O cluster name:           H2O_from_python_prajayshetty_n9bfmr\n",
       "H2O cluster total nodes:    1\n",
       "H2O cluster free memory:    718 Mb\n",
       "H2O cluster total cores:    4\n",
       "H2O cluster allowed cores:  4\n",
       "H2O cluster status:         locked, healthy\n",
       "H2O connection url:         http://localhost:54323\n",
       "H2O connection proxy:\n",
       "H2O internal security:      False\n",
       "Python version:             3.6.2 final\n",
       "--------------------------  -----------------------------------"
      ]
     },
     "metadata": {},
     "output_type": "display_data"
    }
   ],
   "source": [
    "import h2o\n",
    "\n",
    "h2o.init() #initialize h2o cluster\n",
    "\n",
    "#Once h2o is initialized it actually automatically sets up the spark cluster if spark is configured as a backend, \n",
    "#applies same for mxnet and tensorflow\n",
    "\n",
    "h2o.init(ip=\"localhost\", port=54323)\n"
   ]
  },
  {
   "cell_type": "markdown",
   "metadata": {},
   "source": [
    "Once h2o is initialized it actually automatically sets up the spark cluster, if spark is configured as a backend, \n",
    "applies same for mxnet, tensorflow and theano backends. We will discuss shortly how to use spark. Please use Sparkling Water if you want to use H2O wth spark.\n",
    "\n",
    "Now lets see our cluster status info."
   ]
  },
  {
   "cell_type": "code",
   "execution_count": 30,
   "metadata": {
    "scrolled": false
   },
   "outputs": [
    {
     "data": {
      "text/html": [
       "<div style=\"overflow:auto\"><table style=\"width:50%\"><tr><td>H2O cluster uptime:</td>\n",
       "<td>1 hour 28 mins</td></tr>\n",
       "<tr><td>H2O cluster version:</td>\n",
       "<td>3.10.4.8</td></tr>\n",
       "<tr><td>H2O cluster version age:</td>\n",
       "<td>5 months and 4 days !!!</td></tr>\n",
       "<tr><td>H2O cluster name:</td>\n",
       "<td>H2O_from_python_prajayshetty_n9bfmr</td></tr>\n",
       "<tr><td>H2O cluster total nodes:</td>\n",
       "<td>1</td></tr>\n",
       "<tr><td>H2O cluster free memory:</td>\n",
       "<td>718 Mb</td></tr>\n",
       "<tr><td>H2O cluster total cores:</td>\n",
       "<td>4</td></tr>\n",
       "<tr><td>H2O cluster allowed cores:</td>\n",
       "<td>4</td></tr>\n",
       "<tr><td>H2O cluster status:</td>\n",
       "<td>locked, healthy</td></tr>\n",
       "<tr><td>H2O connection url:</td>\n",
       "<td>http://localhost:54323</td></tr>\n",
       "<tr><td>H2O connection proxy:</td>\n",
       "<td>None</td></tr>\n",
       "<tr><td>H2O internal security:</td>\n",
       "<td>False</td></tr>\n",
       "<tr><td>Python version:</td>\n",
       "<td>3.6.2 final</td></tr></table></div>"
      ],
      "text/plain": [
       "--------------------------  -----------------------------------\n",
       "H2O cluster uptime:         1 hour 28 mins\n",
       "H2O cluster version:        3.10.4.8\n",
       "H2O cluster version age:    5 months and 4 days !!!\n",
       "H2O cluster name:           H2O_from_python_prajayshetty_n9bfmr\n",
       "H2O cluster total nodes:    1\n",
       "H2O cluster free memory:    718 Mb\n",
       "H2O cluster total cores:    4\n",
       "H2O cluster allowed cores:  4\n",
       "H2O cluster status:         locked, healthy\n",
       "H2O connection url:         http://localhost:54323\n",
       "H2O connection proxy:\n",
       "H2O internal security:      False\n",
       "Python version:             3.6.2 final\n",
       "--------------------------  -----------------------------------"
      ]
     },
     "metadata": {},
     "output_type": "display_data"
    }
   ],
   "source": [
    "h2o.cluster().show_status()"
   ]
  },
  {
   "cell_type": "markdown",
   "metadata": {},
   "source": [
    "Lets us import a file and see if its added to cluster"
   ]
  },
  {
   "cell_type": "code",
   "execution_count": 31,
   "metadata": {
    "scrolled": true
   },
   "outputs": [
    {
     "data": {
      "text/html": [
       "<div>\n",
       "<style>\n",
       "    .dataframe thead tr:only-child th {\n",
       "        text-align: right;\n",
       "    }\n",
       "\n",
       "    .dataframe thead th {\n",
       "        text-align: left;\n",
       "    }\n",
       "\n",
       "    .dataframe tbody tr th {\n",
       "        vertical-align: top;\n",
       "    }\n",
       "</style>\n",
       "<table border=\"1\" class=\"dataframe\">\n",
       "  <thead>\n",
       "    <tr style=\"text-align: right;\">\n",
       "      <th></th>\n",
       "      <th>key</th>\n",
       "    </tr>\n",
       "  </thead>\n",
       "  <tbody>\n",
       "    <tr>\n",
       "      <th>0</th>\n",
       "      <td>DeepLearning_model_python_1508939596978_1</td>\n",
       "    </tr>\n",
       "    <tr>\n",
       "      <th>1</th>\n",
       "      <td>DeepLearning_model_python_1508939596978_10</td>\n",
       "    </tr>\n",
       "    <tr>\n",
       "      <th>2</th>\n",
       "      <td>DeepLearning_model_python_1508939596978_13</td>\n",
       "    </tr>\n",
       "    <tr>\n",
       "      <th>3</th>\n",
       "      <td>DeepLearning_model_python_1508939596978_14</td>\n",
       "    </tr>\n",
       "    <tr>\n",
       "      <th>4</th>\n",
       "      <td>DeepLearning_model_python_1508939596978_2</td>\n",
       "    </tr>\n",
       "    <tr>\n",
       "      <th>5</th>\n",
       "      <td>DeepLearning_model_python_1508939596978_5</td>\n",
       "    </tr>\n",
       "    <tr>\n",
       "      <th>6</th>\n",
       "      <td>DeepLearning_model_python_1508939596978_6</td>\n",
       "    </tr>\n",
       "    <tr>\n",
       "      <th>7</th>\n",
       "      <td>DeepLearning_model_python_1508939596978_9</td>\n",
       "    </tr>\n",
       "    <tr>\n",
       "      <th>8</th>\n",
       "      <td>Grid_DeepLearning_ecg_discord_train.hex_model_python_1508939596978_3</td>\n",
       "    </tr>\n",
       "    <tr>\n",
       "      <th>9</th>\n",
       "      <td>Grid_DeepLearning_ecg_discord_train.hex_model_python_1508939596978...</td>\n",
       "    </tr>\n",
       "    <tr>\n",
       "      <th>10</th>\n",
       "      <td>Grid_DeepLearning_ecg_discord_train.hex_model_python_1508939596978...</td>\n",
       "    </tr>\n",
       "    <tr>\n",
       "      <th>11</th>\n",
       "      <td>Grid_DeepLearning_ecg_discord_train.hex_model_python_1508939596978...</td>\n",
       "    </tr>\n",
       "    <tr>\n",
       "      <th>12</th>\n",
       "      <td>Grid_DeepLearning_ecg_discord_train.hex_model_python_1508939596978...</td>\n",
       "    </tr>\n",
       "    <tr>\n",
       "      <th>13</th>\n",
       "      <td>Grid_DeepLearning_ecg_discord_train.hex_model_python_1508939596978_4</td>\n",
       "    </tr>\n",
       "    <tr>\n",
       "      <th>14</th>\n",
       "      <td>Grid_DeepLearning_ecg_discord_train.hex_model_python_1508939596978...</td>\n",
       "    </tr>\n",
       "    <tr>\n",
       "      <th>15</th>\n",
       "      <td>Grid_DeepLearning_ecg_discord_train.hex_model_python_1508939596978...</td>\n",
       "    </tr>\n",
       "    <tr>\n",
       "      <th>16</th>\n",
       "      <td>Grid_DeepLearning_ecg_discord_train.hex_model_python_1508939596978...</td>\n",
       "    </tr>\n",
       "    <tr>\n",
       "      <th>17</th>\n",
       "      <td>Grid_DeepLearning_ecg_discord_train.hex_model_python_1508939596978...</td>\n",
       "    </tr>\n",
       "    <tr>\n",
       "      <th>18</th>\n",
       "      <td>Grid_DeepLearning_ecg_discord_train.hex_model_python_1508939596978...</td>\n",
       "    </tr>\n",
       "    <tr>\n",
       "      <th>19</th>\n",
       "      <td>Grid_DeepLearning_ecg_discord_train.hex_model_python_1508939596978...</td>\n",
       "    </tr>\n",
       "    <tr>\n",
       "      <th>20</th>\n",
       "      <td>Grid_DeepLearning_ecg_discord_train.hex_model_python_1508939596978...</td>\n",
       "    </tr>\n",
       "    <tr>\n",
       "      <th>21</th>\n",
       "      <td>Grid_DeepLearning_ecg_discord_train.hex_model_python_1508939596978...</td>\n",
       "    </tr>\n",
       "    <tr>\n",
       "      <th>22</th>\n",
       "      <td>Grid_DeepLearning_ecg_discord_train.hex_model_python_1508939596978...</td>\n",
       "    </tr>\n",
       "    <tr>\n",
       "      <th>23</th>\n",
       "      <td>Grid_DeepLearning_ecg_discord_train.hex_model_python_1508939596978...</td>\n",
       "    </tr>\n",
       "    <tr>\n",
       "      <th>24</th>\n",
       "      <td>Grid_DeepLearning_ecg_discord_train.hex_model_python_1508939596978...</td>\n",
       "    </tr>\n",
       "    <tr>\n",
       "      <th>25</th>\n",
       "      <td>Grid_DeepLearning_ecg_discord_train.hex_model_python_1508939596978...</td>\n",
       "    </tr>\n",
       "    <tr>\n",
       "      <th>26</th>\n",
       "      <td>Grid_DeepLearning_ecg_discord_train.hex_model_python_1508939596978...</td>\n",
       "    </tr>\n",
       "    <tr>\n",
       "      <th>27</th>\n",
       "      <td>Grid_DeepLearning_ecg_discord_train.hex_model_python_1508939596978...</td>\n",
       "    </tr>\n",
       "    <tr>\n",
       "      <th>28</th>\n",
       "      <td>Grid_DeepLearning_ecg_discord_train.hex_model_python_1508939596978...</td>\n",
       "    </tr>\n",
       "    <tr>\n",
       "      <th>29</th>\n",
       "      <td>Grid_DeepLearning_ecg_discord_train.hex_model_python_1508939596978...</td>\n",
       "    </tr>\n",
       "    <tr>\n",
       "      <th>...</th>\n",
       "      <td>...</td>\n",
       "    </tr>\n",
       "    <tr>\n",
       "      <th>343</th>\n",
       "      <td>modelmetrics_Grid_DeepLearning_ecg_discord_train3.hex_model_python...</td>\n",
       "    </tr>\n",
       "    <tr>\n",
       "      <th>344</th>\n",
       "      <td>modelmetrics_Grid_DeepLearning_ecg_discord_train3.hex_model_python...</td>\n",
       "    </tr>\n",
       "    <tr>\n",
       "      <th>345</th>\n",
       "      <td>modelmetrics_Grid_DeepLearning_ecg_discord_train3.hex_model_python...</td>\n",
       "    </tr>\n",
       "    <tr>\n",
       "      <th>346</th>\n",
       "      <td>modelmetrics_Grid_DeepLearning_ecg_discord_train3.hex_model_python...</td>\n",
       "    </tr>\n",
       "    <tr>\n",
       "      <th>347</th>\n",
       "      <td>modelmetrics_Grid_DeepLearning_ecg_discord_train3.hex_model_python...</td>\n",
       "    </tr>\n",
       "    <tr>\n",
       "      <th>348</th>\n",
       "      <td>modelmetrics_Grid_DeepLearning_ecg_discord_train3.hex_model_python...</td>\n",
       "    </tr>\n",
       "    <tr>\n",
       "      <th>349</th>\n",
       "      <td>modelmetrics_Grid_DeepLearning_ecg_discord_train3.hex_model_python...</td>\n",
       "    </tr>\n",
       "    <tr>\n",
       "      <th>350</th>\n",
       "      <td>modelmetrics_Grid_DeepLearning_ecg_discord_train3.hex_model_python...</td>\n",
       "    </tr>\n",
       "    <tr>\n",
       "      <th>351</th>\n",
       "      <td>modelmetrics_Grid_DeepLearning_ecg_discord_train3.hex_model_python...</td>\n",
       "    </tr>\n",
       "    <tr>\n",
       "      <th>352</th>\n",
       "      <td>modelmetrics_Grid_DeepLearning_ecg_discord_train3.hex_model_python...</td>\n",
       "    </tr>\n",
       "    <tr>\n",
       "      <th>353</th>\n",
       "      <td>modelmetrics_Grid_DeepLearning_ecg_discord_train3.hex_model_python...</td>\n",
       "    </tr>\n",
       "    <tr>\n",
       "      <th>354</th>\n",
       "      <td>modelmetrics_Grid_DeepLearning_ecg_discord_train3.hex_model_python...</td>\n",
       "    </tr>\n",
       "    <tr>\n",
       "      <th>355</th>\n",
       "      <td>modelmetrics_Grid_DeepLearning_ecg_discord_train3.hex_model_python...</td>\n",
       "    </tr>\n",
       "    <tr>\n",
       "      <th>356</th>\n",
       "      <td>modelmetrics_Grid_DeepLearning_ecg_discord_train3.hex_model_python...</td>\n",
       "    </tr>\n",
       "    <tr>\n",
       "      <th>357</th>\n",
       "      <td>modelmetrics_Grid_DeepLearning_ecg_discord_train3.hex_model_python...</td>\n",
       "    </tr>\n",
       "    <tr>\n",
       "      <th>358</th>\n",
       "      <td>modelmetrics_Grid_DeepLearning_ecg_discord_train3.hex_model_python...</td>\n",
       "    </tr>\n",
       "    <tr>\n",
       "      <th>359</th>\n",
       "      <td>modelmetrics_Grid_DeepLearning_ecg_discord_train3.hex_model_python...</td>\n",
       "    </tr>\n",
       "    <tr>\n",
       "      <th>360</th>\n",
       "      <td>modelmetrics_Grid_DeepLearning_ecg_discord_train3.hex_model_python...</td>\n",
       "    </tr>\n",
       "    <tr>\n",
       "      <th>361</th>\n",
       "      <td>modelmetrics_Grid_DeepLearning_ecg_discord_train3.hex_model_python...</td>\n",
       "    </tr>\n",
       "    <tr>\n",
       "      <th>362</th>\n",
       "      <td>modelmetrics_Grid_DeepLearning_ecg_discord_train3.hex_model_python...</td>\n",
       "    </tr>\n",
       "    <tr>\n",
       "      <th>363</th>\n",
       "      <td>modelmetrics_Grid_DeepLearning_ecg_discord_train3.hex_model_python...</td>\n",
       "    </tr>\n",
       "    <tr>\n",
       "      <th>364</th>\n",
       "      <td>modelmetrics_Grid_DeepLearning_ecg_discord_train3.hex_model_python...</td>\n",
       "    </tr>\n",
       "    <tr>\n",
       "      <th>365</th>\n",
       "      <td>modelmetrics_Grid_DeepLearning_ecg_discord_train3.hex_model_python...</td>\n",
       "    </tr>\n",
       "    <tr>\n",
       "      <th>366</th>\n",
       "      <td>modelmetrics_Grid_DeepLearning_ecg_discord_train3.hex_model_python...</td>\n",
       "    </tr>\n",
       "    <tr>\n",
       "      <th>367</th>\n",
       "      <td>modelmetrics_Grid_DeepLearning_ecg_discord_train3.hex_model_python...</td>\n",
       "    </tr>\n",
       "    <tr>\n",
       "      <th>368</th>\n",
       "      <td>modelmetrics_Grid_DeepLearning_ecg_discord_train3.hex_model_python...</td>\n",
       "    </tr>\n",
       "    <tr>\n",
       "      <th>369</th>\n",
       "      <td>predictions_83b1_DeepLearning_model_python_1508939596978_9_on_ecg_...</td>\n",
       "    </tr>\n",
       "    <tr>\n",
       "      <th>370</th>\n",
       "      <td>predictions_89aa_DeepLearning_model_python_1508939596978_5_on_ecg_...</td>\n",
       "    </tr>\n",
       "    <tr>\n",
       "      <th>371</th>\n",
       "      <td>predictions_9a15_DeepLearning_model_python_1508939596978_13_on_ecg...</td>\n",
       "    </tr>\n",
       "    <tr>\n",
       "      <th>372</th>\n",
       "      <td>reconstruction_error_baaf_DeepLearning_model_python_1508939596978_...</td>\n",
       "    </tr>\n",
       "  </tbody>\n",
       "</table>\n",
       "<p>373 rows × 1 columns</p>\n",
       "</div>"
      ],
      "text/plain": [
       "                                                                       key\n",
       "0                                DeepLearning_model_python_1508939596978_1\n",
       "1                               DeepLearning_model_python_1508939596978_10\n",
       "2                               DeepLearning_model_python_1508939596978_13\n",
       "3                               DeepLearning_model_python_1508939596978_14\n",
       "4                                DeepLearning_model_python_1508939596978_2\n",
       "5                                DeepLearning_model_python_1508939596978_5\n",
       "6                                DeepLearning_model_python_1508939596978_6\n",
       "7                                DeepLearning_model_python_1508939596978_9\n",
       "8     Grid_DeepLearning_ecg_discord_train.hex_model_python_1508939596978_3\n",
       "9    Grid_DeepLearning_ecg_discord_train.hex_model_python_1508939596978...\n",
       "10   Grid_DeepLearning_ecg_discord_train.hex_model_python_1508939596978...\n",
       "11   Grid_DeepLearning_ecg_discord_train.hex_model_python_1508939596978...\n",
       "12   Grid_DeepLearning_ecg_discord_train.hex_model_python_1508939596978...\n",
       "13    Grid_DeepLearning_ecg_discord_train.hex_model_python_1508939596978_4\n",
       "14   Grid_DeepLearning_ecg_discord_train.hex_model_python_1508939596978...\n",
       "15   Grid_DeepLearning_ecg_discord_train.hex_model_python_1508939596978...\n",
       "16   Grid_DeepLearning_ecg_discord_train.hex_model_python_1508939596978...\n",
       "17   Grid_DeepLearning_ecg_discord_train.hex_model_python_1508939596978...\n",
       "18   Grid_DeepLearning_ecg_discord_train.hex_model_python_1508939596978...\n",
       "19   Grid_DeepLearning_ecg_discord_train.hex_model_python_1508939596978...\n",
       "20   Grid_DeepLearning_ecg_discord_train.hex_model_python_1508939596978...\n",
       "21   Grid_DeepLearning_ecg_discord_train.hex_model_python_1508939596978...\n",
       "22   Grid_DeepLearning_ecg_discord_train.hex_model_python_1508939596978...\n",
       "23   Grid_DeepLearning_ecg_discord_train.hex_model_python_1508939596978...\n",
       "24   Grid_DeepLearning_ecg_discord_train.hex_model_python_1508939596978...\n",
       "25   Grid_DeepLearning_ecg_discord_train.hex_model_python_1508939596978...\n",
       "26   Grid_DeepLearning_ecg_discord_train.hex_model_python_1508939596978...\n",
       "27   Grid_DeepLearning_ecg_discord_train.hex_model_python_1508939596978...\n",
       "28   Grid_DeepLearning_ecg_discord_train.hex_model_python_1508939596978...\n",
       "29   Grid_DeepLearning_ecg_discord_train.hex_model_python_1508939596978...\n",
       "..                                                                     ...\n",
       "343  modelmetrics_Grid_DeepLearning_ecg_discord_train3.hex_model_python...\n",
       "344  modelmetrics_Grid_DeepLearning_ecg_discord_train3.hex_model_python...\n",
       "345  modelmetrics_Grid_DeepLearning_ecg_discord_train3.hex_model_python...\n",
       "346  modelmetrics_Grid_DeepLearning_ecg_discord_train3.hex_model_python...\n",
       "347  modelmetrics_Grid_DeepLearning_ecg_discord_train3.hex_model_python...\n",
       "348  modelmetrics_Grid_DeepLearning_ecg_discord_train3.hex_model_python...\n",
       "349  modelmetrics_Grid_DeepLearning_ecg_discord_train3.hex_model_python...\n",
       "350  modelmetrics_Grid_DeepLearning_ecg_discord_train3.hex_model_python...\n",
       "351  modelmetrics_Grid_DeepLearning_ecg_discord_train3.hex_model_python...\n",
       "352  modelmetrics_Grid_DeepLearning_ecg_discord_train3.hex_model_python...\n",
       "353  modelmetrics_Grid_DeepLearning_ecg_discord_train3.hex_model_python...\n",
       "354  modelmetrics_Grid_DeepLearning_ecg_discord_train3.hex_model_python...\n",
       "355  modelmetrics_Grid_DeepLearning_ecg_discord_train3.hex_model_python...\n",
       "356  modelmetrics_Grid_DeepLearning_ecg_discord_train3.hex_model_python...\n",
       "357  modelmetrics_Grid_DeepLearning_ecg_discord_train3.hex_model_python...\n",
       "358  modelmetrics_Grid_DeepLearning_ecg_discord_train3.hex_model_python...\n",
       "359  modelmetrics_Grid_DeepLearning_ecg_discord_train3.hex_model_python...\n",
       "360  modelmetrics_Grid_DeepLearning_ecg_discord_train3.hex_model_python...\n",
       "361  modelmetrics_Grid_DeepLearning_ecg_discord_train3.hex_model_python...\n",
       "362  modelmetrics_Grid_DeepLearning_ecg_discord_train3.hex_model_python...\n",
       "363  modelmetrics_Grid_DeepLearning_ecg_discord_train3.hex_model_python...\n",
       "364  modelmetrics_Grid_DeepLearning_ecg_discord_train3.hex_model_python...\n",
       "365  modelmetrics_Grid_DeepLearning_ecg_discord_train3.hex_model_python...\n",
       "366  modelmetrics_Grid_DeepLearning_ecg_discord_train3.hex_model_python...\n",
       "367  modelmetrics_Grid_DeepLearning_ecg_discord_train3.hex_model_python...\n",
       "368  modelmetrics_Grid_DeepLearning_ecg_discord_train3.hex_model_python...\n",
       "369  predictions_83b1_DeepLearning_model_python_1508939596978_9_on_ecg_...\n",
       "370  predictions_89aa_DeepLearning_model_python_1508939596978_5_on_ecg_...\n",
       "371  predictions_9a15_DeepLearning_model_python_1508939596978_13_on_ecg...\n",
       "372  reconstruction_error_baaf_DeepLearning_model_python_1508939596978_...\n",
       "\n",
       "[373 rows x 1 columns]"
      ]
     },
     "execution_count": 31,
     "metadata": {},
     "output_type": "execute_result"
    }
   ],
   "source": [
    "h2o.ls() #list files"
   ]
  },
  {
   "cell_type": "code",
   "execution_count": 32,
   "metadata": {
    "scrolled": true
   },
   "outputs": [
    {
     "name": "stdout",
     "output_type": "stream",
     "text": [
      "Parse progress: |█████████████████████████████████████████████████████████| 100%\n"
     ]
    },
    {
     "data": {
      "text/html": [
       "<table>\n",
       "<thead>\n",
       "<tr><th>Apache                         </th><th>License     </th></tr>\n",
       "</thead>\n",
       "<tbody>\n",
       "<tr><td>Version                        </td><td>2.0,        </td></tr>\n",
       "<tr><td>http://www.apache.org/licenses/</td><td>            </td></tr>\n",
       "<tr><td>TERMS                          </td><td>AND         </td></tr>\n",
       "<tr><td>1.                             </td><td>Definitions.</td></tr>\n",
       "<tr><td>License                        </td><td>shall       </td></tr>\n",
       "<tr><td>and                            </td><td>distribution</td></tr>\n",
       "<tr><td>Licensor                       </td><td>shall       </td></tr>\n",
       "<tr><td>the                            </td><td>copyright   </td></tr>\n",
       "<tr><td>Legal Entity                   </td><td>shall       </td></tr>\n",
       "<tr><td>other                          </td><td>entities    </td></tr>\n",
       "</tbody>\n",
       "</table>"
      ]
     },
     "metadata": {},
     "output_type": "display_data"
    },
    {
     "data": {
      "text/plain": []
     },
     "execution_count": 32,
     "metadata": {},
     "output_type": "execute_result"
    }
   ],
   "source": [
    "#Now lets import a file to H2o cluster\n",
    "\n",
    "h2o.import_file(\"LICENSE\")"
   ]
  },
  {
   "cell_type": "code",
   "execution_count": 34,
   "metadata": {},
   "outputs": [
    {
     "data": {
      "text/html": [
       "<div>\n",
       "<style>\n",
       "    .dataframe thead tr:only-child th {\n",
       "        text-align: right;\n",
       "    }\n",
       "\n",
       "    .dataframe thead th {\n",
       "        text-align: left;\n",
       "    }\n",
       "\n",
       "    .dataframe tbody tr th {\n",
       "        vertical-align: top;\n",
       "    }\n",
       "</style>\n",
       "<table border=\"1\" class=\"dataframe\">\n",
       "  <thead>\n",
       "    <tr style=\"text-align: right;\">\n",
       "      <th></th>\n",
       "      <th>key</th>\n",
       "    </tr>\n",
       "  </thead>\n",
       "  <tbody>\n",
       "    <tr>\n",
       "      <th>0</th>\n",
       "      <td>DeepLearning_model_python_1508939596978_1</td>\n",
       "    </tr>\n",
       "    <tr>\n",
       "      <th>1</th>\n",
       "      <td>DeepLearning_model_python_1508939596978_10</td>\n",
       "    </tr>\n",
       "    <tr>\n",
       "      <th>2</th>\n",
       "      <td>DeepLearning_model_python_1508939596978_13</td>\n",
       "    </tr>\n",
       "    <tr>\n",
       "      <th>3</th>\n",
       "      <td>DeepLearning_model_python_1508939596978_14</td>\n",
       "    </tr>\n",
       "    <tr>\n",
       "      <th>4</th>\n",
       "      <td>DeepLearning_model_python_1508939596978_2</td>\n",
       "    </tr>\n",
       "    <tr>\n",
       "      <th>5</th>\n",
       "      <td>DeepLearning_model_python_1508939596978_5</td>\n",
       "    </tr>\n",
       "    <tr>\n",
       "      <th>6</th>\n",
       "      <td>DeepLearning_model_python_1508939596978_6</td>\n",
       "    </tr>\n",
       "    <tr>\n",
       "      <th>7</th>\n",
       "      <td>DeepLearning_model_python_1508939596978_9</td>\n",
       "    </tr>\n",
       "    <tr>\n",
       "      <th>8</th>\n",
       "      <td>Grid_DeepLearning_ecg_discord_train.hex_model_python_1508939596978_3</td>\n",
       "    </tr>\n",
       "    <tr>\n",
       "      <th>9</th>\n",
       "      <td>Grid_DeepLearning_ecg_discord_train.hex_model_python_1508939596978...</td>\n",
       "    </tr>\n",
       "    <tr>\n",
       "      <th>10</th>\n",
       "      <td>Grid_DeepLearning_ecg_discord_train.hex_model_python_1508939596978...</td>\n",
       "    </tr>\n",
       "    <tr>\n",
       "      <th>11</th>\n",
       "      <td>Grid_DeepLearning_ecg_discord_train.hex_model_python_1508939596978...</td>\n",
       "    </tr>\n",
       "    <tr>\n",
       "      <th>12</th>\n",
       "      <td>Grid_DeepLearning_ecg_discord_train.hex_model_python_1508939596978...</td>\n",
       "    </tr>\n",
       "    <tr>\n",
       "      <th>13</th>\n",
       "      <td>Grid_DeepLearning_ecg_discord_train.hex_model_python_1508939596978_4</td>\n",
       "    </tr>\n",
       "    <tr>\n",
       "      <th>14</th>\n",
       "      <td>Grid_DeepLearning_ecg_discord_train.hex_model_python_1508939596978...</td>\n",
       "    </tr>\n",
       "    <tr>\n",
       "      <th>15</th>\n",
       "      <td>Grid_DeepLearning_ecg_discord_train.hex_model_python_1508939596978...</td>\n",
       "    </tr>\n",
       "    <tr>\n",
       "      <th>16</th>\n",
       "      <td>Grid_DeepLearning_ecg_discord_train.hex_model_python_1508939596978...</td>\n",
       "    </tr>\n",
       "    <tr>\n",
       "      <th>17</th>\n",
       "      <td>Grid_DeepLearning_ecg_discord_train.hex_model_python_1508939596978...</td>\n",
       "    </tr>\n",
       "    <tr>\n",
       "      <th>18</th>\n",
       "      <td>Grid_DeepLearning_ecg_discord_train.hex_model_python_1508939596978...</td>\n",
       "    </tr>\n",
       "    <tr>\n",
       "      <th>19</th>\n",
       "      <td>Grid_DeepLearning_ecg_discord_train.hex_model_python_1508939596978...</td>\n",
       "    </tr>\n",
       "    <tr>\n",
       "      <th>20</th>\n",
       "      <td>Grid_DeepLearning_ecg_discord_train.hex_model_python_1508939596978...</td>\n",
       "    </tr>\n",
       "    <tr>\n",
       "      <th>21</th>\n",
       "      <td>Grid_DeepLearning_ecg_discord_train.hex_model_python_1508939596978...</td>\n",
       "    </tr>\n",
       "    <tr>\n",
       "      <th>22</th>\n",
       "      <td>Grid_DeepLearning_ecg_discord_train.hex_model_python_1508939596978...</td>\n",
       "    </tr>\n",
       "    <tr>\n",
       "      <th>23</th>\n",
       "      <td>Grid_DeepLearning_ecg_discord_train.hex_model_python_1508939596978...</td>\n",
       "    </tr>\n",
       "    <tr>\n",
       "      <th>24</th>\n",
       "      <td>Grid_DeepLearning_ecg_discord_train.hex_model_python_1508939596978...</td>\n",
       "    </tr>\n",
       "    <tr>\n",
       "      <th>25</th>\n",
       "      <td>Grid_DeepLearning_ecg_discord_train.hex_model_python_1508939596978...</td>\n",
       "    </tr>\n",
       "    <tr>\n",
       "      <th>26</th>\n",
       "      <td>Grid_DeepLearning_ecg_discord_train.hex_model_python_1508939596978...</td>\n",
       "    </tr>\n",
       "    <tr>\n",
       "      <th>27</th>\n",
       "      <td>Grid_DeepLearning_ecg_discord_train.hex_model_python_1508939596978...</td>\n",
       "    </tr>\n",
       "    <tr>\n",
       "      <th>28</th>\n",
       "      <td>Grid_DeepLearning_ecg_discord_train.hex_model_python_1508939596978...</td>\n",
       "    </tr>\n",
       "    <tr>\n",
       "      <th>29</th>\n",
       "      <td>Grid_DeepLearning_ecg_discord_train.hex_model_python_1508939596978...</td>\n",
       "    </tr>\n",
       "    <tr>\n",
       "      <th>...</th>\n",
       "      <td>...</td>\n",
       "    </tr>\n",
       "    <tr>\n",
       "      <th>344</th>\n",
       "      <td>modelmetrics_Grid_DeepLearning_ecg_discord_train3.hex_model_python...</td>\n",
       "    </tr>\n",
       "    <tr>\n",
       "      <th>345</th>\n",
       "      <td>modelmetrics_Grid_DeepLearning_ecg_discord_train3.hex_model_python...</td>\n",
       "    </tr>\n",
       "    <tr>\n",
       "      <th>346</th>\n",
       "      <td>modelmetrics_Grid_DeepLearning_ecg_discord_train3.hex_model_python...</td>\n",
       "    </tr>\n",
       "    <tr>\n",
       "      <th>347</th>\n",
       "      <td>modelmetrics_Grid_DeepLearning_ecg_discord_train3.hex_model_python...</td>\n",
       "    </tr>\n",
       "    <tr>\n",
       "      <th>348</th>\n",
       "      <td>modelmetrics_Grid_DeepLearning_ecg_discord_train3.hex_model_python...</td>\n",
       "    </tr>\n",
       "    <tr>\n",
       "      <th>349</th>\n",
       "      <td>modelmetrics_Grid_DeepLearning_ecg_discord_train3.hex_model_python...</td>\n",
       "    </tr>\n",
       "    <tr>\n",
       "      <th>350</th>\n",
       "      <td>modelmetrics_Grid_DeepLearning_ecg_discord_train3.hex_model_python...</td>\n",
       "    </tr>\n",
       "    <tr>\n",
       "      <th>351</th>\n",
       "      <td>modelmetrics_Grid_DeepLearning_ecg_discord_train3.hex_model_python...</td>\n",
       "    </tr>\n",
       "    <tr>\n",
       "      <th>352</th>\n",
       "      <td>modelmetrics_Grid_DeepLearning_ecg_discord_train3.hex_model_python...</td>\n",
       "    </tr>\n",
       "    <tr>\n",
       "      <th>353</th>\n",
       "      <td>modelmetrics_Grid_DeepLearning_ecg_discord_train3.hex_model_python...</td>\n",
       "    </tr>\n",
       "    <tr>\n",
       "      <th>354</th>\n",
       "      <td>modelmetrics_Grid_DeepLearning_ecg_discord_train3.hex_model_python...</td>\n",
       "    </tr>\n",
       "    <tr>\n",
       "      <th>355</th>\n",
       "      <td>modelmetrics_Grid_DeepLearning_ecg_discord_train3.hex_model_python...</td>\n",
       "    </tr>\n",
       "    <tr>\n",
       "      <th>356</th>\n",
       "      <td>modelmetrics_Grid_DeepLearning_ecg_discord_train3.hex_model_python...</td>\n",
       "    </tr>\n",
       "    <tr>\n",
       "      <th>357</th>\n",
       "      <td>modelmetrics_Grid_DeepLearning_ecg_discord_train3.hex_model_python...</td>\n",
       "    </tr>\n",
       "    <tr>\n",
       "      <th>358</th>\n",
       "      <td>modelmetrics_Grid_DeepLearning_ecg_discord_train3.hex_model_python...</td>\n",
       "    </tr>\n",
       "    <tr>\n",
       "      <th>359</th>\n",
       "      <td>modelmetrics_Grid_DeepLearning_ecg_discord_train3.hex_model_python...</td>\n",
       "    </tr>\n",
       "    <tr>\n",
       "      <th>360</th>\n",
       "      <td>modelmetrics_Grid_DeepLearning_ecg_discord_train3.hex_model_python...</td>\n",
       "    </tr>\n",
       "    <tr>\n",
       "      <th>361</th>\n",
       "      <td>modelmetrics_Grid_DeepLearning_ecg_discord_train3.hex_model_python...</td>\n",
       "    </tr>\n",
       "    <tr>\n",
       "      <th>362</th>\n",
       "      <td>modelmetrics_Grid_DeepLearning_ecg_discord_train3.hex_model_python...</td>\n",
       "    </tr>\n",
       "    <tr>\n",
       "      <th>363</th>\n",
       "      <td>modelmetrics_Grid_DeepLearning_ecg_discord_train3.hex_model_python...</td>\n",
       "    </tr>\n",
       "    <tr>\n",
       "      <th>364</th>\n",
       "      <td>modelmetrics_Grid_DeepLearning_ecg_discord_train3.hex_model_python...</td>\n",
       "    </tr>\n",
       "    <tr>\n",
       "      <th>365</th>\n",
       "      <td>modelmetrics_Grid_DeepLearning_ecg_discord_train3.hex_model_python...</td>\n",
       "    </tr>\n",
       "    <tr>\n",
       "      <th>366</th>\n",
       "      <td>modelmetrics_Grid_DeepLearning_ecg_discord_train3.hex_model_python...</td>\n",
       "    </tr>\n",
       "    <tr>\n",
       "      <th>367</th>\n",
       "      <td>modelmetrics_Grid_DeepLearning_ecg_discord_train3.hex_model_python...</td>\n",
       "    </tr>\n",
       "    <tr>\n",
       "      <th>368</th>\n",
       "      <td>modelmetrics_Grid_DeepLearning_ecg_discord_train3.hex_model_python...</td>\n",
       "    </tr>\n",
       "    <tr>\n",
       "      <th>369</th>\n",
       "      <td>modelmetrics_Grid_DeepLearning_ecg_discord_train3.hex_model_python...</td>\n",
       "    </tr>\n",
       "    <tr>\n",
       "      <th>370</th>\n",
       "      <td>predictions_83b1_DeepLearning_model_python_1508939596978_9_on_ecg_...</td>\n",
       "    </tr>\n",
       "    <tr>\n",
       "      <th>371</th>\n",
       "      <td>predictions_89aa_DeepLearning_model_python_1508939596978_5_on_ecg_...</td>\n",
       "    </tr>\n",
       "    <tr>\n",
       "      <th>372</th>\n",
       "      <td>predictions_9a15_DeepLearning_model_python_1508939596978_13_on_ecg...</td>\n",
       "    </tr>\n",
       "    <tr>\n",
       "      <th>373</th>\n",
       "      <td>reconstruction_error_baaf_DeepLearning_model_python_1508939596978_...</td>\n",
       "    </tr>\n",
       "  </tbody>\n",
       "</table>\n",
       "<p>374 rows × 1 columns</p>\n",
       "</div>"
      ],
      "text/plain": [
       "                                                                       key\n",
       "0                                DeepLearning_model_python_1508939596978_1\n",
       "1                               DeepLearning_model_python_1508939596978_10\n",
       "2                               DeepLearning_model_python_1508939596978_13\n",
       "3                               DeepLearning_model_python_1508939596978_14\n",
       "4                                DeepLearning_model_python_1508939596978_2\n",
       "5                                DeepLearning_model_python_1508939596978_5\n",
       "6                                DeepLearning_model_python_1508939596978_6\n",
       "7                                DeepLearning_model_python_1508939596978_9\n",
       "8     Grid_DeepLearning_ecg_discord_train.hex_model_python_1508939596978_3\n",
       "9    Grid_DeepLearning_ecg_discord_train.hex_model_python_1508939596978...\n",
       "10   Grid_DeepLearning_ecg_discord_train.hex_model_python_1508939596978...\n",
       "11   Grid_DeepLearning_ecg_discord_train.hex_model_python_1508939596978...\n",
       "12   Grid_DeepLearning_ecg_discord_train.hex_model_python_1508939596978...\n",
       "13    Grid_DeepLearning_ecg_discord_train.hex_model_python_1508939596978_4\n",
       "14   Grid_DeepLearning_ecg_discord_train.hex_model_python_1508939596978...\n",
       "15   Grid_DeepLearning_ecg_discord_train.hex_model_python_1508939596978...\n",
       "16   Grid_DeepLearning_ecg_discord_train.hex_model_python_1508939596978...\n",
       "17   Grid_DeepLearning_ecg_discord_train.hex_model_python_1508939596978...\n",
       "18   Grid_DeepLearning_ecg_discord_train.hex_model_python_1508939596978...\n",
       "19   Grid_DeepLearning_ecg_discord_train.hex_model_python_1508939596978...\n",
       "20   Grid_DeepLearning_ecg_discord_train.hex_model_python_1508939596978...\n",
       "21   Grid_DeepLearning_ecg_discord_train.hex_model_python_1508939596978...\n",
       "22   Grid_DeepLearning_ecg_discord_train.hex_model_python_1508939596978...\n",
       "23   Grid_DeepLearning_ecg_discord_train.hex_model_python_1508939596978...\n",
       "24   Grid_DeepLearning_ecg_discord_train.hex_model_python_1508939596978...\n",
       "25   Grid_DeepLearning_ecg_discord_train.hex_model_python_1508939596978...\n",
       "26   Grid_DeepLearning_ecg_discord_train.hex_model_python_1508939596978...\n",
       "27   Grid_DeepLearning_ecg_discord_train.hex_model_python_1508939596978...\n",
       "28   Grid_DeepLearning_ecg_discord_train.hex_model_python_1508939596978...\n",
       "29   Grid_DeepLearning_ecg_discord_train.hex_model_python_1508939596978...\n",
       "..                                                                     ...\n",
       "344  modelmetrics_Grid_DeepLearning_ecg_discord_train3.hex_model_python...\n",
       "345  modelmetrics_Grid_DeepLearning_ecg_discord_train3.hex_model_python...\n",
       "346  modelmetrics_Grid_DeepLearning_ecg_discord_train3.hex_model_python...\n",
       "347  modelmetrics_Grid_DeepLearning_ecg_discord_train3.hex_model_python...\n",
       "348  modelmetrics_Grid_DeepLearning_ecg_discord_train3.hex_model_python...\n",
       "349  modelmetrics_Grid_DeepLearning_ecg_discord_train3.hex_model_python...\n",
       "350  modelmetrics_Grid_DeepLearning_ecg_discord_train3.hex_model_python...\n",
       "351  modelmetrics_Grid_DeepLearning_ecg_discord_train3.hex_model_python...\n",
       "352  modelmetrics_Grid_DeepLearning_ecg_discord_train3.hex_model_python...\n",
       "353  modelmetrics_Grid_DeepLearning_ecg_discord_train3.hex_model_python...\n",
       "354  modelmetrics_Grid_DeepLearning_ecg_discord_train3.hex_model_python...\n",
       "355  modelmetrics_Grid_DeepLearning_ecg_discord_train3.hex_model_python...\n",
       "356  modelmetrics_Grid_DeepLearning_ecg_discord_train3.hex_model_python...\n",
       "357  modelmetrics_Grid_DeepLearning_ecg_discord_train3.hex_model_python...\n",
       "358  modelmetrics_Grid_DeepLearning_ecg_discord_train3.hex_model_python...\n",
       "359  modelmetrics_Grid_DeepLearning_ecg_discord_train3.hex_model_python...\n",
       "360  modelmetrics_Grid_DeepLearning_ecg_discord_train3.hex_model_python...\n",
       "361  modelmetrics_Grid_DeepLearning_ecg_discord_train3.hex_model_python...\n",
       "362  modelmetrics_Grid_DeepLearning_ecg_discord_train3.hex_model_python...\n",
       "363  modelmetrics_Grid_DeepLearning_ecg_discord_train3.hex_model_python...\n",
       "364  modelmetrics_Grid_DeepLearning_ecg_discord_train3.hex_model_python...\n",
       "365  modelmetrics_Grid_DeepLearning_ecg_discord_train3.hex_model_python...\n",
       "366  modelmetrics_Grid_DeepLearning_ecg_discord_train3.hex_model_python...\n",
       "367  modelmetrics_Grid_DeepLearning_ecg_discord_train3.hex_model_python...\n",
       "368  modelmetrics_Grid_DeepLearning_ecg_discord_train3.hex_model_python...\n",
       "369  modelmetrics_Grid_DeepLearning_ecg_discord_train3.hex_model_python...\n",
       "370  predictions_83b1_DeepLearning_model_python_1508939596978_9_on_ecg_...\n",
       "371  predictions_89aa_DeepLearning_model_python_1508939596978_5_on_ecg_...\n",
       "372  predictions_9a15_DeepLearning_model_python_1508939596978_13_on_ecg...\n",
       "373  reconstruction_error_baaf_DeepLearning_model_python_1508939596978_...\n",
       "\n",
       "[374 rows x 1 columns]"
      ]
     },
     "execution_count": 34,
     "metadata": {},
     "output_type": "execute_result"
    }
   ],
   "source": [
    "h2o.ls() #first let us see if License1 file is actually present in cluster"
   ]
  },
  {
   "cell_type": "code",
   "execution_count": 35,
   "metadata": {
    "collapsed": true
   },
   "outputs": [],
   "source": [
    "#h2o.remove(\"LICENSE1.hex\") #REMOVE THE LICENSE FILE\n",
    "h2o.remove(\"LICENSE\")"
   ]
  },
  {
   "cell_type": "code",
   "execution_count": null,
   "metadata": {
    "collapsed": true
   },
   "outputs": [],
   "source": [
    "h2o.ls()"
   ]
  },
  {
   "cell_type": "code",
   "execution_count": 36,
   "metadata": {
    "scrolled": true
   },
   "outputs": [
    {
     "name": "stdout",
     "output_type": "stream",
     "text": [
      "Help on function import_file in module h2o.h2o:\n",
      "\n",
      "import_file(path=None, destination_frame=None, parse=True, header=0, sep=None, col_names=None, col_types=None, na_strings=None, pattern=None)\n",
      "    Import a dataset that is already on the cluster.\n",
      "    \n",
      "    The path to the data must be a valid path for each node in the H2O cluster. If some node in the H2O cluster\n",
      "    cannot see the file, then an exception will be thrown by the H2O cluster. Does a parallel/distributed\n",
      "    multi-threaded pull of the data. The main difference between this method and :func:`upload_file` is that\n",
      "    the latter works with local files, whereas this method imports remote files (i.e. files local to the server).\n",
      "    If you running H2O server on your own maching, then both methods behave the same.\n",
      "    \n",
      "    :param path: path(s) specifying the location of the data to import or a path to a directory of files to import\n",
      "    :param destination_frame: The unique hex key assigned to the imported file. If none is given, a key will be\n",
      "        automatically generated.\n",
      "    :param parse: If True, the file should be parsed after import.\n",
      "    :param header: -1 means the first line is data, 0 means guess, 1 means first line is header.\n",
      "    :param sep: The field separator character. Values on each line of the file are separated by\n",
      "        this character. If not provided, the parser will automatically detect the separator.\n",
      "    :param col_names: A list of column names for the file.\n",
      "    :param col_types: A list of types or a dictionary of column names to types to specify whether columns\n",
      "        should be forced to a certain type upon import parsing. If a list, the types for elements that are\n",
      "        one will be guessed. The possible types a column may have are:\n",
      "    \n",
      "        - \"unknown\" - this will force the column to be parsed as all NA\n",
      "        - \"uuid\"    - the values in the column must be true UUID or will be parsed as NA\n",
      "        - \"string\"  - force the column to be parsed as a string\n",
      "        - \"numeric\" - force the column to be parsed as numeric. H2O will handle the compression of the numeric\n",
      "          data in the optimal manner.\n",
      "        - \"enum\"    - force the column to be parsed as a categorical column.\n",
      "        - \"time\"    - force the column to be parsed as a time column. H2O will attempt to parse the following\n",
      "          list of date time formats: (date) \"yyyy-MM-dd\", \"yyyy MM dd\", \"dd-MMM-yy\", \"dd MMM yy\", (time)\n",
      "          \"HH:mm:ss\", \"HH:mm:ss:SSS\", \"HH:mm:ss:SSSnnnnnn\", \"HH.mm.ss\" \"HH.mm.ss.SSS\", \"HH.mm.ss.SSSnnnnnn\".\n",
      "          Times can also contain \"AM\" or \"PM\".\n",
      "    :param na_strings: A list of strings, or a list of lists of strings (one list per column), or a dictionary\n",
      "        of column names to strings which are to be interpreted as missing values.\n",
      "    :param pattern: Character string containing a regular expression to match file(s) in the folder if `path` is a\n",
      "        directory.\n",
      "    \n",
      "    :returns: a new :class:`H2OFrame` instance.\n",
      "    \n",
      "    :examples:\n",
      "        >>> # Single file import\n",
      "        >>> iris = import_file(\"h2o-3/smalldata/iris.csv\")\n",
      "        >>> # Return all files in the folder iris/ matching the regex r\"iris_.*\\.csv\"\n",
      "        >>> iris_pattern = h2o.import_file(path = \"h2o-3/smalldata/iris\",\n",
      "        ...                                pattern = \"iris_.*\\.csv\")\n",
      "\n"
     ]
    }
   ],
   "source": [
    "help(h2o.import_file)"
   ]
  },
  {
   "cell_type": "markdown",
   "metadata": {},
   "source": [
    "Lets load the ECG training dataset"
   ]
  },
  {
   "cell_type": "code",
   "execution_count": 37,
   "metadata": {
    "collapsed": true
   },
   "outputs": [
    {
     "name": "stdout",
     "output_type": "stream",
     "text": [
      "Parse progress: |█████████████████████████████████████████████████████████| 100%\n"
     ]
    },
    {
     "data": {
      "text/html": [
       "<table>\n",
       "<thead>\n",
       "<tr><th>       </th><th>C1               </th><th>C2                </th><th>C3                </th><th>C4                </th><th>C5                </th><th>C6                </th><th>C7                </th><th>C8                </th><th>C9                </th><th>C10              </th><th>C11               </th><th>C12               </th><th>C13               </th><th>C14               </th><th>C15               </th><th>C16               </th><th>C17               </th><th>C18               </th><th>C19               </th><th>C20               </th><th>C21               </th><th>C22               </th><th>C23               </th><th>C24                </th><th>C25                </th><th>C26                </th><th>C27               </th><th>C28               </th><th>C29              </th><th>C30               </th><th>C31               </th><th>C32                </th><th>C33               </th><th>C34               </th><th>C35              </th><th>C36               </th><th>C37              </th><th>C38               </th><th>C39               </th><th>C40               </th><th>C41               </th><th>C42               </th><th>C43               </th><th>C44               </th><th>C45               </th><th>C46               </th><th>C47               </th><th>C48               </th><th>C49               </th><th>C50               </th><th>C51               </th><th>C52               </th><th>C53               </th><th>C54               </th><th>C55               </th><th>C56               </th><th>C57               </th><th>C58               </th><th>C59               </th><th>C60               </th><th>C61               </th><th>C62               </th><th>C63               </th><th>C64               </th><th>C65               </th><th>C66               </th><th>C67               </th><th>C68               </th><th>C69                </th><th>C70                </th><th>C71                </th><th>C72               </th><th>C73               </th><th>C74               </th><th>C75                </th><th>C76                </th><th>C77                </th><th>C78                </th><th>C79                </th><th>C80               </th><th>C81                </th><th>C82                </th><th>C83                </th><th>C84                </th><th>C85               </th><th>C86                </th><th>C87                </th><th>C88                </th><th>C89                </th><th>C90               </th><th>C91                </th><th>C92                </th><th>C93                </th><th>C94                </th><th>C95                </th><th>C96               </th><th>C97                </th><th>C98                </th><th>C99                </th><th>C100              </th><th>C101               </th><th>C102              </th><th>C103               </th><th>C104               </th><th>C105               </th><th>C106               </th><th>C107               </th><th>C108               </th><th>C109               </th><th>C110               </th><th>C111               </th><th>C112               </th><th>C113               </th><th>C114              </th><th>C115               </th><th>C116               </th><th>C117               </th><th>C118               </th><th>C119               </th><th>C120               </th><th>C121               </th><th>C122               </th><th>C123               </th><th>C124               </th><th>C125               </th><th>C126               </th><th>C127              </th><th>C128               </th><th>C129               </th><th>C130               </th><th>C131              </th><th>C132               </th><th>C133               </th><th>C134              </th><th>C135               </th><th>C136               </th><th>C137               </th><th>C138               </th><th>C139               </th><th>C140               </th><th>C141               </th><th>C142               </th><th>C143               </th><th>C144              </th><th>C145              </th><th>C146              </th><th>C147              </th><th>C148              </th><th>C149              </th><th>C150              </th><th>C151              </th><th>C152              </th><th>C153              </th><th>C154              </th><th>C155              </th><th>C156              </th><th>C157              </th><th>C158              </th><th>C159              </th><th>C160              </th><th>C161              </th><th>C162              </th><th>C163              </th><th>C164              </th><th>C165              </th><th>C166              </th><th>C167              </th><th>C168             </th><th>C169              </th><th>C170              </th><th>C171              </th><th>C172              </th><th>C173              </th><th>C174              </th><th>C175              </th><th>C176              </th><th>C177              </th><th>C178              </th><th>C179              </th><th>C180              </th><th>C181              </th><th>C182              </th><th>C183              </th><th>C184              </th><th>C185              </th><th>C186              </th><th>C187              </th><th>C188              </th><th>C189              </th><th>C190              </th><th>C191              </th><th>C192              </th><th>C193              </th><th>C194              </th><th>C195              </th><th>C196              </th><th>C197              </th><th>C198              </th><th>C199              </th><th>C200              </th><th>C201              </th><th>C202              </th><th>C203              </th><th>C204              </th><th>C205              </th><th>C206              </th><th>C207              </th><th>C208              </th><th>C209              </th><th>C210              </th></tr>\n",
       "</thead>\n",
       "<tbody>\n",
       "<tr><td>type   </td><td>real             </td><td>real              </td><td>real              </td><td>real              </td><td>real              </td><td>real              </td><td>real              </td><td>real              </td><td>real              </td><td>real             </td><td>real              </td><td>real              </td><td>real              </td><td>real              </td><td>real              </td><td>real              </td><td>real              </td><td>real              </td><td>real              </td><td>real              </td><td>real              </td><td>real              </td><td>real              </td><td>real               </td><td>real               </td><td>real               </td><td>real              </td><td>real              </td><td>real             </td><td>real              </td><td>real              </td><td>real               </td><td>real              </td><td>real              </td><td>real             </td><td>real              </td><td>real             </td><td>real              </td><td>real              </td><td>real              </td><td>real              </td><td>real              </td><td>real              </td><td>real              </td><td>real              </td><td>real              </td><td>real              </td><td>real              </td><td>real              </td><td>real              </td><td>real              </td><td>real              </td><td>real              </td><td>real              </td><td>real              </td><td>real              </td><td>real              </td><td>real              </td><td>real              </td><td>real              </td><td>real              </td><td>real              </td><td>real              </td><td>real              </td><td>real              </td><td>real              </td><td>real              </td><td>real              </td><td>real               </td><td>real               </td><td>real               </td><td>real              </td><td>real              </td><td>real              </td><td>real               </td><td>real               </td><td>real               </td><td>real               </td><td>real               </td><td>real              </td><td>real               </td><td>real               </td><td>real               </td><td>real               </td><td>real              </td><td>real               </td><td>real               </td><td>real               </td><td>real               </td><td>real              </td><td>real               </td><td>real               </td><td>real               </td><td>real               </td><td>real               </td><td>real              </td><td>real               </td><td>real               </td><td>real               </td><td>real              </td><td>real               </td><td>real              </td><td>real               </td><td>real               </td><td>real               </td><td>real               </td><td>real               </td><td>real               </td><td>real               </td><td>real               </td><td>real               </td><td>real               </td><td>real               </td><td>real              </td><td>real               </td><td>real               </td><td>real               </td><td>real               </td><td>real               </td><td>real               </td><td>real               </td><td>real               </td><td>real               </td><td>real               </td><td>real               </td><td>real               </td><td>real              </td><td>real               </td><td>real               </td><td>real               </td><td>real              </td><td>real               </td><td>real               </td><td>real              </td><td>real               </td><td>real               </td><td>real               </td><td>real               </td><td>real               </td><td>real               </td><td>real               </td><td>real               </td><td>real               </td><td>real              </td><td>real              </td><td>real              </td><td>real              </td><td>real              </td><td>real              </td><td>real              </td><td>real              </td><td>real              </td><td>real              </td><td>real              </td><td>real              </td><td>real              </td><td>real              </td><td>real              </td><td>real              </td><td>real              </td><td>real              </td><td>real              </td><td>real              </td><td>real              </td><td>real              </td><td>real              </td><td>real              </td><td>real             </td><td>real              </td><td>real              </td><td>real              </td><td>real              </td><td>real              </td><td>real              </td><td>real              </td><td>real              </td><td>real              </td><td>real              </td><td>real              </td><td>real              </td><td>real              </td><td>real              </td><td>real              </td><td>real              </td><td>real              </td><td>real              </td><td>real              </td><td>real              </td><td>real              </td><td>real              </td><td>real              </td><td>real              </td><td>real              </td><td>real              </td><td>real              </td><td>real              </td><td>real              </td><td>real              </td><td>real              </td><td>real              </td><td>real              </td><td>real              </td><td>real              </td><td>real              </td><td>real              </td><td>real              </td><td>real              </td><td>real              </td><td>real              </td><td>real              </td></tr>\n",
       "<tr><td>mins   </td><td>2.05             </td><td>2.04              </td><td>2.0300000000000002</td><td>2.02              </td><td>2.0300000000000002</td><td>2.04              </td><td>2.05              </td><td>2.09              </td><td>2.14              </td><td>2.22             </td><td>2.35              </td><td>2.5300000000000002</td><td>2.7600000000000002</td><td>3.04              </td><td>3.36              </td><td>3.69              </td><td>4.0               </td><td>4.32              </td><td>4.6000000000000005</td><td>4.86              </td><td>4.94              </td><td>5.3100000000000005</td><td>5.51              </td><td>5.65               </td><td>5.75               </td><td>5.73               </td><td>5.65              </td><td>5.59              </td><td>5.54             </td><td>5.51              </td><td>5.47              </td><td>5.43               </td><td>5.39              </td><td>5.39              </td><td>5.33             </td><td>5.29              </td><td>5.26             </td><td>5.25              </td><td>5.23              </td><td>5.2               </td><td>5.17              </td><td>5.16              </td><td>5.16              </td><td>5.13              </td><td>5.11              </td><td>5.11              </td><td>5.1000000000000005</td><td>5.09              </td><td>5.09              </td><td>5.09              </td><td>5.09              </td><td>5.11              </td><td>5.09              </td><td>5.09              </td><td>5.08              </td><td>5.08              </td><td>5.09              </td><td>5.08              </td><td>5.07              </td><td>5.08              </td><td>5.08              </td><td>5.09              </td><td>5.08              </td><td>5.08              </td><td>5.08              </td><td>5.09              </td><td>5.09              </td><td>5.08              </td><td>5.08               </td><td>5.08               </td><td>5.09               </td><td>5.08              </td><td>5.08              </td><td>5.09              </td><td>5.07               </td><td>5.0600000000000005 </td><td>5.0600000000000005 </td><td>5.07               </td><td>5.0600000000000005 </td><td>5.05              </td><td>5.04               </td><td>5.05               </td><td>5.05               </td><td>5.0200000000000005 </td><td>5.0200000000000005</td><td>5.0200000000000005 </td><td>5.0200000000000005 </td><td>5.0                </td><td>4.99               </td><td>5.0               </td><td>5.0                </td><td>5.0                </td><td>4.98               </td><td>4.98               </td><td>4.98               </td><td>4.97              </td><td>4.97               </td><td>4.97               </td><td>4.96               </td><td>4.96              </td><td>4.96               </td><td>4.95              </td><td>4.95               </td><td>4.96               </td><td>4.95               </td><td>4.95               </td><td>4.94               </td><td>4.96               </td><td>4.94               </td><td>4.94               </td><td>4.94               </td><td>4.94               </td><td>4.93               </td><td>4.94              </td><td>4.93               </td><td>4.94               </td><td>4.93               </td><td>4.94               </td><td>4.92               </td><td>4.93               </td><td>4.93               </td><td>4.91               </td><td>4.92               </td><td>4.92               </td><td>4.91               </td><td>4.92               </td><td>4.92              </td><td>4.92               </td><td>4.9                </td><td>4.92               </td><td>4.91              </td><td>4.91               </td><td>4.91               </td><td>4.9               </td><td>4.9                </td><td>4.9                </td><td>4.87               </td><td>4.88               </td><td>4.9                </td><td>4.8                </td><td>4.47               </td><td>4.1                </td><td>3.73               </td><td>3.36              </td><td>3.0300000000000002</td><td>2.7800000000000002</td><td>2.58              </td><td>2.47              </td><td>2.37              </td><td>2.23              </td><td>2.15              </td><td>2.12              </td><td>2.1               </td><td>2.07              </td><td>2.04              </td><td>2.06              </td><td>2.05              </td><td>2.06              </td><td>2.06              </td><td>2.05              </td><td>2.04              </td><td>2.04              </td><td>2.04              </td><td>2.05              </td><td>2.0300000000000002</td><td>2.02              </td><td>2.02              </td><td>2.02             </td><td>2.0               </td><td>2.0100000000000002</td><td>2.02              </td><td>2.04              </td><td>2.04              </td><td>2.02              </td><td>1.99              </td><td>2.0100000000000002</td><td>2.0100000000000002</td><td>2.02              </td><td>2.0100000000000002</td><td>2.02              </td><td>2.0               </td><td>2.02              </td><td>2.0               </td><td>2.0               </td><td>2.0               </td><td>2.0300000000000002</td><td>2.0300000000000002</td><td>2.02              </td><td>2.0               </td><td>1.99              </td><td>1.99              </td><td>1.99              </td><td>1.99              </td><td>2.0               </td><td>2.0               </td><td>2.0               </td><td>2.02              </td><td>2.07              </td><td>2.08              </td><td>2.08              </td><td>2.08              </td><td>2.11              </td><td>2.13              </td><td>2.12              </td><td>2.08              </td><td>2.08              </td><td>2.08              </td><td>2.07              </td><td>2.06              </td><td>2.07              </td></tr>\n",
       "<tr><td>mean   </td><td>4.841499999999999</td><td>4.9085            </td><td>4.9645            </td><td>5.022             </td><td>5.077500000000001 </td><td>5.1370000000000005</td><td>5.210000000000001 </td><td>5.288             </td><td>5.3685            </td><td>5.4555           </td><td>5.534000000000002 </td><td>5.643500000000001 </td><td>5.747999999999999 </td><td>5.846499999999999 </td><td>5.9445            </td><td>6.019             </td><td>6.1065            </td><td>6.1770000000000005</td><td>6.2355            </td><td>6.282999999999999 </td><td>6.3135            </td><td>6.346499999999999 </td><td>6.367500000000001 </td><td>6.379499999999999  </td><td>6.382              </td><td>6.379              </td><td>6.381             </td><td>6.3765            </td><td>6.367000000000001</td><td>6.360500000000001 </td><td>6.350499999999999 </td><td>6.34               </td><td>6.3260000000000005</td><td>6.314500000000001 </td><td>6.297999999999999</td><td>6.2829999999999995</td><td>6.2675           </td><td>6.248000000000001 </td><td>6.2305            </td><td>6.21              </td><td>6.188000000000001 </td><td>6.168             </td><td>6.1450000000000005</td><td>6.12              </td><td>6.0975            </td><td>6.075500000000001 </td><td>6.0475            </td><td>6.0225            </td><td>5.999             </td><td>5.9765            </td><td>5.954             </td><td>5.927             </td><td>5.901             </td><td>5.876499999999999 </td><td>5.8585            </td><td>5.8344999999999985</td><td>5.808000000000002 </td><td>5.7780000000000005</td><td>5.754000000000001 </td><td>5.7235000000000005</td><td>5.697             </td><td>5.6690000000000005</td><td>5.639000000000001 </td><td>5.609             </td><td>5.580500000000002 </td><td>5.5520000000000005</td><td>5.518             </td><td>5.489             </td><td>5.456              </td><td>5.43               </td><td>5.407000000000001  </td><td>5.376500000000001 </td><td>5.3515            </td><td>5.3294999999999995</td><td>5.3075             </td><td>5.2885             </td><td>5.269500000000001  </td><td>5.251000000000001  </td><td>5.233999999999999  </td><td>5.221000000000001 </td><td>5.2065             </td><td>5.193500000000001  </td><td>5.184              </td><td>5.174000000000001  </td><td>5.165000000000001 </td><td>5.155500000000001  </td><td>5.148499999999999  </td><td>5.140000000000001  </td><td>5.133000000000001  </td><td>5.128             </td><td>5.121499999999999  </td><td>5.117              </td><td>5.112              </td><td>5.1045             </td><td>5.103000000000001  </td><td>5.095500000000001 </td><td>5.095500000000001  </td><td>5.09               </td><td>5.089              </td><td>5.083500000000001 </td><td>5.077500000000001  </td><td>5.0785            </td><td>5.0760000000000005 </td><td>5.075499999999999  </td><td>5.0710000000000015 </td><td>5.0705             </td><td>5.067500000000001  </td><td>5.063              </td><td>5.062              </td><td>5.0585             </td><td>5.055000000000001  </td><td>5.051499999999999  </td><td>5.0465             </td><td>5.0455            </td><td>5.0424999999999995 </td><td>5.039999999999999  </td><td>5.037500000000001  </td><td>5.037000000000001  </td><td>5.032499999999999  </td><td>5.0295             </td><td>5.0265             </td><td>5.0234999999999985 </td><td>5.022499999999999  </td><td>5.0155             </td><td>5.015000000000001  </td><td>5.0120000000000005 </td><td>5.0104999999999995</td><td>5.003500000000001  </td><td>5.002              </td><td>5.007999999999999  </td><td>5.026000000000001 </td><td>5.039              </td><td>5.026              </td><td>5.0120000000000005</td><td>5.024              </td><td>5.026999999999999  </td><td>5.050000000000001  </td><td>5.037              </td><td>5.05               </td><td>5.053999999999999  </td><td>5.038000000000001  </td><td>5.0225             </td><td>4.996499999999998  </td><td>4.9745            </td><td>4.945499999999999 </td><td>4.911000000000002 </td><td>4.857499999999999 </td><td>4.857499999999999 </td><td>4.8635            </td><td>4.8149999999999995</td><td>4.768999999999999 </td><td>4.697500000000001 </td><td>4.6195            </td><td>4.544000000000001 </td><td>4.482             </td><td>4.4275            </td><td>4.3695            </td><td>4.3385            </td><td>4.314000000000002 </td><td>4.2555            </td><td>4.171             </td><td>4.106000000000001 </td><td>4.0695            </td><td>4.066999999999999 </td><td>4.074000000000002 </td><td>4.1015000000000015</td><td>4.0755            </td><td>4.045499999999999</td><td>4.016500000000001 </td><td>3.979500000000001 </td><td>3.937             </td><td>3.9139999999999997</td><td>3.893000000000001 </td><td>3.893             </td><td>3.9044999999999996</td><td>3.9010000000000002</td><td>3.8600000000000003</td><td>3.845500000000001 </td><td>3.8390000000000004</td><td>3.8409999999999997</td><td>3.8465            </td><td>3.895             </td><td>3.9545            </td><td>3.9974999999999996</td><td>4.035             </td><td>4.101             </td><td>4.156000000000001 </td><td>4.229             </td><td>4.3175            </td><td>4.346             </td><td>4.336500000000001 </td><td>4.358             </td><td>4.385             </td><td>4.4115            </td><td>4.434500000000001 </td><td>4.452999999999999 </td><td>4.459500000000001 </td><td>4.4615            </td><td>4.469             </td><td>4.489             </td><td>4.5135000000000005</td><td>4.557             </td><td>4.6               </td><td>4.652             </td><td>4.7045            </td><td>4.7635            </td><td>4.8345            </td><td>4.8965000000000005</td><td>4.9615            </td><td>5.027499999999999 </td></tr>\n",
       "<tr><td>maxs   </td><td>6.83             </td><td>6.88              </td><td>6.88              </td><td>6.91              </td><td>6.94              </td><td>6.93              </td><td>6.94              </td><td>6.96              </td><td>6.97              </td><td>7.0              </td><td>7.05              </td><td>7.05              </td><td>7.07              </td><td>7.0600000000000005</td><td>7.07              </td><td>7.07              </td><td>7.0600000000000005</td><td>7.08              </td><td>7.09              </td><td>7.08              </td><td>7.05              </td><td>7.04              </td><td>7.01              </td><td>6.96               </td><td>6.99               </td><td>7.01               </td><td>7.03              </td><td>7.05              </td><td>7.08             </td><td>7.1000000000000005</td><td>7.09              </td><td>7.08               </td><td>7.09              </td><td>7.07              </td><td>7.03             </td><td>7.04              </td><td>7.03             </td><td>6.99              </td><td>6.99              </td><td>7.0               </td><td>7.01              </td><td>7.01              </td><td>6.98              </td><td>6.95              </td><td>6.94              </td><td>6.98              </td><td>7.01              </td><td>7.03              </td><td>7.05              </td><td>7.0600000000000005</td><td>7.07              </td><td>7.08              </td><td>7.0600000000000005</td><td>7.04              </td><td>7.05              </td><td>7.01              </td><td>6.99              </td><td>6.97              </td><td>6.93              </td><td>6.93              </td><td>6.92              </td><td>6.92              </td><td>6.91              </td><td>6.87              </td><td>6.83              </td><td>6.7700000000000005</td><td>6.73              </td><td>6.66              </td><td>6.57               </td><td>6.49               </td><td>6.46               </td><td>6.32              </td><td>6.22              </td><td>6.140000000000001 </td><td>6.0600000000000005 </td><td>5.98               </td><td>5.89               </td><td>5.8100000000000005 </td><td>5.75               </td><td>5.69              </td><td>5.61               </td><td>5.54               </td><td>5.51               </td><td>5.47               </td><td>5.43              </td><td>5.39               </td><td>5.3500000000000005 </td><td>5.3500000000000005 </td><td>5.32               </td><td>5.28              </td><td>5.2700000000000005 </td><td>5.2700000000000005 </td><td>5.25               </td><td>5.24               </td><td>5.24               </td><td>5.24              </td><td>5.24               </td><td>5.22               </td><td>5.23               </td><td>5.23              </td><td>5.21               </td><td>5.22              </td><td>5.22               </td><td>5.22               </td><td>5.23               </td><td>5.22               </td><td>5.21               </td><td>5.22               </td><td>5.23               </td><td>5.23               </td><td>5.21               </td><td>5.22               </td><td>5.22               </td><td>5.22              </td><td>5.2                </td><td>5.2                </td><td>5.21               </td><td>5.22               </td><td>5.2                </td><td>5.19               </td><td>5.19               </td><td>5.19               </td><td>5.17               </td><td>5.18               </td><td>5.17               </td><td>5.17               </td><td>5.15              </td><td>5.14               </td><td>5.14               </td><td>5.15               </td><td>5.57              </td><td>5.89               </td><td>5.62               </td><td>5.38              </td><td>5.34               </td><td>5.44               </td><td>5.91               </td><td>5.54               </td><td>5.79               </td><td>5.95               </td><td>5.7                </td><td>6.01               </td><td>5.74               </td><td>5.73              </td><td>5.88              </td><td>5.82              </td><td>5.34              </td><td>5.5               </td><td>5.95              </td><td>5.82              </td><td>5.83              </td><td>5.84              </td><td>5.47              </td><td>5.29              </td><td>5.23              </td><td>5.18              </td><td>5.11              </td><td>5.62              </td><td>5.96              </td><td>5.92              </td><td>5.78              </td><td>5.48              </td><td>5.39              </td><td>5.76              </td><td>6.0200000000000005</td><td>6.0               </td><td>5.84              </td><td>5.74             </td><td>5.82              </td><td>5.73              </td><td>5.42              </td><td>5.3100000000000005</td><td>5.26              </td><td>5.46              </td><td>5.83              </td><td>5.97              </td><td>5.79              </td><td>5.8500000000000005</td><td>5.88              </td><td>5.92              </td><td>5.97              </td><td>6.0200000000000005</td><td>6.04              </td><td>6.0600000000000005</td><td>6.1000000000000005</td><td>6.12              </td><td>6.16              </td><td>6.17              </td><td>6.22              </td><td>6.25              </td><td>6.29              </td><td>6.3               </td><td>6.34              </td><td>6.390000000000001 </td><td>6.44              </td><td>6.46              </td><td>6.51              </td><td>6.5600000000000005</td><td>6.6000000000000005</td><td>6.63              </td><td>6.67              </td><td>6.71              </td><td>6.75              </td><td>6.7700000000000005</td><td>6.8               </td><td>6.84              </td><td>6.86              </td><td>6.890000000000001 </td><td>6.890000000000001 </td><td>6.9               </td></tr>\n",
       "<tr><td>sigma  </td><td>1.959372281329433</td><td>1.9739281568540057</td><td>1.981638011980572 </td><td>1.979007193944532 </td><td>1.9672044685422596</td><td>1.9444579815735956</td><td>1.9176795188044595</td><td>1.8730740283794112</td><td>1.8077676696324725</td><td>1.734120359448165</td><td>1.6608222440453366</td><td>1.5326079424507615</td><td>1.4106049467478392</td><td>1.2829090093673017</td><td>1.155437829979341 </td><td>1.0486628076796307</td><td>0.9218817997073044</td><td>0.8184651875051834</td><td>0.7228123072962631</td><td>0.6400419394153225</td><td>0.5879247624618213</td><td>0.5147025201128576</td><td>0.4728399640247714</td><td>0.44960187066477314</td><td>0.43368191108230486</td><td>0.42302046734108917</td><td>0.4216870877795525</td><td>0.4225022578575608</td><td>0.43003182256788 </td><td>0.442569946895106 </td><td>0.4572282051437195</td><td>0.46942293801735124</td><td>0.4886328941681661</td><td>0.5035398379682117</td><td>0.523335456471277</td><td>0.5363531829327622</td><td>0.559585137683078</td><td>0.5783333586126698</td><td>0.593778932813073 </td><td>0.6090631286959028</td><td>0.6205566261960223</td><td>0.6380777052167994</td><td>0.6504209163465245</td><td>0.6639831957290232</td><td>0.6743095884329626</td><td>0.6833776408399681</td><td>0.6979886516948083</td><td>0.7044211883002356</td><td>0.7152246610607561</td><td>0.7210465712384583</td><td>0.7324968115612303</td><td>0.7401216116287914</td><td>0.7488440214230544</td><td>0.7521427286164014</td><td>0.7579839951094647</td><td>0.7500559628243884</td><td>0.7515989972263006</td><td>0.7469841117171735</td><td>0.7380657508864507</td><td>0.7271376833353612</td><td>0.7109082404331727</td><td>0.6901860923731108</td><td>0.6697752961765767</td><td>0.6440325261482083</td><td>0.6180825613391621</td><td>0.5909457184084362</td><td>0.5565268234893609</td><td>0.5262268872284133</td><td>0.49166098718099416</td><td>0.45573538028345545</td><td>0.42680082868759867</td><td>0.387913107470434 </td><td>0.352185283173801 </td><td>0.3220734633425643</td><td>0.29269842572356375</td><td>0.26839238753029265</td><td>0.23816126778652397</td><td>0.21530639123180567</td><td>0.19418927283506254</td><td>0.1741415032606954</td><td>0.15530191309358135</td><td>0.13712364762083226</td><td>0.12512730359622987</td><td>0.11762563272384206</td><td>0.1064004352978831</td><td>0.09939157011802548</td><td>0.09097570525897768</td><td>0.08938385583655833</td><td>0.08736493334826839</td><td>0.0812144659139259</td><td>0.07975455769850513</td><td>0.07739849039735526</td><td>0.07851248643569866</td><td>0.07653516563611357</td><td>0.07934601107607274</td><td>0.0795033928438547</td><td>0.07996545306700022</td><td>0.07953814047030311</td><td>0.08478455668712076</td><td>0.0827981057500078</td><td>0.08384666456034313</td><td>0.0826708756710035</td><td>0.08592530415853566</td><td>0.08519173421727785</td><td>0.08866851336950468</td><td>0.08469605098604972</td><td>0.08503095411610279</td><td>0.08467274463610147</td><td>0.08941917844447193</td><td>0.09068598220464462</td><td>0.08732877984647312</td><td>0.08791592874056332</td><td>0.08969392398596457</td><td>0.0879279010864789</td><td>0.08759205683766456</td><td>0.08553238844837797</td><td>0.08759205683766536</td><td>0.08609052762858663</td><td>0.08777213321106539</td><td>0.08580731167471708</td><td>0.08228800513728374</td><td>0.08437229527828587</td><td>0.08038558393930512</td><td>0.07930454291095669</td><td>0.07850578255604446</td><td>0.07571414385005872</td><td>0.0738045070653401</td><td>0.07161850687019253</td><td>0.07105224171432976</td><td>0.07702357807157063</td><td>0.1454358241540524</td><td>0.21058564953356546</td><td>0.15445660265998074</td><td>0.1095252914795675</td><td>0.12115236166431946</td><td>0.13715530958504102</td><td>0.21911304460435374</td><td>0.15413937643710995</td><td>0.20390916450326854</td><td>0.24171318366587854</td><td>0.25552010941565734</td><td>0.33240550695292576</td><td>0.35681743820969036</td><td>0.4342261719669287</td><td>0.5129940494166009</td><td>0.5706127823387953</td><td>0.5993757717738292</td><td>0.671093961575544 </td><td>0.7753931091286602</td><td>0.8203561485881091</td><td>0.8522163056284169</td><td>0.8905401967936447</td><td>0.9105549204512019</td><td>0.9575648940493746</td><td>1.0134703277665102</td><td>1.0672190866674789</td><td>1.111326732002411 </td><td>1.1615519337235172</td><td>1.2210797637638933</td><td>1.2554616471116988</td><td>1.2632410279660975</td><td>1.2663515766916686</td><td>1.2920056827315143</td><td>1.3355783292956684</td><td>1.3723449006411585</td><td>1.4148843173839152</td><td>1.4193604008032703</td><td>1.402754714650314</td><td>1.4020972073816311</td><td>1.38643987475685  </td><td>1.3668946750322712</td><td>1.3541414059722203</td><td>1.3484575984200775</td><td>1.3502167467328696</td><td>1.3664108767901866</td><td>1.3669362592462406</td><td>1.3123582630235984</td><td>1.2823230359082898</td><td>1.2808915480612464</td><td>1.2973978004573534</td><td>1.3364811416945857</td><td>1.361707519411218 </td><td>1.4125172565317565</td><td>1.442336828315699 </td><td>1.447635095050218 </td><td>1.4853385224640845</td><td>1.5380520831643887</td><td>1.583490149205728 </td><td>1.643500356267875 </td><td>1.6505450455435686</td><td>1.651042015468445 </td><td>1.62502987826783  </td><td>1.6321780733602245</td><td>1.6281997646739206</td><td>1.622144373482537 </td><td>1.608899918381632 </td><td>1.600027878046603 </td><td>1.5965662990832612</td><td>1.6071023286452053</td><td>1.6187288710265029</td><td>1.639044249747876 </td><td>1.6606406499965767</td><td>1.6909573744199655</td><td>1.725025095164522 </td><td>1.764332213018494 </td><td>1.7864998858397005</td><td>1.8250666173854413</td><td>1.8511568928929991</td><td>1.8719347576350265</td><td>1.8846691040017998</td></tr>\n",
       "<tr><td>zeros  </td><td>0                </td><td>0                 </td><td>0                 </td><td>0                 </td><td>0                 </td><td>0                 </td><td>0                 </td><td>0                 </td><td>0                 </td><td>0                </td><td>0                 </td><td>0                 </td><td>0                 </td><td>0                 </td><td>0                 </td><td>0                 </td><td>0                 </td><td>0                 </td><td>0                 </td><td>0                 </td><td>0                 </td><td>0                 </td><td>0                 </td><td>0                  </td><td>0                  </td><td>0                  </td><td>0                 </td><td>0                 </td><td>0                </td><td>0                 </td><td>0                 </td><td>0                  </td><td>0                 </td><td>0                 </td><td>0                </td><td>0                 </td><td>0                </td><td>0                 </td><td>0                 </td><td>0                 </td><td>0                 </td><td>0                 </td><td>0                 </td><td>0                 </td><td>0                 </td><td>0                 </td><td>0                 </td><td>0                 </td><td>0                 </td><td>0                 </td><td>0                 </td><td>0                 </td><td>0                 </td><td>0                 </td><td>0                 </td><td>0                 </td><td>0                 </td><td>0                 </td><td>0                 </td><td>0                 </td><td>0                 </td><td>0                 </td><td>0                 </td><td>0                 </td><td>0                 </td><td>0                 </td><td>0                 </td><td>0                 </td><td>0                  </td><td>0                  </td><td>0                  </td><td>0                 </td><td>0                 </td><td>0                 </td><td>0                  </td><td>0                  </td><td>0                  </td><td>0                  </td><td>0                  </td><td>0                 </td><td>0                  </td><td>0                  </td><td>0                  </td><td>0                  </td><td>0                 </td><td>0                  </td><td>0                  </td><td>0                  </td><td>0                  </td><td>0                 </td><td>0                  </td><td>0                  </td><td>0                  </td><td>0                  </td><td>0                  </td><td>0                 </td><td>0                  </td><td>0                  </td><td>0                  </td><td>0                 </td><td>0                  </td><td>0                 </td><td>0                  </td><td>0                  </td><td>0                  </td><td>0                  </td><td>0                  </td><td>0                  </td><td>0                  </td><td>0                  </td><td>0                  </td><td>0                  </td><td>0                  </td><td>0                 </td><td>0                  </td><td>0                  </td><td>0                  </td><td>0                  </td><td>0                  </td><td>0                  </td><td>0                  </td><td>0                  </td><td>0                  </td><td>0                  </td><td>0                  </td><td>0                  </td><td>0                 </td><td>0                  </td><td>0                  </td><td>0                  </td><td>0                 </td><td>0                  </td><td>0                  </td><td>0                 </td><td>0                  </td><td>0                  </td><td>0                  </td><td>0                  </td><td>0                  </td><td>0                  </td><td>0                  </td><td>0                  </td><td>0                  </td><td>0                 </td><td>0                 </td><td>0                 </td><td>0                 </td><td>0                 </td><td>0                 </td><td>0                 </td><td>0                 </td><td>0                 </td><td>0                 </td><td>0                 </td><td>0                 </td><td>0                 </td><td>0                 </td><td>0                 </td><td>0                 </td><td>0                 </td><td>0                 </td><td>0                 </td><td>0                 </td><td>0                 </td><td>0                 </td><td>0                 </td><td>0                 </td><td>0                </td><td>0                 </td><td>0                 </td><td>0                 </td><td>0                 </td><td>0                 </td><td>0                 </td><td>0                 </td><td>0                 </td><td>0                 </td><td>0                 </td><td>0                 </td><td>0                 </td><td>0                 </td><td>0                 </td><td>0                 </td><td>0                 </td><td>0                 </td><td>0                 </td><td>0                 </td><td>0                 </td><td>0                 </td><td>0                 </td><td>0                 </td><td>0                 </td><td>0                 </td><td>0                 </td><td>0                 </td><td>0                 </td><td>0                 </td><td>0                 </td><td>0                 </td><td>0                 </td><td>0                 </td><td>0                 </td><td>0                 </td><td>0                 </td><td>0                 </td><td>0                 </td><td>0                 </td><td>0                 </td><td>0                 </td><td>0                 </td></tr>\n",
       "<tr><td>missing</td><td>0                </td><td>0                 </td><td>0                 </td><td>0                 </td><td>0                 </td><td>0                 </td><td>0                 </td><td>0                 </td><td>0                 </td><td>0                </td><td>0                 </td><td>0                 </td><td>0                 </td><td>0                 </td><td>0                 </td><td>0                 </td><td>0                 </td><td>0                 </td><td>0                 </td><td>0                 </td><td>0                 </td><td>0                 </td><td>0                 </td><td>0                  </td><td>0                  </td><td>0                  </td><td>0                 </td><td>0                 </td><td>0                </td><td>0                 </td><td>0                 </td><td>0                  </td><td>0                 </td><td>0                 </td><td>0                </td><td>0                 </td><td>0                </td><td>0                 </td><td>0                 </td><td>0                 </td><td>0                 </td><td>0                 </td><td>0                 </td><td>0                 </td><td>0                 </td><td>0                 </td><td>0                 </td><td>0                 </td><td>0                 </td><td>0                 </td><td>0                 </td><td>0                 </td><td>0                 </td><td>0                 </td><td>0                 </td><td>0                 </td><td>0                 </td><td>0                 </td><td>0                 </td><td>0                 </td><td>0                 </td><td>0                 </td><td>0                 </td><td>0                 </td><td>0                 </td><td>0                 </td><td>0                 </td><td>0                 </td><td>0                  </td><td>0                  </td><td>0                  </td><td>0                 </td><td>0                 </td><td>0                 </td><td>0                  </td><td>0                  </td><td>0                  </td><td>0                  </td><td>0                  </td><td>0                 </td><td>0                  </td><td>0                  </td><td>0                  </td><td>0                  </td><td>0                 </td><td>0                  </td><td>0                  </td><td>0                  </td><td>0                  </td><td>0                 </td><td>0                  </td><td>0                  </td><td>0                  </td><td>0                  </td><td>0                  </td><td>0                 </td><td>0                  </td><td>0                  </td><td>0                  </td><td>0                 </td><td>0                  </td><td>0                 </td><td>0                  </td><td>0                  </td><td>0                  </td><td>0                  </td><td>0                  </td><td>0                  </td><td>0                  </td><td>0                  </td><td>0                  </td><td>0                  </td><td>0                  </td><td>0                 </td><td>0                  </td><td>0                  </td><td>0                  </td><td>0                  </td><td>0                  </td><td>0                  </td><td>0                  </td><td>0                  </td><td>0                  </td><td>0                  </td><td>0                  </td><td>0                  </td><td>0                 </td><td>0                  </td><td>0                  </td><td>0                  </td><td>0                 </td><td>0                  </td><td>0                  </td><td>0                 </td><td>0                  </td><td>0                  </td><td>0                  </td><td>0                  </td><td>0                  </td><td>0                  </td><td>0                  </td><td>0                  </td><td>0                  </td><td>0                 </td><td>0                 </td><td>0                 </td><td>0                 </td><td>0                 </td><td>0                 </td><td>0                 </td><td>0                 </td><td>0                 </td><td>0                 </td><td>0                 </td><td>0                 </td><td>0                 </td><td>0                 </td><td>0                 </td><td>0                 </td><td>0                 </td><td>0                 </td><td>0                 </td><td>0                 </td><td>0                 </td><td>0                 </td><td>0                 </td><td>0                 </td><td>0                </td><td>0                 </td><td>0                 </td><td>0                 </td><td>0                 </td><td>0                 </td><td>0                 </td><td>0                 </td><td>0                 </td><td>0                 </td><td>0                 </td><td>0                 </td><td>0                 </td><td>0                 </td><td>0                 </td><td>0                 </td><td>0                 </td><td>0                 </td><td>0                 </td><td>0                 </td><td>0                 </td><td>0                 </td><td>0                 </td><td>0                 </td><td>0                 </td><td>0                 </td><td>0                 </td><td>0                 </td><td>0                 </td><td>0                 </td><td>0                 </td><td>0                 </td><td>0                 </td><td>0                 </td><td>0                 </td><td>0                 </td><td>0                 </td><td>0                 </td><td>0                 </td><td>0                 </td><td>0                 </td><td>0                 </td><td>0                 </td></tr>\n",
       "<tr><td>0      </td><td>2.1              </td><td>2.13              </td><td>2.19              </td><td>2.2800000000000002</td><td>2.44              </td><td>2.62              </td><td>2.8000000000000003</td><td>3.04              </td><td>3.36              </td><td>3.69             </td><td>3.97              </td><td>4.24              </td><td>4.53              </td><td>4.8               </td><td>5.0200000000000005</td><td>5.21              </td><td>5.4               </td><td>5.57              </td><td>5.71              </td><td>5.79              </td><td>5.86              </td><td>5.92              </td><td>5.98              </td><td>6.0200000000000005 </td><td>6.0600000000000005 </td><td>6.08               </td><td>6.140000000000001 </td><td>6.18              </td><td>6.22             </td><td>6.2700000000000005</td><td>6.32              </td><td>6.3500000000000005 </td><td>6.38              </td><td>6.45              </td><td>6.49             </td><td>6.53              </td><td>6.57             </td><td>6.640000000000001 </td><td>6.7               </td><td>6.73              </td><td>6.78              </td><td>6.83              </td><td>6.88              </td><td>6.92              </td><td>6.94              </td><td>6.98              </td><td>7.01              </td><td>7.03              </td><td>7.05              </td><td>7.0600000000000005</td><td>7.07              </td><td>7.08              </td><td>7.0600000000000005</td><td>7.04              </td><td>7.03              </td><td>6.99              </td><td>6.94              </td><td>6.88              </td><td>6.83              </td><td>6.7700000000000005</td><td>6.69              </td><td>6.6000000000000005</td><td>6.53              </td><td>6.45              </td><td>6.36              </td><td>6.2700000000000005</td><td>6.19              </td><td>6.11              </td><td>6.03               </td><td>5.94               </td><td>5.88               </td><td>5.8100000000000005</td><td>5.75              </td><td>5.68              </td><td>5.62               </td><td>5.61               </td><td>5.54               </td><td>5.49               </td><td>5.45               </td><td>5.42              </td><td>5.38               </td><td>5.34               </td><td>5.3100000000000005 </td><td>5.3                </td><td>5.29              </td><td>5.26               </td><td>5.23               </td><td>5.23               </td><td>5.22               </td><td>5.2               </td><td>5.19               </td><td>5.18               </td><td>5.19               </td><td>5.17               </td><td>5.15               </td><td>5.14              </td><td>5.17               </td><td>5.16               </td><td>5.15               </td><td>5.15              </td><td>5.15               </td><td>5.14              </td><td>5.14               </td><td>5.14               </td><td>5.15               </td><td>5.14               </td><td>5.14               </td><td>5.13               </td><td>5.15               </td><td>5.15               </td><td>5.15               </td><td>5.14               </td><td>5.16               </td><td>5.15              </td><td>5.15               </td><td>5.14               </td><td>5.14               </td><td>5.15               </td><td>5.15               </td><td>5.14               </td><td>5.13               </td><td>5.14               </td><td>5.14               </td><td>5.11               </td><td>5.12               </td><td>5.12               </td><td>5.12              </td><td>5.09               </td><td>5.09               </td><td>5.09               </td><td>5.1000000000000005</td><td>5.08               </td><td>5.08               </td><td>5.08              </td><td>5.08               </td><td>5.0600000000000005 </td><td>5.05               </td><td>5.0600000000000005 </td><td>5.07               </td><td>5.05               </td><td>5.03               </td><td>5.03               </td><td>5.04               </td><td>5.03              </td><td>5.01              </td><td>5.01              </td><td>5.0200000000000005</td><td>5.01              </td><td>5.01              </td><td>5.0               </td><td>5.0               </td><td>5.0200000000000005</td><td>5.01              </td><td>4.98              </td><td>5.0               </td><td>5.0               </td><td>5.0               </td><td>4.99              </td><td>5.0               </td><td>5.01              </td><td>5.0200000000000005</td><td>5.01              </td><td>5.03              </td><td>5.03              </td><td>5.0200000000000005</td><td>5.0200000000000005</td><td>5.04              </td><td>5.04             </td><td>5.04              </td><td>5.0200000000000005</td><td>5.0200000000000005</td><td>5.01              </td><td>4.99              </td><td>4.98              </td><td>4.96              </td><td>4.96              </td><td>4.96              </td><td>4.94              </td><td>4.93              </td><td>4.93              </td><td>4.93              </td><td>4.93              </td><td>4.93              </td><td>5.0200000000000005</td><td>5.2700000000000005</td><td>5.8               </td><td>5.94              </td><td>5.58              </td><td>5.39              </td><td>5.32              </td><td>5.25              </td><td>5.21              </td><td>5.13              </td><td>4.97              </td><td>4.71              </td><td>4.39              </td><td>4.05              </td><td>3.69              </td><td>3.3200000000000003</td><td>3.0500000000000003</td><td>2.99              </td><td>2.74              </td><td>2.61              </td><td>2.47              </td><td>2.35              </td><td>2.2600000000000002</td><td>2.2               </td><td>2.15              </td><td>2.1               </td><td>2.08              </td></tr>\n",
       "<tr><td>1      </td><td>2.06             </td><td>2.05              </td><td>2.06              </td><td>2.07              </td><td>2.08              </td><td>2.13              </td><td>2.22              </td><td>2.37              </td><td>2.5300000000000002</td><td>2.71             </td><td>2.97              </td><td>3.31              </td><td>3.65              </td><td>3.96              </td><td>4.2700000000000005</td><td>4.37              </td><td>4.82              </td><td>5.04              </td><td>5.24              </td><td>5.43              </td><td>5.59              </td><td>5.7               </td><td>5.76              </td><td>5.83               </td><td>5.9                </td><td>5.94               </td><td>5.97              </td><td>6.04              </td><td>6.08             </td><td>6.12              </td><td>6.16              </td><td>6.22               </td><td>6.26              </td><td>6.3100000000000005</td><td>6.33             </td><td>6.38              </td><td>6.45             </td><td>6.49              </td><td>6.51              </td><td>6.5600000000000005</td><td>6.58              </td><td>6.68              </td><td>6.71              </td><td>6.75              </td><td>6.8100000000000005</td><td>6.8500000000000005</td><td>6.890000000000001 </td><td>6.91              </td><td>6.96              </td><td>6.99              </td><td>7.01              </td><td>7.01              </td><td>7.03              </td><td>7.04              </td><td>7.05              </td><td>7.01              </td><td>6.99              </td><td>6.97              </td><td>6.92              </td><td>6.86              </td><td>6.8               </td><td>6.75              </td><td>6.67              </td><td>6.57              </td><td>6.5               </td><td>6.47              </td><td>6.33              </td><td>6.25              </td><td>6.15               </td><td>6.09               </td><td>6.01               </td><td>5.93              </td><td>5.84              </td><td>5.78              </td><td>5.72               </td><td>5.65               </td><td>5.58               </td><td>5.53               </td><td>5.5                </td><td>5.44              </td><td>5.38               </td><td>5.36               </td><td>5.33               </td><td>5.3                </td><td>5.25              </td><td>5.24               </td><td>5.23               </td><td>5.21               </td><td>5.18               </td><td>5.17              </td><td>5.17               </td><td>5.15               </td><td>5.14               </td><td>5.12               </td><td>5.12               </td><td>5.12              </td><td>5.11               </td><td>5.09               </td><td>5.11               </td><td>5.11              </td><td>5.09               </td><td>5.08              </td><td>5.09               </td><td>5.09               </td><td>5.08               </td><td>5.08               </td><td>5.09               </td><td>5.09               </td><td>5.1000000000000005 </td><td>5.08               </td><td>5.09               </td><td>5.11               </td><td>5.1000000000000005 </td><td>5.09              </td><td>5.09               </td><td>5.1000000000000005 </td><td>5.1000000000000005 </td><td>5.08               </td><td>5.09               </td><td>5.11               </td><td>5.09               </td><td>5.08               </td><td>5.08               </td><td>5.08               </td><td>5.09               </td><td>5.08               </td><td>5.07              </td><td>5.07               </td><td>5.07               </td><td>5.08               </td><td>5.05              </td><td>5.05               </td><td>5.0600000000000005 </td><td>5.05              </td><td>5.04               </td><td>5.03               </td><td>5.04               </td><td>5.04               </td><td>5.0200000000000005 </td><td>5.01               </td><td>5.0                </td><td>5.01               </td><td>5.0                </td><td>4.99              </td><td>4.99              </td><td>4.99              </td><td>4.98              </td><td>4.96              </td><td>4.98              </td><td>4.98              </td><td>4.98              </td><td>4.96              </td><td>4.97              </td><td>4.97              </td><td>4.96              </td><td>4.95              </td><td>4.95              </td><td>4.97              </td><td>4.96              </td><td>4.94              </td><td>4.94              </td><td>4.96              </td><td>4.96              </td><td>4.94              </td><td>4.94              </td><td>4.94              </td><td>4.94              </td><td>4.93             </td><td>4.92              </td><td>4.93              </td><td>4.94              </td><td>4.93              </td><td>4.92              </td><td>4.94              </td><td>4.94              </td><td>4.93              </td><td>4.93              </td><td>4.94              </td><td>4.95              </td><td>4.96              </td><td>4.96              </td><td>4.98              </td><td>4.98              </td><td>4.97              </td><td>4.96              </td><td>4.95              </td><td>5.0               </td><td>5.18              </td><td>5.62              </td><td>5.8500000000000005</td><td>5.8100000000000005</td><td>5.33              </td><td>5.25              </td><td>5.16              </td><td>5.08              </td><td>4.93              </td><td>4.73              </td><td>4.49              </td><td>4.2               </td><td>3.89              </td><td>3.62              </td><td>3.38              </td><td>3.17              </td><td>2.92              </td><td>2.64              </td><td>2.45              </td><td>2.33              </td><td>2.23              </td><td>2.13              </td><td>2.08              </td></tr>\n",
       "<tr><td>2      </td><td>2.05             </td><td>2.05              </td><td>2.0300000000000002</td><td>2.02              </td><td>2.0300000000000002</td><td>2.04              </td><td>2.08              </td><td>2.14              </td><td>2.2800000000000002</td><td>2.44             </td><td>2.65              </td><td>2.89              </td><td>3.19              </td><td>3.5               </td><td>3.8200000000000003</td><td>4.13              </td><td>4.41              </td><td>4.68              </td><td>4.92              </td><td>5.14              </td><td>5.34              </td><td>5.51              </td><td>5.63              </td><td>5.7                </td><td>5.75               </td><td>5.8100000000000005 </td><td>5.87              </td><td>5.91              </td><td>5.94             </td><td>5.98              </td><td>6.0               </td><td>6.05               </td><td>6.09              </td><td>6.11              </td><td>6.16             </td><td>6.2               </td><td>6.23             </td><td>6.26              </td><td>6.32              </td><td>6.3500000000000005</td><td>6.38              </td><td>6.42              </td><td>6.47              </td><td>6.5200000000000005</td><td>6.55              </td><td>6.58              </td><td>6.62              </td><td>6.67              </td><td>6.69              </td><td>6.71              </td><td>6.74              </td><td>6.7700000000000005</td><td>6.79              </td><td>6.8               </td><td>6.8               </td><td>6.8100000000000005</td><td>6.82              </td><td>6.79              </td><td>6.7700000000000005</td><td>6.75              </td><td>6.71              </td><td>6.66              </td><td>6.6000000000000005</td><td>6.5600000000000005</td><td>6.5               </td><td>6.41              </td><td>6.33              </td><td>6.26              </td><td>6.18               </td><td>6.09               </td><td>6.0                </td><td>5.93              </td><td>5.8500000000000005</td><td>5.7700000000000005</td><td>5.69               </td><td>5.63               </td><td>5.58               </td><td>5.5200000000000005 </td><td>5.45               </td><td>5.41              </td><td>5.41               </td><td>5.3500000000000005 </td><td>5.3                </td><td>5.2700000000000005 </td><td>5.26              </td><td>5.24               </td><td>5.2                </td><td>5.18               </td><td>5.18               </td><td>5.17              </td><td>5.15               </td><td>5.14               </td><td>5.14               </td><td>5.14               </td><td>5.14               </td><td>5.12              </td><td>5.11               </td><td>5.13               </td><td>5.12               </td><td>5.1000000000000005</td><td>5.1000000000000005 </td><td>5.12              </td><td>5.12               </td><td>5.12               </td><td>5.12               </td><td>5.13               </td><td>5.13               </td><td>5.11               </td><td>5.12               </td><td>5.13               </td><td>5.13               </td><td>5.12               </td><td>5.1000000000000005 </td><td>5.12              </td><td>5.12               </td><td>5.12               </td><td>5.11               </td><td>5.12               </td><td>5.13               </td><td>5.11               </td><td>5.1000000000000005 </td><td>5.1000000000000005 </td><td>5.12               </td><td>5.11               </td><td>5.08               </td><td>5.08               </td><td>5.09              </td><td>5.08               </td><td>5.07               </td><td>5.07               </td><td>5.07              </td><td>5.07               </td><td>5.0600000000000005 </td><td>5.05              </td><td>5.0600000000000005 </td><td>5.05               </td><td>5.05               </td><td>5.03               </td><td>5.04               </td><td>5.04               </td><td>5.0200000000000005 </td><td>5.01               </td><td>5.0200000000000005 </td><td>5.0200000000000005</td><td>5.01              </td><td>5.0               </td><td>5.0               </td><td>5.0               </td><td>5.01              </td><td>4.98              </td><td>4.99              </td><td>4.99              </td><td>4.99              </td><td>4.98              </td><td>4.97              </td><td>4.97              </td><td>4.98              </td><td>4.98              </td><td>4.97              </td><td>4.99              </td><td>4.97              </td><td>4.96              </td><td>4.96              </td><td>4.97              </td><td>4.97              </td><td>4.96              </td><td>4.95              </td><td>4.95             </td><td>4.97              </td><td>4.97              </td><td>4.95              </td><td>4.96              </td><td>4.96              </td><td>4.96              </td><td>4.95              </td><td>4.95              </td><td>4.96              </td><td>4.96              </td><td>4.94              </td><td>4.94              </td><td>4.94              </td><td>4.96              </td><td>4.96              </td><td>4.95              </td><td>4.98              </td><td>4.98              </td><td>5.05              </td><td>5.33              </td><td>5.82              </td><td>5.8100000000000005</td><td>5.48              </td><td>5.36              </td><td>5.33              </td><td>5.28              </td><td>5.24              </td><td>5.13              </td><td>4.98              </td><td>4.73              </td><td>4.4               </td><td>4.07              </td><td>3.71              </td><td>3.33              </td><td>3.0100000000000002</td><td>2.74              </td><td>2.5500000000000003</td><td>2.5100000000000002</td><td>2.3000000000000003</td><td>2.17              </td><td>2.1               </td><td>2.08              </td></tr>\n",
       "<tr><td>3      </td><td>2.07             </td><td>2.04              </td><td>2.0300000000000002</td><td>2.05              </td><td>2.05              </td><td>2.04              </td><td>2.05              </td><td>2.09              </td><td>2.14              </td><td>2.22             </td><td>2.35              </td><td>2.5300000000000002</td><td>2.7600000000000002</td><td>3.04              </td><td>3.36              </td><td>3.69              </td><td>4.0               </td><td>4.32              </td><td>4.6000000000000005</td><td>4.86              </td><td>4.94              </td><td>5.3100000000000005</td><td>5.51              </td><td>5.65               </td><td>5.75               </td><td>5.8100000000000005 </td><td>5.8500000000000005</td><td>5.9               </td><td>5.95             </td><td>5.99              </td><td>6.0200000000000005</td><td>6.0600000000000005 </td><td>6.09              </td><td>6.13              </td><td>6.16             </td><td>6.18              </td><td>6.23             </td><td>6.25              </td><td>6.28              </td><td>6.29              </td><td>6.33              </td><td>6.38              </td><td>6.41              </td><td>6.43              </td><td>6.47              </td><td>6.48              </td><td>6.55              </td><td>6.57              </td><td>6.62              </td><td>6.67              </td><td>6.72              </td><td>6.74              </td><td>6.7700000000000005</td><td>6.8100000000000005</td><td>6.84              </td><td>6.86              </td><td>6.890000000000001 </td><td>6.91              </td><td>6.93              </td><td>6.93              </td><td>6.92              </td><td>6.92              </td><td>6.91              </td><td>6.87              </td><td>6.83              </td><td>6.7700000000000005</td><td>6.73              </td><td>6.66              </td><td>6.57               </td><td>6.49               </td><td>6.46               </td><td>6.32              </td><td>6.22              </td><td>6.140000000000001 </td><td>6.0600000000000005 </td><td>5.98               </td><td>5.89               </td><td>5.8100000000000005 </td><td>5.75               </td><td>5.69              </td><td>5.61               </td><td>5.54               </td><td>5.51               </td><td>5.47               </td><td>5.43              </td><td>5.39               </td><td>5.3500000000000005 </td><td>5.3500000000000005 </td><td>5.32               </td><td>5.28              </td><td>5.2700000000000005 </td><td>5.2700000000000005 </td><td>5.25               </td><td>5.24               </td><td>5.24               </td><td>5.24              </td><td>5.24               </td><td>5.22               </td><td>5.22               </td><td>5.23              </td><td>5.21               </td><td>5.22              </td><td>5.22               </td><td>5.22               </td><td>5.23               </td><td>5.22               </td><td>5.21               </td><td>5.22               </td><td>5.23               </td><td>5.23               </td><td>5.21               </td><td>5.22               </td><td>5.22               </td><td>5.22              </td><td>5.2                </td><td>5.2                </td><td>5.21               </td><td>5.22               </td><td>5.2                </td><td>5.19               </td><td>5.19               </td><td>5.19               </td><td>5.17               </td><td>5.18               </td><td>5.17               </td><td>5.17               </td><td>5.15              </td><td>5.14               </td><td>5.14               </td><td>5.15               </td><td>5.14              </td><td>5.12               </td><td>5.13               </td><td>5.13              </td><td>5.12               </td><td>5.1000000000000005 </td><td>5.1000000000000005 </td><td>5.1000000000000005 </td><td>5.08               </td><td>5.08               </td><td>5.07               </td><td>5.08               </td><td>5.07               </td><td>5.0600000000000005</td><td>5.05              </td><td>5.0600000000000005</td><td>5.0600000000000005</td><td>5.05              </td><td>5.03              </td><td>5.03              </td><td>5.04              </td><td>5.03              </td><td>5.0200000000000005</td><td>5.03              </td><td>5.03              </td><td>5.0200000000000005</td><td>5.0               </td><td>5.01              </td><td>5.0200000000000005</td><td>5.0               </td><td>5.0               </td><td>5.01              </td><td>5.01              </td><td>5.01              </td><td>4.99              </td><td>4.99              </td><td>5.0               </td><td>5.0              </td><td>4.99              </td><td>4.98              </td><td>4.98              </td><td>4.99              </td><td>4.97              </td><td>4.98              </td><td>4.99              </td><td>4.99              </td><td>4.97              </td><td>4.97              </td><td>4.98              </td><td>4.99              </td><td>4.97              </td><td>4.96              </td><td>4.98              </td><td>4.99              </td><td>5.0               </td><td>5.03              </td><td>5.2               </td><td>5.73              </td><td>5.9               </td><td>5.53              </td><td>5.36              </td><td>5.3               </td><td>5.22              </td><td>5.09              </td><td>4.91              </td><td>4.84              </td><td>4.39              </td><td>4.0600000000000005</td><td>3.75              </td><td>3.5100000000000002</td><td>3.27              </td><td>3.02              </td><td>2.74              </td><td>2.54              </td><td>2.39              </td><td>2.27              </td><td>2.17              </td><td>2.13              </td><td>2.11              </td><td>2.07              </td></tr>\n",
       "<tr><td>4      </td><td>2.06             </td><td>2.07              </td><td>2.07              </td><td>2.08              </td><td>2.08              </td><td>2.12              </td><td>2.18              </td><td>2.2800000000000002</td><td>2.43              </td><td>2.66             </td><td>2.73              </td><td>3.2800000000000002</td><td>3.64              </td><td>4.01              </td><td>4.36              </td><td>4.66              </td><td>4.93              </td><td>5.17              </td><td>5.42              </td><td>5.63              </td><td>5.76              </td><td>5.83              </td><td>5.91              </td><td>5.96               </td><td>5.98               </td><td>6.0200000000000005 </td><td>6.07              </td><td>6.1000000000000005</td><td>6.11             </td><td>6.13              </td><td>6.15              </td><td>6.19               </td><td>6.2               </td><td>6.22              </td><td>6.25             </td><td>6.2700000000000005</td><td>6.34             </td><td>6.37              </td><td>6.41              </td><td>6.46              </td><td>6.49              </td><td>6.51              </td><td>6.55              </td><td>6.6000000000000005</td><td>6.63              </td><td>6.66              </td><td>6.69              </td><td>6.73              </td><td>6.76              </td><td>6.78              </td><td>6.8               </td><td>6.83              </td><td>6.86              </td><td>6.86              </td><td>6.88              </td><td>6.87              </td><td>6.890000000000001 </td><td>6.87              </td><td>6.8500000000000005</td><td>6.82              </td><td>6.8100000000000005</td><td>6.74              </td><td>6.67              </td><td>6.61              </td><td>6.55              </td><td>6.48              </td><td>6.390000000000001 </td><td>6.3100000000000005</td><td>6.23               </td><td>6.140000000000001  </td><td>6.04               </td><td>5.95              </td><td>5.88              </td><td>5.8100000000000005</td><td>5.74               </td><td>5.66               </td><td>5.61               </td><td>5.57               </td><td>5.5                </td><td>5.45              </td><td>5.41               </td><td>5.38               </td><td>5.3500000000000005 </td><td>5.32               </td><td>5.29              </td><td>5.28               </td><td>5.28               </td><td>5.25               </td><td>5.25               </td><td>5.25              </td><td>5.24               </td><td>5.22               </td><td>5.22               </td><td>5.22               </td><td>5.23               </td><td>5.22              </td><td>5.2                </td><td>5.21               </td><td>5.23               </td><td>5.2               </td><td>5.21               </td><td>5.21              </td><td>5.22               </td><td>5.21               </td><td>5.2                </td><td>5.2                </td><td>5.21               </td><td>5.21               </td><td>5.2                </td><td>5.2                </td><td>5.2                </td><td>5.18               </td><td>5.18               </td><td>5.18              </td><td>5.19               </td><td>5.17               </td><td>5.17               </td><td>5.15               </td><td>5.17               </td><td>5.17               </td><td>5.15               </td><td>5.13               </td><td>5.13               </td><td>5.12               </td><td>5.12               </td><td>5.1000000000000005 </td><td>5.11              </td><td>5.11               </td><td>5.1000000000000005 </td><td>5.08               </td><td>5.08              </td><td>5.08               </td><td>5.07               </td><td>5.0600000000000005</td><td>5.05               </td><td>5.05               </td><td>5.05               </td><td>5.03               </td><td>5.04               </td><td>5.04               </td><td>5.04               </td><td>5.0200000000000005 </td><td>5.0200000000000005 </td><td>5.0200000000000005</td><td>5.0200000000000005</td><td>5.01              </td><td>5.0               </td><td>5.0200000000000005</td><td>5.01              </td><td>4.99              </td><td>4.99              </td><td>4.99              </td><td>5.0               </td><td>4.99              </td><td>4.99              </td><td>4.98              </td><td>5.0               </td><td>4.99              </td><td>4.98              </td><td>4.98              </td><td>4.98              </td><td>4.99              </td><td>4.98              </td><td>4.97              </td><td>4.98              </td><td>4.98              </td><td>4.96              </td><td>4.96             </td><td>4.97              </td><td>4.97              </td><td>4.97              </td><td>4.96              </td><td>4.97              </td><td>4.97              </td><td>4.97              </td><td>4.95              </td><td>4.96              </td><td>4.97              </td><td>4.97              </td><td>4.97              </td><td>5.03              </td><td>5.2700000000000005</td><td>5.7700000000000005</td><td>5.9               </td><td>5.55              </td><td>5.46              </td><td>5.3               </td><td>5.21              </td><td>5.09              </td><td>4.92              </td><td>4.69              </td><td>4.41              </td><td>4.08              </td><td>3.8000000000000003</td><td>3.5700000000000003</td><td>3.33              </td><td>3.0700000000000003</td><td>2.79              </td><td>2.58              </td><td>2.43              </td><td>2.31              </td><td>2.22              </td><td>2.16              </td><td>2.12              </td><td>2.08              </td><td>2.08              </td><td>2.08              </td><td>2.07              </td><td>2.06              </td><td>2.09              </td></tr>\n",
       "<tr><td>5      </td><td>2.1              </td><td>2.18              </td><td>2.2800000000000002</td><td>2.46              </td><td>2.69              </td><td>2.98              </td><td>3.3000000000000003</td><td>3.64              </td><td>3.98              </td><td>4.28             </td><td>4.55              </td><td>4.8100000000000005</td><td>5.0600000000000005</td><td>5.29              </td><td>5.49              </td><td>5.63              </td><td>5.72              </td><td>5.79              </td><td>5.8500000000000005</td><td>5.88              </td><td>5.93              </td><td>5.98              </td><td>6.0200000000000005</td><td>6.04               </td><td>6.07               </td><td>6.09               </td><td>6.16              </td><td>6.19              </td><td>6.22             </td><td>6.26              </td><td>6.29              </td><td>6.32               </td><td>6.3500000000000005</td><td>6.41              </td><td>6.44             </td><td>6.48              </td><td>6.5              </td><td>6.55              </td><td>6.59              </td><td>6.61              </td><td>6.63              </td><td>6.67              </td><td>6.69              </td><td>6.7               </td><td>6.72              </td><td>6.74              </td><td>6.7700000000000005</td><td>6.78              </td><td>6.78              </td><td>6.8               </td><td>6.82              </td><td>6.84              </td><td>6.8100000000000005</td><td>6.78              </td><td>6.7700000000000005</td><td>6.72              </td><td>6.66              </td><td>6.6000000000000005</td><td>6.5600000000000005</td><td>6.48              </td><td>6.4               </td><td>6.32              </td><td>6.26              </td><td>6.18              </td><td>6.09              </td><td>6.0               </td><td>5.91              </td><td>5.8500000000000005</td><td>5.7700000000000005 </td><td>5.69               </td><td>5.63               </td><td>5.58              </td><td>5.51              </td><td>5.46              </td><td>5.41               </td><td>5.41               </td><td>5.34               </td><td>5.3100000000000005 </td><td>5.29               </td><td>5.28              </td><td>5.26               </td><td>5.23               </td><td>5.21               </td><td>5.21               </td><td>5.21              </td><td>5.19               </td><td>5.19               </td><td>5.2                </td><td>5.21               </td><td>5.2               </td><td>5.18               </td><td>5.19               </td><td>5.21               </td><td>5.2                </td><td>5.19               </td><td>5.18              </td><td>5.2                </td><td>5.19               </td><td>5.19               </td><td>5.19              </td><td>5.2                </td><td>5.2               </td><td>5.2                </td><td>5.19               </td><td>5.2                </td><td>5.19               </td><td>5.18               </td><td>5.17               </td><td>5.19               </td><td>5.19               </td><td>5.17               </td><td>5.16               </td><td>5.16               </td><td>5.16              </td><td>5.15               </td><td>5.15               </td><td>5.15               </td><td>5.16               </td><td>5.14               </td><td>5.11               </td><td>5.12               </td><td>5.13               </td><td>5.11               </td><td>5.09               </td><td>5.09               </td><td>5.1000000000000005 </td><td>5.1000000000000005</td><td>5.08               </td><td>5.07               </td><td>5.08               </td><td>5.07              </td><td>5.05               </td><td>5.05               </td><td>5.05              </td><td>5.0600000000000005 </td><td>5.05               </td><td>5.04               </td><td>5.04               </td><td>5.05               </td><td>5.04               </td><td>5.03               </td><td>5.03               </td><td>5.03               </td><td>5.0200000000000005</td><td>5.0               </td><td>5.01              </td><td>5.01              </td><td>5.0200000000000005</td><td>5.01              </td><td>5.0               </td><td>5.0               </td><td>5.01              </td><td>5.0               </td><td>5.0               </td><td>5.01              </td><td>5.0               </td><td>5.0               </td><td>4.98              </td><td>5.0               </td><td>5.0               </td><td>4.99              </td><td>4.98              </td><td>4.98              </td><td>4.99              </td><td>4.98              </td><td>4.97              </td><td>4.98              </td><td>4.98             </td><td>4.99              </td><td>4.98              </td><td>4.99              </td><td>5.03              </td><td>5.08              </td><td>5.33              </td><td>5.83              </td><td>5.97              </td><td>5.55              </td><td>5.39              </td><td>5.36              </td><td>5.32              </td><td>5.2700000000000005</td><td>5.15              </td><td>5.0               </td><td>4.73              </td><td>4.38              </td><td>4.0               </td><td>3.6               </td><td>3.2600000000000002</td><td>3.0               </td><td>2.7600000000000002</td><td>2.6               </td><td>2.46              </td><td>2.31              </td><td>2.21              </td><td>2.15              </td><td>2.12              </td><td>2.12              </td><td>2.09              </td><td>2.08              </td><td>2.08              </td><td>2.08              </td><td>2.11              </td><td>2.13              </td><td>2.21              </td><td>2.35              </td><td>2.5300000000000002</td><td>2.75              </td><td>3.0300000000000002</td><td>3.4               </td><td>3.7600000000000002</td></tr>\n",
       "<tr><td>6      </td><td>4.07             </td><td>4.38              </td><td>4.69              </td><td>4.93              </td><td>5.13              </td><td>5.34              </td><td>5.55              </td><td>5.7               </td><td>5.78              </td><td>5.84             </td><td>5.9               </td><td>5.95              </td><td>5.99              </td><td>6.0200000000000005</td><td>6.07              </td><td>6.09              </td><td>6.140000000000001 </td><td>6.17              </td><td>6.2               </td><td>6.25              </td><td>6.28              </td><td>6.3               </td><td>6.34              </td><td>6.4                </td><td>6.43               </td><td>6.47               </td><td>6.51              </td><td>6.5600000000000005</td><td>6.61             </td><td>6.66              </td><td>6.68              </td><td>6.74               </td><td>6.78              </td><td>6.8100000000000005</td><td>6.84             </td><td>6.890000000000001 </td><td>6.94             </td><td>6.97              </td><td>6.99              </td><td>7.0               </td><td>7.01              </td><td>7.01              </td><td>6.98              </td><td>6.95              </td><td>6.93              </td><td>6.88              </td><td>6.82              </td><td>6.74              </td><td>6.68              </td><td>6.58              </td><td>6.49              </td><td>6.4               </td><td>6.33              </td><td>6.24              </td><td>6.17              </td><td>6.08              </td><td>6.0               </td><td>5.92              </td><td>5.83              </td><td>5.75              </td><td>5.67              </td><td>5.62              </td><td>5.57              </td><td>5.51              </td><td>5.46              </td><td>5.46              </td><td>5.4               </td><td>5.36              </td><td>5.33               </td><td>5.32               </td><td>5.3100000000000005 </td><td>5.28              </td><td>5.25              </td><td>5.26              </td><td>5.26               </td><td>5.24               </td><td>5.23               </td><td>5.24               </td><td>5.24               </td><td>5.23              </td><td>5.22               </td><td>5.23               </td><td>5.24               </td><td>5.24               </td><td>5.21              </td><td>5.22               </td><td>5.23               </td><td>5.22               </td><td>5.23               </td><td>5.23              </td><td>5.23               </td><td>5.23               </td><td>5.23               </td><td>5.22               </td><td>5.24               </td><td>5.23              </td><td>5.22               </td><td>5.21               </td><td>5.23               </td><td>5.22              </td><td>5.2                </td><td>5.19              </td><td>5.2                </td><td>5.2                </td><td>5.19               </td><td>5.18               </td><td>5.18               </td><td>5.18               </td><td>5.16               </td><td>5.15               </td><td>5.15               </td><td>5.16               </td><td>5.14               </td><td>5.13              </td><td>5.13               </td><td>5.13               </td><td>5.12               </td><td>5.11               </td><td>5.09               </td><td>5.11               </td><td>5.1000000000000005 </td><td>5.1000000000000005 </td><td>5.09               </td><td>5.09               </td><td>5.1000000000000005 </td><td>5.07               </td><td>5.0600000000000005</td><td>5.07               </td><td>5.08               </td><td>5.0600000000000005 </td><td>5.05              </td><td>5.05               </td><td>5.0600000000000005 </td><td>5.0600000000000005</td><td>5.05               </td><td>5.05               </td><td>5.0600000000000005 </td><td>5.05               </td><td>5.04               </td><td>5.04               </td><td>5.03               </td><td>5.04               </td><td>5.03               </td><td>5.0200000000000005</td><td>5.03              </td><td>5.04              </td><td>5.03              </td><td>5.0200000000000005</td><td>5.03              </td><td>5.03              </td><td>5.0200000000000005</td><td>5.0200000000000005</td><td>5.0200000000000005</td><td>5.0200000000000005</td><td>5.01              </td><td>5.01              </td><td>5.0200000000000005</td><td>5.0200000000000005</td><td>5.0200000000000005</td><td>5.0200000000000005</td><td>5.04              </td><td>5.1000000000000005</td><td>5.2700000000000005</td><td>5.76              </td><td>6.0200000000000005</td><td>6.0               </td><td>5.47              </td><td>5.39             </td><td>5.3100000000000005</td><td>5.23              </td><td>5.09              </td><td>4.86              </td><td>4.58              </td><td>4.29              </td><td>3.98              </td><td>3.69              </td><td>3.42              </td><td>3.21              </td><td>2.94              </td><td>2.65              </td><td>2.46              </td><td>2.34              </td><td>2.25              </td><td>2.15              </td><td>2.11              </td><td>2.11              </td><td>2.11              </td><td>2.1               </td><td>2.09              </td><td>2.1               </td><td>2.1               </td><td>2.15              </td><td>2.2               </td><td>2.33              </td><td>2.52              </td><td>2.7600000000000002</td><td>3.06              </td><td>3.42              </td><td>3.81              </td><td>4.17              </td><td>4.48              </td><td>4.76              </td><td>5.0600000000000005</td><td>5.3100000000000005</td><td>5.5200000000000005</td><td>5.67              </td><td>5.78              </td><td>5.84              </td><td>5.9               </td><td>5.94              </td></tr>\n",
       "<tr><td>7      </td><td>6.0              </td><td>6.04              </td><td>6.08              </td><td>6.1000000000000005</td><td>6.140000000000001 </td><td>6.16              </td><td>6.21              </td><td>6.24              </td><td>6.28              </td><td>6.33             </td><td>6.37              </td><td>6.390000000000001 </td><td>6.43              </td><td>6.47              </td><td>6.51              </td><td>6.55              </td><td>6.59              </td><td>6.63              </td><td>6.68              </td><td>6.71              </td><td>6.75              </td><td>6.8               </td><td>6.84              </td><td>6.87               </td><td>6.890000000000001  </td><td>6.92               </td><td>6.95              </td><td>6.95              </td><td>6.95             </td><td>6.94              </td><td>6.93              </td><td>6.91               </td><td>6.87              </td><td>6.83              </td><td>6.8              </td><td>6.73              </td><td>6.67             </td><td>6.59              </td><td>6.5200000000000005</td><td>6.43              </td><td>6.32              </td><td>6.22              </td><td>6.15              </td><td>6.05              </td><td>5.96              </td><td>5.88              </td><td>5.8               </td><td>5.74              </td><td>5.66              </td><td>5.59              </td><td>5.55              </td><td>5.5               </td><td>5.45              </td><td>5.39              </td><td>5.36              </td><td>5.37              </td><td>5.3100000000000005</td><td>5.28              </td><td>5.2700000000000005</td><td>5.2700000000000005</td><td>5.25              </td><td>5.23              </td><td>5.23              </td><td>5.23              </td><td>5.22              </td><td>5.21              </td><td>5.2               </td><td>5.2               </td><td>5.21               </td><td>5.21               </td><td>5.2                </td><td>5.21              </td><td>5.24              </td><td>5.25              </td><td>5.24               </td><td>5.25               </td><td>5.2700000000000005 </td><td>5.26               </td><td>5.24               </td><td>5.24              </td><td>5.25               </td><td>5.25               </td><td>5.24               </td><td>5.24               </td><td>5.25              </td><td>5.24               </td><td>5.21               </td><td>5.18               </td><td>5.17               </td><td>5.16              </td><td>5.14               </td><td>5.12               </td><td>5.11               </td><td>5.11               </td><td>5.09               </td><td>5.09              </td><td>5.11               </td><td>5.12               </td><td>5.11               </td><td>5.09              </td><td>5.09               </td><td>5.1000000000000005</td><td>5.08               </td><td>5.08               </td><td>5.07               </td><td>5.09               </td><td>5.07               </td><td>5.05               </td><td>5.04               </td><td>5.05               </td><td>5.05               </td><td>5.04               </td><td>5.03               </td><td>5.03              </td><td>5.04               </td><td>5.0200000000000005 </td><td>5.01               </td><td>5.0                </td><td>5.0                </td><td>5.0                </td><td>5.0                </td><td>5.0                </td><td>5.01               </td><td>4.99               </td><td>4.99               </td><td>4.99               </td><td>5.01              </td><td>4.99               </td><td>4.97               </td><td>4.97               </td><td>4.97              </td><td>4.99               </td><td>4.98               </td><td>4.97              </td><td>4.99               </td><td>4.99               </td><td>4.98               </td><td>4.97               </td><td>4.99               </td><td>4.99               </td><td>4.98               </td><td>4.97               </td><td>4.98               </td><td>4.98              </td><td>4.97              </td><td>4.96              </td><td>4.97              </td><td>4.98              </td><td>4.97              </td><td>4.96              </td><td>4.97              </td><td>4.99              </td><td>4.98              </td><td>4.97              </td><td>4.98              </td><td>5.0               </td><td>5.01              </td><td>5.09              </td><td>5.48              </td><td>5.92              </td><td>5.78              </td><td>5.48              </td><td>5.39              </td><td>5.34              </td><td>5.28              </td><td>5.21              </td><td>5.11              </td><td>4.97             </td><td>4.74              </td><td>4.42              </td><td>4.07              </td><td>3.73              </td><td>3.38              </td><td>3.04              </td><td>2.82              </td><td>2.66              </td><td>2.5500000000000003</td><td>2.48              </td><td>2.39              </td><td>2.2800000000000002</td><td>2.25              </td><td>2.16              </td><td>2.14              </td><td>2.1               </td><td>2.1               </td><td>2.09              </td><td>2.08              </td><td>2.08              </td><td>2.11              </td><td>2.14              </td><td>2.18              </td><td>2.2600000000000002</td><td>2.4               </td><td>2.58              </td><td>2.7800000000000002</td><td>3.0100000000000002</td><td>3.29              </td><td>3.6               </td><td>3.89              </td><td>4.15              </td><td>4.42              </td><td>4.69              </td><td>4.92              </td><td>5.12              </td><td>5.3100000000000005</td><td>5.37              </td><td>5.64              </td><td>5.73              </td><td>5.8               </td><td>5.87              </td></tr>\n",
       "<tr><td>8      </td><td>5.93             </td><td>5.97              </td><td>6.0               </td><td>6.0600000000000005</td><td>6.1000000000000005</td><td>6.15              </td><td>6.18              </td><td>6.24              </td><td>6.28              </td><td>6.33             </td><td>6.36              </td><td>6.43              </td><td>6.47              </td><td>6.51              </td><td>6.55              </td><td>6.62              </td><td>6.66              </td><td>6.71              </td><td>6.74              </td><td>6.79              </td><td>6.8100000000000005</td><td>6.87              </td><td>6.91              </td><td>6.95               </td><td>6.99               </td><td>7.01               </td><td>7.03              </td><td>7.05              </td><td>7.08             </td><td>7.1000000000000005</td><td>7.09              </td><td>7.08               </td><td>7.09              </td><td>7.07              </td><td>7.03             </td><td>6.98              </td><td>6.95             </td><td>6.91              </td><td>6.82              </td><td>6.76              </td><td>6.7               </td><td>6.640000000000001 </td><td>6.5600000000000005</td><td>6.46              </td><td>6.390000000000001 </td><td>6.37              </td><td>6.24              </td><td>6.15              </td><td>6.07              </td><td>6.0200000000000005</td><td>5.92              </td><td>5.8500000000000005</td><td>5.78              </td><td>5.73              </td><td>5.68              </td><td>5.62              </td><td>5.5600000000000005</td><td>5.53              </td><td>5.49              </td><td>5.45              </td><td>5.4               </td><td>5.38              </td><td>5.3500000000000005</td><td>5.33              </td><td>5.3               </td><td>5.28              </td><td>5.2700000000000005</td><td>5.24              </td><td>5.21               </td><td>5.2                </td><td>5.21               </td><td>5.19              </td><td>5.17              </td><td>5.16              </td><td>5.17               </td><td>5.15               </td><td>5.15               </td><td>5.13               </td><td>5.15               </td><td>5.15              </td><td>5.14               </td><td>5.13               </td><td>5.14               </td><td>5.14               </td><td>5.13              </td><td>5.12               </td><td>5.13               </td><td>5.14               </td><td>5.13               </td><td>5.12              </td><td>5.14               </td><td>5.15               </td><td>5.13               </td><td>5.11               </td><td>5.13               </td><td>5.13              </td><td>5.14               </td><td>5.12               </td><td>5.12               </td><td>5.12              </td><td>5.12               </td><td>5.11              </td><td>5.1000000000000005 </td><td>5.12               </td><td>5.12               </td><td>5.1000000000000005 </td><td>5.09               </td><td>5.09               </td><td>5.09               </td><td>5.09               </td><td>5.08               </td><td>5.07               </td><td>5.08               </td><td>5.07              </td><td>5.05               </td><td>5.05               </td><td>5.0600000000000005 </td><td>5.05               </td><td>5.04               </td><td>5.04               </td><td>5.05               </td><td>5.04               </td><td>5.0200000000000005 </td><td>5.01               </td><td>5.03               </td><td>5.03               </td><td>5.01              </td><td>5.0                </td><td>5.0200000000000005 </td><td>5.0200000000000005 </td><td>5.0               </td><td>4.99               </td><td>5.01               </td><td>5.01              </td><td>5.01               </td><td>5.01               </td><td>5.04               </td><td>5.04               </td><td>5.04               </td><td>5.03               </td><td>5.03               </td><td>5.04               </td><td>5.04               </td><td>5.0200000000000005</td><td>5.03              </td><td>5.03              </td><td>5.0200000000000005</td><td>4.99              </td><td>4.98              </td><td>4.97              </td><td>4.95              </td><td>4.94              </td><td>4.93              </td><td>4.93              </td><td>4.93              </td><td>4.91              </td><td>4.91              </td><td>4.94              </td><td>4.95              </td><td>4.94              </td><td>4.93              </td><td>4.95              </td><td>4.96              </td><td>4.98              </td><td>5.0600000000000005</td><td>5.39              </td><td>5.84              </td><td>5.74             </td><td>5.44              </td><td>5.3500000000000005</td><td>5.33              </td><td>5.29              </td><td>5.22              </td><td>5.14              </td><td>5.01              </td><td>4.79              </td><td>4.51              </td><td>4.19              </td><td>3.92              </td><td>3.6               </td><td>3.33              </td><td>3.15              </td><td>3.0300000000000002</td><td>2.92              </td><td>2.77              </td><td>2.58              </td><td>2.42              </td><td>2.33              </td><td>2.2800000000000002</td><td>2.2               </td><td>2.16              </td><td>2.13              </td><td>2.1               </td><td>2.09              </td><td>2.09              </td><td>2.09              </td><td>2.12              </td><td>2.18              </td><td>2.29              </td><td>2.44              </td><td>2.62              </td><td>2.83              </td><td>3.11              </td><td>3.45              </td><td>3.79              </td><td>4.09              </td><td>4.41              </td><td>4.69              </td><td>4.95              </td><td>5.17              </td></tr>\n",
       "<tr><td>9      </td><td>5.36             </td><td>5.53              </td><td>5.65              </td><td>5.74              </td><td>5.8               </td><td>5.86              </td><td>5.93              </td><td>5.97              </td><td>6.0               </td><td>6.05             </td><td>6.07              </td><td>6.140000000000001 </td><td>6.17              </td><td>6.21              </td><td>6.2700000000000005</td><td>6.3               </td><td>6.34              </td><td>6.390000000000001 </td><td>6.44              </td><td>6.48              </td><td>6.5200000000000005</td><td>6.5600000000000005</td><td>6.62              </td><td>6.67               </td><td>6.7                </td><td>6.75               </td><td>6.8               </td><td>6.8500000000000005</td><td>6.87             </td><td>6.91              </td><td>6.95              </td><td>6.99               </td><td>7.01              </td><td>7.0               </td><td>7.03             </td><td>7.04              </td><td>7.03             </td><td>6.99              </td><td>6.98              </td><td>6.97              </td><td>6.92              </td><td>6.8500000000000005</td><td>6.8               </td><td>6.75              </td><td>6.69              </td><td>6.6000000000000005</td><td>6.5200000000000005</td><td>6.45              </td><td>6.37              </td><td>6.28              </td><td>6.19              </td><td>6.11              </td><td>6.04              </td><td>5.95              </td><td>5.89              </td><td>5.82              </td><td>5.76              </td><td>5.68              </td><td>5.6000000000000005</td><td>5.5600000000000005</td><td>5.54              </td><td>5.47              </td><td>5.41              </td><td>5.3500000000000005</td><td>5.3500000000000005</td><td>5.32              </td><td>5.28              </td><td>5.25              </td><td>5.23               </td><td>5.22               </td><td>5.19               </td><td>5.17              </td><td>5.16              </td><td>5.15              </td><td>5.14               </td><td>5.11               </td><td>5.12               </td><td>5.12               </td><td>5.1000000000000005 </td><td>5.09              </td><td>5.1000000000000005 </td><td>5.1000000000000005 </td><td>5.09               </td><td>5.08               </td><td>5.09              </td><td>5.09               </td><td>5.1000000000000005 </td><td>5.08               </td><td>5.08               </td><td>5.1000000000000005</td><td>5.1000000000000005 </td><td>5.1000000000000005 </td><td>5.08               </td><td>5.1000000000000005 </td><td>5.11               </td><td>5.09              </td><td>5.09               </td><td>5.09               </td><td>5.1000000000000005 </td><td>5.1000000000000005</td><td>5.08               </td><td>5.09              </td><td>5.1000000000000005 </td><td>5.1000000000000005 </td><td>5.09               </td><td>5.09               </td><td>5.1000000000000005 </td><td>5.08               </td><td>5.08               </td><td>5.08               </td><td>5.07               </td><td>5.07               </td><td>5.05               </td><td>5.04              </td><td>5.05               </td><td>5.04               </td><td>5.03               </td><td>5.0200000000000005 </td><td>5.03               </td><td>5.03               </td><td>5.01               </td><td>5.0                </td><td>5.0200000000000005 </td><td>5.01               </td><td>5.0                </td><td>4.98               </td><td>4.98              </td><td>4.99               </td><td>4.97               </td><td>4.97               </td><td>4.97              </td><td>4.99               </td><td>4.97               </td><td>4.95              </td><td>4.96               </td><td>4.96               </td><td>4.96               </td><td>4.93               </td><td>4.94               </td><td>4.95               </td><td>4.96               </td><td>4.94               </td><td>4.93               </td><td>4.93              </td><td>4.94              </td><td>4.92              </td><td>4.92              </td><td>4.93              </td><td>4.93              </td><td>4.92              </td><td>4.92              </td><td>4.92              </td><td>4.92              </td><td>4.92              </td><td>4.9               </td><td>4.91              </td><td>4.93              </td><td>4.92              </td><td>4.89              </td><td>4.9               </td><td>4.91              </td><td>4.91              </td><td>4.9               </td><td>4.9               </td><td>4.92              </td><td>4.95              </td><td>5.04              </td><td>5.4              </td><td>5.82              </td><td>5.73              </td><td>5.42              </td><td>5.3100000000000005</td><td>5.26              </td><td>5.22              </td><td>5.16              </td><td>5.0600000000000005</td><td>4.89              </td><td>4.59              </td><td>4.23              </td><td>3.87              </td><td>3.48              </td><td>3.12              </td><td>2.82              </td><td>2.58              </td><td>2.45              </td><td>2.42              </td><td>2.19              </td><td>2.09              </td><td>2.04              </td><td>2.0300000000000002</td><td>2.0100000000000002</td><td>1.99              </td><td>1.99              </td><td>2.0               </td><td>2.0               </td><td>2.0               </td><td>2.02              </td><td>2.07              </td><td>2.17              </td><td>2.3000000000000003</td><td>2.5100000000000002</td><td>2.77              </td><td>3.12              </td><td>3.48              </td><td>3.7800000000000002</td><td>4.11              </td><td>4.45              </td><td>4.72              </td><td>4.95              </td><td>5.19              </td></tr>\n",
       "</tbody>\n",
       "</table>"
      ]
     },
     "metadata": {},
     "output_type": "display_data"
    }
   ],
   "source": [
    "train = h2o.import_file(\"data/ecg_discord_train.csv\")\n",
    "\n",
    "train.summary()\n"
   ]
  },
  {
   "cell_type": "markdown",
   "metadata": {},
   "source": [
    "Lets load the heart disease dataset"
   ]
  },
  {
   "cell_type": "code",
   "execution_count": 38,
   "metadata": {
    "scrolled": true
   },
   "outputs": [
    {
     "name": "stdout",
     "output_type": "stream",
     "text": [
      "Parse progress: |█████████████████████████████████████████████████████████| 100%\n"
     ]
    }
   ],
   "source": [
    "test = h2o.import_file(\"data/ecg_discord_test.csv\")"
   ]
  },
  {
   "cell_type": "code",
   "execution_count": 41,
   "metadata": {
    "collapsed": true
   },
   "outputs": [],
   "source": [
    " model = H2ODeepLearningEstimator(activation=\"RectifierWithDropout\",\n",
    "                                  hidden=[32,32,32],\n",
    "                                  autoencoder=True,input_dropout_ratio=0.2,sparse=True,l1=1e-5,epochs=10)"
   ]
  },
  {
   "cell_type": "code",
   "execution_count": 42,
   "metadata": {
    "scrolled": true
   },
   "outputs": [
    {
     "name": "stdout",
     "output_type": "stream",
     "text": [
      "deeplearning Model Build progress: |██████████████████████████████████████| 100%\n"
     ]
    }
   ],
   "source": [
    "model.train(x=train.names,training_frame=train,validation_frame=test)"
   ]
  },
  {
   "cell_type": "code",
   "execution_count": 43,
   "metadata": {
    "scrolled": true
   },
   "outputs": [
    {
     "name": "stdout",
     "output_type": "stream",
     "text": [
      "deeplearning prediction progress: |███████████████████████████████████████| 100%\n"
     ]
    },
    {
     "data": {
      "text/html": [
       "<table>\n",
       "<thead>\n",
       "<tr><th style=\"text-align: right;\">  reconstr_C1</th><th style=\"text-align: right;\">  reconstr_C2</th><th style=\"text-align: right;\">  reconstr_C3</th><th style=\"text-align: right;\">  reconstr_C4</th><th style=\"text-align: right;\">  reconstr_C5</th><th style=\"text-align: right;\">  reconstr_C6</th><th style=\"text-align: right;\">  reconstr_C7</th><th style=\"text-align: right;\">  reconstr_C8</th><th style=\"text-align: right;\">  reconstr_C9</th><th style=\"text-align: right;\">  reconstr_C10</th><th style=\"text-align: right;\">  reconstr_C11</th><th style=\"text-align: right;\">  reconstr_C12</th><th style=\"text-align: right;\">  reconstr_C13</th><th style=\"text-align: right;\">  reconstr_C14</th><th style=\"text-align: right;\">  reconstr_C15</th><th style=\"text-align: right;\">  reconstr_C16</th><th style=\"text-align: right;\">  reconstr_C17</th><th style=\"text-align: right;\">  reconstr_C18</th><th style=\"text-align: right;\">  reconstr_C19</th><th style=\"text-align: right;\">  reconstr_C20</th><th style=\"text-align: right;\">  reconstr_C21</th><th style=\"text-align: right;\">  reconstr_C22</th><th style=\"text-align: right;\">  reconstr_C23</th><th style=\"text-align: right;\">  reconstr_C24</th><th style=\"text-align: right;\">  reconstr_C25</th><th style=\"text-align: right;\">  reconstr_C26</th><th style=\"text-align: right;\">  reconstr_C27</th><th style=\"text-align: right;\">  reconstr_C28</th><th style=\"text-align: right;\">  reconstr_C29</th><th style=\"text-align: right;\">  reconstr_C30</th><th style=\"text-align: right;\">  reconstr_C31</th><th style=\"text-align: right;\">  reconstr_C32</th><th style=\"text-align: right;\">  reconstr_C33</th><th style=\"text-align: right;\">  reconstr_C34</th><th style=\"text-align: right;\">  reconstr_C35</th><th style=\"text-align: right;\">  reconstr_C36</th><th style=\"text-align: right;\">  reconstr_C37</th><th style=\"text-align: right;\">  reconstr_C38</th><th style=\"text-align: right;\">  reconstr_C39</th><th style=\"text-align: right;\">  reconstr_C40</th><th style=\"text-align: right;\">  reconstr_C41</th><th style=\"text-align: right;\">  reconstr_C42</th><th style=\"text-align: right;\">  reconstr_C43</th><th style=\"text-align: right;\">  reconstr_C44</th><th style=\"text-align: right;\">  reconstr_C45</th><th style=\"text-align: right;\">  reconstr_C46</th><th style=\"text-align: right;\">  reconstr_C47</th><th style=\"text-align: right;\">  reconstr_C48</th><th style=\"text-align: right;\">  reconstr_C49</th><th style=\"text-align: right;\">  reconstr_C50</th><th style=\"text-align: right;\">  reconstr_C51</th><th style=\"text-align: right;\">  reconstr_C52</th><th style=\"text-align: right;\">  reconstr_C53</th><th style=\"text-align: right;\">  reconstr_C54</th><th style=\"text-align: right;\">  reconstr_C55</th><th style=\"text-align: right;\">  reconstr_C56</th><th style=\"text-align: right;\">  reconstr_C57</th><th style=\"text-align: right;\">  reconstr_C58</th><th style=\"text-align: right;\">  reconstr_C59</th><th style=\"text-align: right;\">  reconstr_C60</th><th style=\"text-align: right;\">  reconstr_C61</th><th style=\"text-align: right;\">  reconstr_C62</th><th style=\"text-align: right;\">  reconstr_C63</th><th style=\"text-align: right;\">  reconstr_C64</th><th style=\"text-align: right;\">  reconstr_C65</th><th style=\"text-align: right;\">  reconstr_C66</th><th style=\"text-align: right;\">  reconstr_C67</th><th style=\"text-align: right;\">  reconstr_C68</th><th style=\"text-align: right;\">  reconstr_C69</th><th style=\"text-align: right;\">  reconstr_C70</th><th style=\"text-align: right;\">  reconstr_C71</th><th style=\"text-align: right;\">  reconstr_C72</th><th style=\"text-align: right;\">  reconstr_C73</th><th style=\"text-align: right;\">  reconstr_C74</th><th style=\"text-align: right;\">  reconstr_C75</th><th style=\"text-align: right;\">  reconstr_C76</th><th style=\"text-align: right;\">  reconstr_C77</th><th style=\"text-align: right;\">  reconstr_C78</th><th style=\"text-align: right;\">  reconstr_C79</th><th style=\"text-align: right;\">  reconstr_C80</th><th style=\"text-align: right;\">  reconstr_C81</th><th style=\"text-align: right;\">  reconstr_C82</th><th style=\"text-align: right;\">  reconstr_C83</th><th style=\"text-align: right;\">  reconstr_C84</th><th style=\"text-align: right;\">  reconstr_C85</th><th style=\"text-align: right;\">  reconstr_C86</th><th style=\"text-align: right;\">  reconstr_C87</th><th style=\"text-align: right;\">  reconstr_C88</th><th style=\"text-align: right;\">  reconstr_C89</th><th style=\"text-align: right;\">  reconstr_C90</th><th style=\"text-align: right;\">  reconstr_C91</th><th style=\"text-align: right;\">  reconstr_C92</th><th style=\"text-align: right;\">  reconstr_C93</th><th style=\"text-align: right;\">  reconstr_C94</th><th style=\"text-align: right;\">  reconstr_C95</th><th style=\"text-align: right;\">  reconstr_C96</th><th style=\"text-align: right;\">  reconstr_C97</th><th style=\"text-align: right;\">  reconstr_C98</th><th style=\"text-align: right;\">  reconstr_C99</th><th style=\"text-align: right;\">  reconstr_C100</th><th style=\"text-align: right;\">  reconstr_C101</th><th style=\"text-align: right;\">  reconstr_C102</th><th style=\"text-align: right;\">  reconstr_C103</th><th style=\"text-align: right;\">  reconstr_C104</th><th style=\"text-align: right;\">  reconstr_C105</th><th style=\"text-align: right;\">  reconstr_C106</th><th style=\"text-align: right;\">  reconstr_C107</th><th style=\"text-align: right;\">  reconstr_C108</th><th style=\"text-align: right;\">  reconstr_C109</th><th style=\"text-align: right;\">  reconstr_C110</th><th style=\"text-align: right;\">  reconstr_C111</th><th style=\"text-align: right;\">  reconstr_C112</th><th style=\"text-align: right;\">  reconstr_C113</th><th style=\"text-align: right;\">  reconstr_C114</th><th style=\"text-align: right;\">  reconstr_C115</th><th style=\"text-align: right;\">  reconstr_C116</th><th style=\"text-align: right;\">  reconstr_C117</th><th style=\"text-align: right;\">  reconstr_C118</th><th style=\"text-align: right;\">  reconstr_C119</th><th style=\"text-align: right;\">  reconstr_C120</th><th style=\"text-align: right;\">  reconstr_C121</th><th style=\"text-align: right;\">  reconstr_C122</th><th style=\"text-align: right;\">  reconstr_C123</th><th style=\"text-align: right;\">  reconstr_C124</th><th style=\"text-align: right;\">  reconstr_C125</th><th style=\"text-align: right;\">  reconstr_C126</th><th style=\"text-align: right;\">  reconstr_C127</th><th style=\"text-align: right;\">  reconstr_C128</th><th style=\"text-align: right;\">  reconstr_C129</th><th style=\"text-align: right;\">  reconstr_C130</th><th style=\"text-align: right;\">  reconstr_C131</th><th style=\"text-align: right;\">  reconstr_C132</th><th style=\"text-align: right;\">  reconstr_C133</th><th style=\"text-align: right;\">  reconstr_C134</th><th style=\"text-align: right;\">  reconstr_C135</th><th style=\"text-align: right;\">  reconstr_C136</th><th style=\"text-align: right;\">  reconstr_C137</th><th style=\"text-align: right;\">  reconstr_C138</th><th style=\"text-align: right;\">  reconstr_C139</th><th style=\"text-align: right;\">  reconstr_C140</th><th style=\"text-align: right;\">  reconstr_C141</th><th style=\"text-align: right;\">  reconstr_C142</th><th style=\"text-align: right;\">  reconstr_C143</th><th style=\"text-align: right;\">  reconstr_C144</th><th style=\"text-align: right;\">  reconstr_C145</th><th style=\"text-align: right;\">  reconstr_C146</th><th style=\"text-align: right;\">  reconstr_C147</th><th style=\"text-align: right;\">  reconstr_C148</th><th style=\"text-align: right;\">  reconstr_C149</th><th style=\"text-align: right;\">  reconstr_C150</th><th style=\"text-align: right;\">  reconstr_C151</th><th style=\"text-align: right;\">  reconstr_C152</th><th style=\"text-align: right;\">  reconstr_C153</th><th style=\"text-align: right;\">  reconstr_C154</th><th style=\"text-align: right;\">  reconstr_C155</th><th style=\"text-align: right;\">  reconstr_C156</th><th style=\"text-align: right;\">  reconstr_C157</th><th style=\"text-align: right;\">  reconstr_C158</th><th style=\"text-align: right;\">  reconstr_C159</th><th style=\"text-align: right;\">  reconstr_C160</th><th style=\"text-align: right;\">  reconstr_C161</th><th style=\"text-align: right;\">  reconstr_C162</th><th style=\"text-align: right;\">  reconstr_C163</th><th style=\"text-align: right;\">  reconstr_C164</th><th style=\"text-align: right;\">  reconstr_C165</th><th style=\"text-align: right;\">  reconstr_C166</th><th style=\"text-align: right;\">  reconstr_C167</th><th style=\"text-align: right;\">  reconstr_C168</th><th style=\"text-align: right;\">  reconstr_C169</th><th style=\"text-align: right;\">  reconstr_C170</th><th style=\"text-align: right;\">  reconstr_C171</th><th style=\"text-align: right;\">  reconstr_C172</th><th style=\"text-align: right;\">  reconstr_C173</th><th style=\"text-align: right;\">  reconstr_C174</th><th style=\"text-align: right;\">  reconstr_C175</th><th style=\"text-align: right;\">  reconstr_C176</th><th style=\"text-align: right;\">  reconstr_C177</th><th style=\"text-align: right;\">  reconstr_C178</th><th style=\"text-align: right;\">  reconstr_C179</th><th style=\"text-align: right;\">  reconstr_C180</th><th style=\"text-align: right;\">  reconstr_C181</th><th style=\"text-align: right;\">  reconstr_C182</th><th style=\"text-align: right;\">  reconstr_C183</th><th style=\"text-align: right;\">  reconstr_C184</th><th style=\"text-align: right;\">  reconstr_C185</th><th style=\"text-align: right;\">  reconstr_C186</th><th style=\"text-align: right;\">  reconstr_C187</th><th style=\"text-align: right;\">  reconstr_C188</th><th style=\"text-align: right;\">  reconstr_C189</th><th style=\"text-align: right;\">  reconstr_C190</th><th style=\"text-align: right;\">  reconstr_C191</th><th style=\"text-align: right;\">  reconstr_C192</th><th style=\"text-align: right;\">  reconstr_C193</th><th style=\"text-align: right;\">  reconstr_C194</th><th style=\"text-align: right;\">  reconstr_C195</th><th style=\"text-align: right;\">  reconstr_C196</th><th style=\"text-align: right;\">  reconstr_C197</th><th style=\"text-align: right;\">  reconstr_C198</th><th style=\"text-align: right;\">  reconstr_C199</th><th style=\"text-align: right;\">  reconstr_C200</th><th style=\"text-align: right;\">  reconstr_C201</th><th style=\"text-align: right;\">  reconstr_C202</th><th style=\"text-align: right;\">  reconstr_C203</th><th style=\"text-align: right;\">  reconstr_C204</th><th style=\"text-align: right;\">  reconstr_C205</th><th style=\"text-align: right;\">  reconstr_C206</th><th style=\"text-align: right;\">  reconstr_C207</th><th style=\"text-align: right;\">  reconstr_C208</th><th style=\"text-align: right;\">  reconstr_C209</th><th style=\"text-align: right;\">  reconstr_C210</th></tr>\n",
       "</thead>\n",
       "<tbody>\n",
       "<tr><td style=\"text-align: right;\">      5.16406</td><td style=\"text-align: right;\">      5.64597</td><td style=\"text-align: right;\">       4.9645</td><td style=\"text-align: right;\">        5.022</td><td style=\"text-align: right;\">       5.0775</td><td style=\"text-align: right;\">      7.09321</td><td style=\"text-align: right;\">      6.79416</td><td style=\"text-align: right;\">      5.56963</td><td style=\"text-align: right;\">      8.60535</td><td style=\"text-align: right;\">        5.4555</td><td style=\"text-align: right;\">         5.534</td><td style=\"text-align: right;\">        5.6435</td><td style=\"text-align: right;\">         5.748</td><td style=\"text-align: right;\">        5.8465</td><td style=\"text-align: right;\">       6.19845</td><td style=\"text-align: right;\">       8.3089 </td><td style=\"text-align: right;\">       6.81929</td><td style=\"text-align: right;\">       6.65079</td><td style=\"text-align: right;\">       6.25784</td><td style=\"text-align: right;\">       7.43496</td><td style=\"text-align: right;\">       6.59324</td><td style=\"text-align: right;\">       6.36248</td><td style=\"text-align: right;\">       6.78548</td><td style=\"text-align: right;\">        6.3795</td><td style=\"text-align: right;\">       6.8924 </td><td style=\"text-align: right;\">         6.379</td><td style=\"text-align: right;\">       6.73357</td><td style=\"text-align: right;\">        6.3765</td><td style=\"text-align: right;\">       6.92059</td><td style=\"text-align: right;\">        6.3605</td><td style=\"text-align: right;\">       6.3505 </td><td style=\"text-align: right;\">       6.78033</td><td style=\"text-align: right;\">       6.52272</td><td style=\"text-align: right;\">       6.74641</td><td style=\"text-align: right;\">       6.52982</td><td style=\"text-align: right;\">         6.283</td><td style=\"text-align: right;\">       6.73432</td><td style=\"text-align: right;\">         6.248</td><td style=\"text-align: right;\">        6.2305</td><td style=\"text-align: right;\">       6.43296</td><td style=\"text-align: right;\">         6.188</td><td style=\"text-align: right;\">         6.168</td><td style=\"text-align: right;\">         6.145</td><td style=\"text-align: right;\">          6.12</td><td style=\"text-align: right;\">        6.0975</td><td style=\"text-align: right;\">       6.09671</td><td style=\"text-align: right;\">       6.05978</td><td style=\"text-align: right;\">        6.0225</td><td style=\"text-align: right;\">       5.999  </td><td style=\"text-align: right;\">       6.8269 </td><td style=\"text-align: right;\">         5.954</td><td style=\"text-align: right;\">         5.927</td><td style=\"text-align: right;\">       6.25039</td><td style=\"text-align: right;\">       6.55526</td><td style=\"text-align: right;\">       5.8585 </td><td style=\"text-align: right;\">       6.02996</td><td style=\"text-align: right;\">       5.91169</td><td style=\"text-align: right;\">       6.05056</td><td style=\"text-align: right;\">       5.876  </td><td style=\"text-align: right;\">       5.83959</td><td style=\"text-align: right;\">       6.46412</td><td style=\"text-align: right;\">       5.83038</td><td style=\"text-align: right;\">       5.89159</td><td style=\"text-align: right;\">         5.609</td><td style=\"text-align: right;\">       5.79013</td><td style=\"text-align: right;\">         5.552</td><td style=\"text-align: right;\">       6.22948</td><td style=\"text-align: right;\">         5.489</td><td style=\"text-align: right;\">       5.89123</td><td style=\"text-align: right;\">       5.51203</td><td style=\"text-align: right;\">       5.90231</td><td style=\"text-align: right;\">       5.55249</td><td style=\"text-align: right;\">        5.3515</td><td style=\"text-align: right;\">        5.3295</td><td style=\"text-align: right;\">       5.40323</td><td style=\"text-align: right;\">        5.2885</td><td style=\"text-align: right;\">       5.28337</td><td style=\"text-align: right;\">         5.251</td><td style=\"text-align: right;\">         5.234</td><td style=\"text-align: right;\">         5.221</td><td style=\"text-align: right;\">        5.2065</td><td style=\"text-align: right;\">       5.51477</td><td style=\"text-align: right;\">         5.184</td><td style=\"text-align: right;\">         5.174</td><td style=\"text-align: right;\">       5.32308</td><td style=\"text-align: right;\">        5.1555</td><td style=\"text-align: right;\">        5.1485</td><td style=\"text-align: right;\">       5.19689</td><td style=\"text-align: right;\">         5.133</td><td style=\"text-align: right;\">         5.128</td><td style=\"text-align: right;\">        5.1215</td><td style=\"text-align: right;\">       5.17813</td><td style=\"text-align: right;\">       5.12556</td><td style=\"text-align: right;\">        5.1045</td><td style=\"text-align: right;\">         5.103</td><td style=\"text-align: right;\">       5.15352</td><td style=\"text-align: right;\">       5.13131</td><td style=\"text-align: right;\">       5.11344</td><td style=\"text-align: right;\">       5.11162</td><td style=\"text-align: right;\">        5.16719</td><td style=\"text-align: right;\">         5.0775</td><td style=\"text-align: right;\">         5.0785</td><td style=\"text-align: right;\">          5.076</td><td style=\"text-align: right;\">         5.0755</td><td style=\"text-align: right;\">        5.23167</td><td style=\"text-align: right;\">        5.12011</td><td style=\"text-align: right;\">         5.0675</td><td style=\"text-align: right;\">        5.11491</td><td style=\"text-align: right;\">        5.10837</td><td style=\"text-align: right;\">         5.0585</td><td style=\"text-align: right;\">        5.12303</td><td style=\"text-align: right;\">         5.0515</td><td style=\"text-align: right;\">        5.11123</td><td style=\"text-align: right;\">        5.19209</td><td style=\"text-align: right;\">         5.0425</td><td style=\"text-align: right;\">           5.04</td><td style=\"text-align: right;\">        5.0479 </td><td style=\"text-align: right;\">        5.03887</td><td style=\"text-align: right;\">        5.03446</td><td style=\"text-align: right;\">         5.0295</td><td style=\"text-align: right;\">        5.04564</td><td style=\"text-align: right;\">        5.10628</td><td style=\"text-align: right;\">        5.09771</td><td style=\"text-align: right;\">         5.0155</td><td style=\"text-align: right;\">        5.05307</td><td style=\"text-align: right;\">        5.19951</td><td style=\"text-align: right;\">        5.13436</td><td style=\"text-align: right;\">        5.00571</td><td style=\"text-align: right;\">          5.002</td><td style=\"text-align: right;\">          5.008</td><td style=\"text-align: right;\">        5.04544</td><td style=\"text-align: right;\">        5.2448 </td><td style=\"text-align: right;\">          5.026</td><td style=\"text-align: right;\">        5.08543</td><td style=\"text-align: right;\">        5.05687</td><td style=\"text-align: right;\">          5.027</td><td style=\"text-align: right;\">        5.23709</td><td style=\"text-align: right;\">        5.08355</td><td style=\"text-align: right;\">        5.27658</td><td style=\"text-align: right;\">          5.054</td><td style=\"text-align: right;\">          5.038</td><td style=\"text-align: right;\">        5.15671</td><td style=\"text-align: right;\">        5.41246</td><td style=\"text-align: right;\">        5.64835</td><td style=\"text-align: right;\">         4.9455</td><td style=\"text-align: right;\">        6.20031</td><td style=\"text-align: right;\">         4.8575</td><td style=\"text-align: right;\">        5.91606</td><td style=\"text-align: right;\">         4.8635</td><td style=\"text-align: right;\">          4.815</td><td style=\"text-align: right;\">        5.95666</td><td style=\"text-align: right;\">        5.10211</td><td style=\"text-align: right;\">        5.55025</td><td style=\"text-align: right;\">          4.544</td><td style=\"text-align: right;\">          4.482</td><td style=\"text-align: right;\">         4.4275</td><td style=\"text-align: right;\">         4.3695</td><td style=\"text-align: right;\">         4.3385</td><td style=\"text-align: right;\">        4.91542</td><td style=\"text-align: right;\">         4.2555</td><td style=\"text-align: right;\">          4.171</td><td style=\"text-align: right;\">        4.106  </td><td style=\"text-align: right;\">        4.99267</td><td style=\"text-align: right;\">          4.067</td><td style=\"text-align: right;\">          4.074</td><td style=\"text-align: right;\">         4.1015</td><td style=\"text-align: right;\">         4.0755</td><td style=\"text-align: right;\">         4.0455</td><td style=\"text-align: right;\">         4.0165</td><td style=\"text-align: right;\">        4.7504 </td><td style=\"text-align: right;\">        4.7244 </td><td style=\"text-align: right;\">          3.914</td><td style=\"text-align: right;\">          3.893</td><td style=\"text-align: right;\">          3.893</td><td style=\"text-align: right;\">        4.31796</td><td style=\"text-align: right;\">        4.21288</td><td style=\"text-align: right;\">        4.9941 </td><td style=\"text-align: right;\">         3.8455</td><td style=\"text-align: right;\">        4.65595</td><td style=\"text-align: right;\">        5.51336</td><td style=\"text-align: right;\">        6.48994</td><td style=\"text-align: right;\">        4.03858</td><td style=\"text-align: right;\">         3.9545</td><td style=\"text-align: right;\">        4.50073</td><td style=\"text-align: right;\">          4.035</td><td style=\"text-align: right;\">          4.101</td><td style=\"text-align: right;\">        4.37341</td><td style=\"text-align: right;\">          4.229</td><td style=\"text-align: right;\">        4.35697</td><td style=\"text-align: right;\">        5.54337</td><td style=\"text-align: right;\">         4.3365</td><td style=\"text-align: right;\">          4.358</td><td style=\"text-align: right;\">        4.39455</td><td style=\"text-align: right;\">        5.01457</td><td style=\"text-align: right;\">         4.4345</td><td style=\"text-align: right;\">        4.453  </td><td style=\"text-align: right;\">         4.4595</td><td style=\"text-align: right;\">        4.59859</td><td style=\"text-align: right;\">        5.67599</td><td style=\"text-align: right;\">          4.489</td><td style=\"text-align: right;\">        6.41026</td><td style=\"text-align: right;\">        5.65655</td><td style=\"text-align: right;\">            4.6</td><td style=\"text-align: right;\">          4.652</td><td style=\"text-align: right;\">        6.4193 </td><td style=\"text-align: right;\">        4.90117</td><td style=\"text-align: right;\">         4.8345</td><td style=\"text-align: right;\">         4.8965</td><td style=\"text-align: right;\">        5.45693</td><td style=\"text-align: right;\">        5.26236</td></tr>\n",
       "<tr><td style=\"text-align: right;\">      5.1211 </td><td style=\"text-align: right;\">      5.61804</td><td style=\"text-align: right;\">       4.9645</td><td style=\"text-align: right;\">        5.022</td><td style=\"text-align: right;\">       5.0775</td><td style=\"text-align: right;\">      7.04478</td><td style=\"text-align: right;\">      6.8807 </td><td style=\"text-align: right;\">      5.58085</td><td style=\"text-align: right;\">      8.58279</td><td style=\"text-align: right;\">        5.4555</td><td style=\"text-align: right;\">         5.534</td><td style=\"text-align: right;\">        5.6435</td><td style=\"text-align: right;\">         5.748</td><td style=\"text-align: right;\">        5.8465</td><td style=\"text-align: right;\">       6.13784</td><td style=\"text-align: right;\">       8.28407</td><td style=\"text-align: right;\">       6.80487</td><td style=\"text-align: right;\">       6.64984</td><td style=\"text-align: right;\">       6.25402</td><td style=\"text-align: right;\">       7.43743</td><td style=\"text-align: right;\">       6.59968</td><td style=\"text-align: right;\">       6.3465 </td><td style=\"text-align: right;\">       6.77275</td><td style=\"text-align: right;\">        6.3795</td><td style=\"text-align: right;\">       6.88538</td><td style=\"text-align: right;\">         6.379</td><td style=\"text-align: right;\">       6.73304</td><td style=\"text-align: right;\">        6.3765</td><td style=\"text-align: right;\">       6.91054</td><td style=\"text-align: right;\">        6.3605</td><td style=\"text-align: right;\">       6.3505 </td><td style=\"text-align: right;\">       6.76539</td><td style=\"text-align: right;\">       6.54175</td><td style=\"text-align: right;\">       6.76216</td><td style=\"text-align: right;\">       6.52177</td><td style=\"text-align: right;\">         6.283</td><td style=\"text-align: right;\">       6.7448 </td><td style=\"text-align: right;\">         6.248</td><td style=\"text-align: right;\">        6.2305</td><td style=\"text-align: right;\">       6.40467</td><td style=\"text-align: right;\">         6.188</td><td style=\"text-align: right;\">         6.168</td><td style=\"text-align: right;\">         6.145</td><td style=\"text-align: right;\">          6.12</td><td style=\"text-align: right;\">        6.0975</td><td style=\"text-align: right;\">       6.09357</td><td style=\"text-align: right;\">       6.05093</td><td style=\"text-align: right;\">        6.0225</td><td style=\"text-align: right;\">       5.999  </td><td style=\"text-align: right;\">       6.81566</td><td style=\"text-align: right;\">         5.954</td><td style=\"text-align: right;\">         5.927</td><td style=\"text-align: right;\">       6.23918</td><td style=\"text-align: right;\">       6.58138</td><td style=\"text-align: right;\">       5.86653</td><td style=\"text-align: right;\">       6.04709</td><td style=\"text-align: right;\">       5.88308</td><td style=\"text-align: right;\">       6.03007</td><td style=\"text-align: right;\">       5.88961</td><td style=\"text-align: right;\">       5.84744</td><td style=\"text-align: right;\">       6.48021</td><td style=\"text-align: right;\">       5.82482</td><td style=\"text-align: right;\">       5.89532</td><td style=\"text-align: right;\">         5.609</td><td style=\"text-align: right;\">       5.81147</td><td style=\"text-align: right;\">         5.552</td><td style=\"text-align: right;\">       6.20834</td><td style=\"text-align: right;\">         5.489</td><td style=\"text-align: right;\">       5.89375</td><td style=\"text-align: right;\">       5.52106</td><td style=\"text-align: right;\">       5.89742</td><td style=\"text-align: right;\">       5.55524</td><td style=\"text-align: right;\">        5.3515</td><td style=\"text-align: right;\">        5.3295</td><td style=\"text-align: right;\">       5.40446</td><td style=\"text-align: right;\">        5.2885</td><td style=\"text-align: right;\">       5.28063</td><td style=\"text-align: right;\">         5.251</td><td style=\"text-align: right;\">         5.234</td><td style=\"text-align: right;\">         5.221</td><td style=\"text-align: right;\">        5.2065</td><td style=\"text-align: right;\">       5.51111</td><td style=\"text-align: right;\">         5.184</td><td style=\"text-align: right;\">         5.174</td><td style=\"text-align: right;\">       5.32801</td><td style=\"text-align: right;\">        5.1555</td><td style=\"text-align: right;\">        5.1485</td><td style=\"text-align: right;\">       5.18957</td><td style=\"text-align: right;\">         5.133</td><td style=\"text-align: right;\">         5.128</td><td style=\"text-align: right;\">        5.1215</td><td style=\"text-align: right;\">       5.17889</td><td style=\"text-align: right;\">       5.12214</td><td style=\"text-align: right;\">        5.1045</td><td style=\"text-align: right;\">         5.103</td><td style=\"text-align: right;\">       5.15625</td><td style=\"text-align: right;\">       5.1266 </td><td style=\"text-align: right;\">       5.11361</td><td style=\"text-align: right;\">       5.10746</td><td style=\"text-align: right;\">        5.16508</td><td style=\"text-align: right;\">         5.0775</td><td style=\"text-align: right;\">         5.0785</td><td style=\"text-align: right;\">          5.076</td><td style=\"text-align: right;\">         5.0755</td><td style=\"text-align: right;\">        5.23435</td><td style=\"text-align: right;\">        5.11661</td><td style=\"text-align: right;\">         5.0675</td><td style=\"text-align: right;\">        5.11321</td><td style=\"text-align: right;\">        5.10847</td><td style=\"text-align: right;\">         5.0585</td><td style=\"text-align: right;\">        5.12321</td><td style=\"text-align: right;\">         5.0515</td><td style=\"text-align: right;\">        5.11147</td><td style=\"text-align: right;\">        5.19177</td><td style=\"text-align: right;\">         5.0425</td><td style=\"text-align: right;\">           5.04</td><td style=\"text-align: right;\">        5.04816</td><td style=\"text-align: right;\">        5.0408 </td><td style=\"text-align: right;\">        5.0325 </td><td style=\"text-align: right;\">         5.0295</td><td style=\"text-align: right;\">        5.04469</td><td style=\"text-align: right;\">        5.10383</td><td style=\"text-align: right;\">        5.10017</td><td style=\"text-align: right;\">         5.0155</td><td style=\"text-align: right;\">        5.05371</td><td style=\"text-align: right;\">        5.19877</td><td style=\"text-align: right;\">        5.13137</td><td style=\"text-align: right;\">        5.00443</td><td style=\"text-align: right;\">          5.002</td><td style=\"text-align: right;\">          5.008</td><td style=\"text-align: right;\">        5.05097</td><td style=\"text-align: right;\">        5.24145</td><td style=\"text-align: right;\">          5.026</td><td style=\"text-align: right;\">        5.08132</td><td style=\"text-align: right;\">        5.04361</td><td style=\"text-align: right;\">          5.027</td><td style=\"text-align: right;\">        5.24034</td><td style=\"text-align: right;\">        5.08613</td><td style=\"text-align: right;\">        5.27055</td><td style=\"text-align: right;\">          5.054</td><td style=\"text-align: right;\">          5.038</td><td style=\"text-align: right;\">        5.1538 </td><td style=\"text-align: right;\">        5.39504</td><td style=\"text-align: right;\">        5.65297</td><td style=\"text-align: right;\">         4.9455</td><td style=\"text-align: right;\">        6.15659</td><td style=\"text-align: right;\">         4.8575</td><td style=\"text-align: right;\">        5.89386</td><td style=\"text-align: right;\">         4.8635</td><td style=\"text-align: right;\">          4.815</td><td style=\"text-align: right;\">        5.94264</td><td style=\"text-align: right;\">        5.09711</td><td style=\"text-align: right;\">        5.5545 </td><td style=\"text-align: right;\">          4.544</td><td style=\"text-align: right;\">          4.482</td><td style=\"text-align: right;\">         4.4275</td><td style=\"text-align: right;\">         4.3695</td><td style=\"text-align: right;\">         4.3385</td><td style=\"text-align: right;\">        4.89268</td><td style=\"text-align: right;\">         4.2555</td><td style=\"text-align: right;\">          4.171</td><td style=\"text-align: right;\">        4.106  </td><td style=\"text-align: right;\">        4.98555</td><td style=\"text-align: right;\">          4.067</td><td style=\"text-align: right;\">          4.074</td><td style=\"text-align: right;\">         4.1015</td><td style=\"text-align: right;\">         4.0755</td><td style=\"text-align: right;\">         4.0455</td><td style=\"text-align: right;\">         4.0165</td><td style=\"text-align: right;\">        4.77164</td><td style=\"text-align: right;\">        4.73682</td><td style=\"text-align: right;\">          3.914</td><td style=\"text-align: right;\">          3.893</td><td style=\"text-align: right;\">          3.893</td><td style=\"text-align: right;\">        4.31743</td><td style=\"text-align: right;\">        4.20185</td><td style=\"text-align: right;\">        4.99683</td><td style=\"text-align: right;\">         3.8455</td><td style=\"text-align: right;\">        4.64923</td><td style=\"text-align: right;\">        5.48241</td><td style=\"text-align: right;\">        6.5283 </td><td style=\"text-align: right;\">        4.01235</td><td style=\"text-align: right;\">         3.9545</td><td style=\"text-align: right;\">        4.54145</td><td style=\"text-align: right;\">          4.035</td><td style=\"text-align: right;\">          4.101</td><td style=\"text-align: right;\">        4.39128</td><td style=\"text-align: right;\">          4.229</td><td style=\"text-align: right;\">        4.32122</td><td style=\"text-align: right;\">        5.56639</td><td style=\"text-align: right;\">         4.3365</td><td style=\"text-align: right;\">          4.358</td><td style=\"text-align: right;\">        4.39493</td><td style=\"text-align: right;\">        5.03824</td><td style=\"text-align: right;\">         4.4345</td><td style=\"text-align: right;\">        4.453  </td><td style=\"text-align: right;\">         4.4595</td><td style=\"text-align: right;\">        4.61193</td><td style=\"text-align: right;\">        5.67887</td><td style=\"text-align: right;\">          4.489</td><td style=\"text-align: right;\">        6.38331</td><td style=\"text-align: right;\">        5.66218</td><td style=\"text-align: right;\">            4.6</td><td style=\"text-align: right;\">          4.652</td><td style=\"text-align: right;\">        6.34976</td><td style=\"text-align: right;\">        4.88267</td><td style=\"text-align: right;\">         4.8345</td><td style=\"text-align: right;\">         4.8965</td><td style=\"text-align: right;\">        5.49133</td><td style=\"text-align: right;\">        5.14971</td></tr>\n",
       "<tr><td style=\"text-align: right;\">      5.1089 </td><td style=\"text-align: right;\">      5.62365</td><td style=\"text-align: right;\">       4.9645</td><td style=\"text-align: right;\">        5.022</td><td style=\"text-align: right;\">       5.0775</td><td style=\"text-align: right;\">      7.05279</td><td style=\"text-align: right;\">      6.87221</td><td style=\"text-align: right;\">      5.60405</td><td style=\"text-align: right;\">      8.55383</td><td style=\"text-align: right;\">        5.4555</td><td style=\"text-align: right;\">         5.534</td><td style=\"text-align: right;\">        5.6435</td><td style=\"text-align: right;\">         5.748</td><td style=\"text-align: right;\">        5.8465</td><td style=\"text-align: right;\">       6.14247</td><td style=\"text-align: right;\">       8.25976</td><td style=\"text-align: right;\">       6.81236</td><td style=\"text-align: right;\">       6.68674</td><td style=\"text-align: right;\">       6.2479 </td><td style=\"text-align: right;\">       7.41487</td><td style=\"text-align: right;\">       6.5876 </td><td style=\"text-align: right;\">       6.34701</td><td style=\"text-align: right;\">       6.78135</td><td style=\"text-align: right;\">        6.3795</td><td style=\"text-align: right;\">       6.88249</td><td style=\"text-align: right;\">         6.379</td><td style=\"text-align: right;\">       6.73462</td><td style=\"text-align: right;\">        6.3765</td><td style=\"text-align: right;\">       6.92534</td><td style=\"text-align: right;\">        6.3605</td><td style=\"text-align: right;\">       6.3505 </td><td style=\"text-align: right;\">       6.756  </td><td style=\"text-align: right;\">       6.54168</td><td style=\"text-align: right;\">       6.76657</td><td style=\"text-align: right;\">       6.51938</td><td style=\"text-align: right;\">         6.283</td><td style=\"text-align: right;\">       6.75499</td><td style=\"text-align: right;\">         6.248</td><td style=\"text-align: right;\">        6.2305</td><td style=\"text-align: right;\">       6.4063 </td><td style=\"text-align: right;\">         6.188</td><td style=\"text-align: right;\">         6.168</td><td style=\"text-align: right;\">         6.145</td><td style=\"text-align: right;\">          6.12</td><td style=\"text-align: right;\">        6.0975</td><td style=\"text-align: right;\">       6.10941</td><td style=\"text-align: right;\">       6.05915</td><td style=\"text-align: right;\">        6.0225</td><td style=\"text-align: right;\">       5.999  </td><td style=\"text-align: right;\">       6.80919</td><td style=\"text-align: right;\">         5.954</td><td style=\"text-align: right;\">         5.927</td><td style=\"text-align: right;\">       6.24695</td><td style=\"text-align: right;\">       6.55981</td><td style=\"text-align: right;\">       5.87462</td><td style=\"text-align: right;\">       6.04153</td><td style=\"text-align: right;\">       5.88713</td><td style=\"text-align: right;\">       6.05481</td><td style=\"text-align: right;\">       5.89679</td><td style=\"text-align: right;\">       5.86533</td><td style=\"text-align: right;\">       6.46949</td><td style=\"text-align: right;\">       5.84306</td><td style=\"text-align: right;\">       5.88897</td><td style=\"text-align: right;\">         5.609</td><td style=\"text-align: right;\">       5.80827</td><td style=\"text-align: right;\">         5.552</td><td style=\"text-align: right;\">       6.20479</td><td style=\"text-align: right;\">         5.489</td><td style=\"text-align: right;\">       5.90605</td><td style=\"text-align: right;\">       5.51173</td><td style=\"text-align: right;\">       5.89691</td><td style=\"text-align: right;\">       5.54979</td><td style=\"text-align: right;\">        5.3515</td><td style=\"text-align: right;\">        5.3295</td><td style=\"text-align: right;\">       5.39737</td><td style=\"text-align: right;\">        5.2885</td><td style=\"text-align: right;\">       5.28627</td><td style=\"text-align: right;\">         5.251</td><td style=\"text-align: right;\">         5.234</td><td style=\"text-align: right;\">         5.221</td><td style=\"text-align: right;\">        5.2065</td><td style=\"text-align: right;\">       5.50901</td><td style=\"text-align: right;\">         5.184</td><td style=\"text-align: right;\">         5.174</td><td style=\"text-align: right;\">       5.32722</td><td style=\"text-align: right;\">        5.1555</td><td style=\"text-align: right;\">        5.1485</td><td style=\"text-align: right;\">       5.19051</td><td style=\"text-align: right;\">         5.133</td><td style=\"text-align: right;\">         5.128</td><td style=\"text-align: right;\">        5.1215</td><td style=\"text-align: right;\">       5.177  </td><td style=\"text-align: right;\">       5.12206</td><td style=\"text-align: right;\">        5.1045</td><td style=\"text-align: right;\">         5.103</td><td style=\"text-align: right;\">       5.15593</td><td style=\"text-align: right;\">       5.12745</td><td style=\"text-align: right;\">       5.11411</td><td style=\"text-align: right;\">       5.10892</td><td style=\"text-align: right;\">        5.16349</td><td style=\"text-align: right;\">         5.0775</td><td style=\"text-align: right;\">         5.0785</td><td style=\"text-align: right;\">          5.076</td><td style=\"text-align: right;\">         5.0755</td><td style=\"text-align: right;\">        5.23342</td><td style=\"text-align: right;\">        5.11528</td><td style=\"text-align: right;\">         5.0675</td><td style=\"text-align: right;\">        5.11524</td><td style=\"text-align: right;\">        5.11044</td><td style=\"text-align: right;\">         5.0585</td><td style=\"text-align: right;\">        5.1227 </td><td style=\"text-align: right;\">         5.0515</td><td style=\"text-align: right;\">        5.11373</td><td style=\"text-align: right;\">        5.19143</td><td style=\"text-align: right;\">         5.0425</td><td style=\"text-align: right;\">           5.04</td><td style=\"text-align: right;\">        5.04904</td><td style=\"text-align: right;\">        5.04041</td><td style=\"text-align: right;\">        5.03321</td><td style=\"text-align: right;\">         5.0295</td><td style=\"text-align: right;\">        5.0447 </td><td style=\"text-align: right;\">        5.10292</td><td style=\"text-align: right;\">        5.1005 </td><td style=\"text-align: right;\">         5.0155</td><td style=\"text-align: right;\">        5.05282</td><td style=\"text-align: right;\">        5.19922</td><td style=\"text-align: right;\">        5.12924</td><td style=\"text-align: right;\">        5.00535</td><td style=\"text-align: right;\">          5.002</td><td style=\"text-align: right;\">          5.008</td><td style=\"text-align: right;\">        5.04816</td><td style=\"text-align: right;\">        5.23495</td><td style=\"text-align: right;\">          5.026</td><td style=\"text-align: right;\">        5.08399</td><td style=\"text-align: right;\">        5.0435 </td><td style=\"text-align: right;\">          5.027</td><td style=\"text-align: right;\">        5.24391</td><td style=\"text-align: right;\">        5.08719</td><td style=\"text-align: right;\">        5.27156</td><td style=\"text-align: right;\">          5.054</td><td style=\"text-align: right;\">          5.038</td><td style=\"text-align: right;\">        5.15754</td><td style=\"text-align: right;\">        5.39418</td><td style=\"text-align: right;\">        5.63616</td><td style=\"text-align: right;\">         4.9455</td><td style=\"text-align: right;\">        6.16994</td><td style=\"text-align: right;\">         4.8575</td><td style=\"text-align: right;\">        5.89851</td><td style=\"text-align: right;\">         4.8635</td><td style=\"text-align: right;\">          4.815</td><td style=\"text-align: right;\">        5.91367</td><td style=\"text-align: right;\">        5.08426</td><td style=\"text-align: right;\">        5.56466</td><td style=\"text-align: right;\">          4.544</td><td style=\"text-align: right;\">          4.482</td><td style=\"text-align: right;\">         4.4275</td><td style=\"text-align: right;\">         4.3695</td><td style=\"text-align: right;\">         4.3385</td><td style=\"text-align: right;\">        4.86986</td><td style=\"text-align: right;\">         4.2555</td><td style=\"text-align: right;\">          4.171</td><td style=\"text-align: right;\">        4.106  </td><td style=\"text-align: right;\">        4.99471</td><td style=\"text-align: right;\">          4.067</td><td style=\"text-align: right;\">          4.074</td><td style=\"text-align: right;\">         4.1015</td><td style=\"text-align: right;\">         4.0755</td><td style=\"text-align: right;\">         4.0455</td><td style=\"text-align: right;\">         4.0165</td><td style=\"text-align: right;\">        4.7906 </td><td style=\"text-align: right;\">        4.73152</td><td style=\"text-align: right;\">          3.914</td><td style=\"text-align: right;\">          3.893</td><td style=\"text-align: right;\">          3.893</td><td style=\"text-align: right;\">        4.30755</td><td style=\"text-align: right;\">        4.20636</td><td style=\"text-align: right;\">        5.01905</td><td style=\"text-align: right;\">         3.8455</td><td style=\"text-align: right;\">        4.62389</td><td style=\"text-align: right;\">        5.48097</td><td style=\"text-align: right;\">        6.53231</td><td style=\"text-align: right;\">        4.01148</td><td style=\"text-align: right;\">         3.9545</td><td style=\"text-align: right;\">        4.5288 </td><td style=\"text-align: right;\">          4.035</td><td style=\"text-align: right;\">          4.101</td><td style=\"text-align: right;\">        4.40803</td><td style=\"text-align: right;\">          4.229</td><td style=\"text-align: right;\">        4.34726</td><td style=\"text-align: right;\">        5.56549</td><td style=\"text-align: right;\">         4.3365</td><td style=\"text-align: right;\">          4.358</td><td style=\"text-align: right;\">        4.42502</td><td style=\"text-align: right;\">        5.03412</td><td style=\"text-align: right;\">         4.4345</td><td style=\"text-align: right;\">        4.453  </td><td style=\"text-align: right;\">         4.4595</td><td style=\"text-align: right;\">        4.61747</td><td style=\"text-align: right;\">        5.68371</td><td style=\"text-align: right;\">          4.489</td><td style=\"text-align: right;\">        6.37278</td><td style=\"text-align: right;\">        5.65825</td><td style=\"text-align: right;\">            4.6</td><td style=\"text-align: right;\">          4.652</td><td style=\"text-align: right;\">        6.34868</td><td style=\"text-align: right;\">        4.9094 </td><td style=\"text-align: right;\">         4.8345</td><td style=\"text-align: right;\">         4.8965</td><td style=\"text-align: right;\">        5.49005</td><td style=\"text-align: right;\">        5.17254</td></tr>\n",
       "<tr><td style=\"text-align: right;\">      5.09751</td><td style=\"text-align: right;\">      5.68243</td><td style=\"text-align: right;\">       4.9645</td><td style=\"text-align: right;\">        5.022</td><td style=\"text-align: right;\">       5.0775</td><td style=\"text-align: right;\">      7.09159</td><td style=\"text-align: right;\">      6.86111</td><td style=\"text-align: right;\">      5.64886</td><td style=\"text-align: right;\">      8.54814</td><td style=\"text-align: right;\">        5.4555</td><td style=\"text-align: right;\">         5.534</td><td style=\"text-align: right;\">        5.6435</td><td style=\"text-align: right;\">         5.748</td><td style=\"text-align: right;\">        5.8465</td><td style=\"text-align: right;\">       6.25335</td><td style=\"text-align: right;\">       8.21978</td><td style=\"text-align: right;\">       6.83593</td><td style=\"text-align: right;\">       6.75553</td><td style=\"text-align: right;\">       6.24632</td><td style=\"text-align: right;\">       7.33176</td><td style=\"text-align: right;\">       6.60633</td><td style=\"text-align: right;\">       6.36391</td><td style=\"text-align: right;\">       6.77108</td><td style=\"text-align: right;\">        6.3795</td><td style=\"text-align: right;\">       6.88262</td><td style=\"text-align: right;\">         6.379</td><td style=\"text-align: right;\">       6.7107 </td><td style=\"text-align: right;\">        6.3765</td><td style=\"text-align: right;\">       6.96152</td><td style=\"text-align: right;\">        6.3605</td><td style=\"text-align: right;\">       6.3505 </td><td style=\"text-align: right;\">       6.76877</td><td style=\"text-align: right;\">       6.53474</td><td style=\"text-align: right;\">       6.75837</td><td style=\"text-align: right;\">       6.50346</td><td style=\"text-align: right;\">         6.283</td><td style=\"text-align: right;\">       6.73789</td><td style=\"text-align: right;\">         6.248</td><td style=\"text-align: right;\">        6.2305</td><td style=\"text-align: right;\">       6.37378</td><td style=\"text-align: right;\">         6.188</td><td style=\"text-align: right;\">         6.168</td><td style=\"text-align: right;\">         6.145</td><td style=\"text-align: right;\">          6.12</td><td style=\"text-align: right;\">        6.0975</td><td style=\"text-align: right;\">       6.11844</td><td style=\"text-align: right;\">       6.06633</td><td style=\"text-align: right;\">        6.0225</td><td style=\"text-align: right;\">       5.999  </td><td style=\"text-align: right;\">       6.82971</td><td style=\"text-align: right;\">         5.954</td><td style=\"text-align: right;\">         5.927</td><td style=\"text-align: right;\">       6.28715</td><td style=\"text-align: right;\">       6.53264</td><td style=\"text-align: right;\">       5.8585 </td><td style=\"text-align: right;\">       6.04363</td><td style=\"text-align: right;\">       5.90549</td><td style=\"text-align: right;\">       6.07759</td><td style=\"text-align: right;\">       5.92472</td><td style=\"text-align: right;\">       5.9096 </td><td style=\"text-align: right;\">       6.46031</td><td style=\"text-align: right;\">       5.82974</td><td style=\"text-align: right;\">       5.86949</td><td style=\"text-align: right;\">         5.609</td><td style=\"text-align: right;\">       5.78154</td><td style=\"text-align: right;\">         5.552</td><td style=\"text-align: right;\">       6.2087 </td><td style=\"text-align: right;\">         5.489</td><td style=\"text-align: right;\">       5.94223</td><td style=\"text-align: right;\">       5.48179</td><td style=\"text-align: right;\">       5.88208</td><td style=\"text-align: right;\">       5.55605</td><td style=\"text-align: right;\">        5.3515</td><td style=\"text-align: right;\">        5.3295</td><td style=\"text-align: right;\">       5.39225</td><td style=\"text-align: right;\">        5.2885</td><td style=\"text-align: right;\">       5.30071</td><td style=\"text-align: right;\">         5.251</td><td style=\"text-align: right;\">         5.234</td><td style=\"text-align: right;\">         5.221</td><td style=\"text-align: right;\">        5.2065</td><td style=\"text-align: right;\">       5.51695</td><td style=\"text-align: right;\">         5.184</td><td style=\"text-align: right;\">         5.174</td><td style=\"text-align: right;\">       5.332  </td><td style=\"text-align: right;\">        5.1555</td><td style=\"text-align: right;\">        5.1485</td><td style=\"text-align: right;\">       5.1906 </td><td style=\"text-align: right;\">         5.133</td><td style=\"text-align: right;\">         5.128</td><td style=\"text-align: right;\">        5.1215</td><td style=\"text-align: right;\">       5.1739 </td><td style=\"text-align: right;\">       5.11569</td><td style=\"text-align: right;\">        5.1045</td><td style=\"text-align: right;\">         5.103</td><td style=\"text-align: right;\">       5.15422</td><td style=\"text-align: right;\">       5.13113</td><td style=\"text-align: right;\">       5.11982</td><td style=\"text-align: right;\">       5.10534</td><td style=\"text-align: right;\">        5.16134</td><td style=\"text-align: right;\">         5.0775</td><td style=\"text-align: right;\">         5.0785</td><td style=\"text-align: right;\">          5.076</td><td style=\"text-align: right;\">         5.0755</td><td style=\"text-align: right;\">        5.23121</td><td style=\"text-align: right;\">        5.11291</td><td style=\"text-align: right;\">         5.0675</td><td style=\"text-align: right;\">        5.11754</td><td style=\"text-align: right;\">        5.11239</td><td style=\"text-align: right;\">         5.0585</td><td style=\"text-align: right;\">        5.11959</td><td style=\"text-align: right;\">         5.0515</td><td style=\"text-align: right;\">        5.11886</td><td style=\"text-align: right;\">        5.19498</td><td style=\"text-align: right;\">         5.0425</td><td style=\"text-align: right;\">           5.04</td><td style=\"text-align: right;\">        5.04153</td><td style=\"text-align: right;\">        5.03795</td><td style=\"text-align: right;\">        5.03262</td><td style=\"text-align: right;\">         5.0295</td><td style=\"text-align: right;\">        5.04583</td><td style=\"text-align: right;\">        5.10476</td><td style=\"text-align: right;\">        5.09573</td><td style=\"text-align: right;\">         5.0155</td><td style=\"text-align: right;\">        5.05039</td><td style=\"text-align: right;\">        5.20249</td><td style=\"text-align: right;\">        5.12708</td><td style=\"text-align: right;\">        5.00657</td><td style=\"text-align: right;\">          5.002</td><td style=\"text-align: right;\">          5.008</td><td style=\"text-align: right;\">        5.04001</td><td style=\"text-align: right;\">        5.24111</td><td style=\"text-align: right;\">          5.026</td><td style=\"text-align: right;\">        5.09053</td><td style=\"text-align: right;\">        5.04502</td><td style=\"text-align: right;\">          5.027</td><td style=\"text-align: right;\">        5.2604 </td><td style=\"text-align: right;\">        5.08802</td><td style=\"text-align: right;\">        5.27402</td><td style=\"text-align: right;\">          5.054</td><td style=\"text-align: right;\">          5.038</td><td style=\"text-align: right;\">        5.19177</td><td style=\"text-align: right;\">        5.33914</td><td style=\"text-align: right;\">        5.64635</td><td style=\"text-align: right;\">         4.9455</td><td style=\"text-align: right;\">        6.16304</td><td style=\"text-align: right;\">         4.8575</td><td style=\"text-align: right;\">        5.9082 </td><td style=\"text-align: right;\">         4.8635</td><td style=\"text-align: right;\">          4.815</td><td style=\"text-align: right;\">        5.79265</td><td style=\"text-align: right;\">        5.08004</td><td style=\"text-align: right;\">        5.58462</td><td style=\"text-align: right;\">          4.544</td><td style=\"text-align: right;\">          4.482</td><td style=\"text-align: right;\">         4.4275</td><td style=\"text-align: right;\">         4.3695</td><td style=\"text-align: right;\">         4.3385</td><td style=\"text-align: right;\">        4.86935</td><td style=\"text-align: right;\">         4.2555</td><td style=\"text-align: right;\">          4.171</td><td style=\"text-align: right;\">        4.106  </td><td style=\"text-align: right;\">        5.0171 </td><td style=\"text-align: right;\">          4.067</td><td style=\"text-align: right;\">          4.074</td><td style=\"text-align: right;\">         4.1015</td><td style=\"text-align: right;\">         4.0755</td><td style=\"text-align: right;\">         4.0455</td><td style=\"text-align: right;\">         4.0165</td><td style=\"text-align: right;\">        4.82246</td><td style=\"text-align: right;\">        4.71803</td><td style=\"text-align: right;\">          3.914</td><td style=\"text-align: right;\">          3.893</td><td style=\"text-align: right;\">          3.893</td><td style=\"text-align: right;\">        4.27085</td><td style=\"text-align: right;\">        4.24069</td><td style=\"text-align: right;\">        5.07502</td><td style=\"text-align: right;\">         3.8455</td><td style=\"text-align: right;\">        4.64662</td><td style=\"text-align: right;\">        5.57831</td><td style=\"text-align: right;\">        6.57973</td><td style=\"text-align: right;\">        4.05775</td><td style=\"text-align: right;\">         3.9545</td><td style=\"text-align: right;\">        4.47499</td><td style=\"text-align: right;\">          4.035</td><td style=\"text-align: right;\">          4.101</td><td style=\"text-align: right;\">        4.41105</td><td style=\"text-align: right;\">          4.229</td><td style=\"text-align: right;\">        4.35914</td><td style=\"text-align: right;\">        5.5744 </td><td style=\"text-align: right;\">         4.3365</td><td style=\"text-align: right;\">          4.358</td><td style=\"text-align: right;\">        4.48175</td><td style=\"text-align: right;\">        5.10762</td><td style=\"text-align: right;\">         4.4345</td><td style=\"text-align: right;\">        4.51291</td><td style=\"text-align: right;\">         4.4595</td><td style=\"text-align: right;\">        4.55624</td><td style=\"text-align: right;\">        5.66303</td><td style=\"text-align: right;\">          4.489</td><td style=\"text-align: right;\">        6.28688</td><td style=\"text-align: right;\">        5.62567</td><td style=\"text-align: right;\">            4.6</td><td style=\"text-align: right;\">          4.652</td><td style=\"text-align: right;\">        6.37624</td><td style=\"text-align: right;\">        5.01885</td><td style=\"text-align: right;\">         4.8345</td><td style=\"text-align: right;\">         4.8965</td><td style=\"text-align: right;\">        5.38794</td><td style=\"text-align: right;\">        5.2648 </td></tr>\n",
       "<tr><td style=\"text-align: right;\">      5.12546</td><td style=\"text-align: right;\">      5.6702 </td><td style=\"text-align: right;\">       4.9645</td><td style=\"text-align: right;\">        5.022</td><td style=\"text-align: right;\">       5.0775</td><td style=\"text-align: right;\">      7.12712</td><td style=\"text-align: right;\">      6.8462 </td><td style=\"text-align: right;\">      5.6239 </td><td style=\"text-align: right;\">      8.57427</td><td style=\"text-align: right;\">        5.4555</td><td style=\"text-align: right;\">         5.534</td><td style=\"text-align: right;\">        5.6435</td><td style=\"text-align: right;\">         5.748</td><td style=\"text-align: right;\">        5.8465</td><td style=\"text-align: right;\">       6.24945</td><td style=\"text-align: right;\">       8.31552</td><td style=\"text-align: right;\">       6.83634</td><td style=\"text-align: right;\">       6.71307</td><td style=\"text-align: right;\">       6.27336</td><td style=\"text-align: right;\">       7.38893</td><td style=\"text-align: right;\">       6.59004</td><td style=\"text-align: right;\">       6.4005 </td><td style=\"text-align: right;\">       6.78584</td><td style=\"text-align: right;\">        6.3795</td><td style=\"text-align: right;\">       6.89348</td><td style=\"text-align: right;\">         6.379</td><td style=\"text-align: right;\">       6.73055</td><td style=\"text-align: right;\">        6.3765</td><td style=\"text-align: right;\">       6.93751</td><td style=\"text-align: right;\">        6.3605</td><td style=\"text-align: right;\">       6.3505 </td><td style=\"text-align: right;\">       6.77204</td><td style=\"text-align: right;\">       6.51957</td><td style=\"text-align: right;\">       6.74527</td><td style=\"text-align: right;\">       6.54625</td><td style=\"text-align: right;\">         6.283</td><td style=\"text-align: right;\">       6.74133</td><td style=\"text-align: right;\">         6.248</td><td style=\"text-align: right;\">        6.2305</td><td style=\"text-align: right;\">       6.4036 </td><td style=\"text-align: right;\">         6.188</td><td style=\"text-align: right;\">         6.168</td><td style=\"text-align: right;\">         6.145</td><td style=\"text-align: right;\">          6.12</td><td style=\"text-align: right;\">        6.0975</td><td style=\"text-align: right;\">       6.09999</td><td style=\"text-align: right;\">       6.06536</td><td style=\"text-align: right;\">        6.0225</td><td style=\"text-align: right;\">       5.999  </td><td style=\"text-align: right;\">       6.83509</td><td style=\"text-align: right;\">         5.954</td><td style=\"text-align: right;\">         5.927</td><td style=\"text-align: right;\">       6.26313</td><td style=\"text-align: right;\">       6.5459 </td><td style=\"text-align: right;\">       5.86549</td><td style=\"text-align: right;\">       6.0288 </td><td style=\"text-align: right;\">       5.94136</td><td style=\"text-align: right;\">       6.06189</td><td style=\"text-align: right;\">       5.87504</td><td style=\"text-align: right;\">       5.86004</td><td style=\"text-align: right;\">       6.47493</td><td style=\"text-align: right;\">       5.83519</td><td style=\"text-align: right;\">       5.88532</td><td style=\"text-align: right;\">         5.609</td><td style=\"text-align: right;\">       5.78527</td><td style=\"text-align: right;\">         5.552</td><td style=\"text-align: right;\">       6.22239</td><td style=\"text-align: right;\">         5.489</td><td style=\"text-align: right;\">       5.92079</td><td style=\"text-align: right;\">       5.4885 </td><td style=\"text-align: right;\">       5.91579</td><td style=\"text-align: right;\">       5.54184</td><td style=\"text-align: right;\">        5.3515</td><td style=\"text-align: right;\">        5.3295</td><td style=\"text-align: right;\">       5.41288</td><td style=\"text-align: right;\">        5.2885</td><td style=\"text-align: right;\">       5.29024</td><td style=\"text-align: right;\">         5.251</td><td style=\"text-align: right;\">         5.234</td><td style=\"text-align: right;\">         5.221</td><td style=\"text-align: right;\">        5.2065</td><td style=\"text-align: right;\">       5.51833</td><td style=\"text-align: right;\">         5.184</td><td style=\"text-align: right;\">         5.174</td><td style=\"text-align: right;\">       5.32274</td><td style=\"text-align: right;\">        5.1555</td><td style=\"text-align: right;\">        5.1485</td><td style=\"text-align: right;\">       5.19702</td><td style=\"text-align: right;\">         5.133</td><td style=\"text-align: right;\">         5.128</td><td style=\"text-align: right;\">        5.1215</td><td style=\"text-align: right;\">       5.17558</td><td style=\"text-align: right;\">       5.11924</td><td style=\"text-align: right;\">        5.1045</td><td style=\"text-align: right;\">         5.103</td><td style=\"text-align: right;\">       5.15187</td><td style=\"text-align: right;\">       5.13449</td><td style=\"text-align: right;\">       5.11665</td><td style=\"text-align: right;\">       5.1104 </td><td style=\"text-align: right;\">        5.16533</td><td style=\"text-align: right;\">         5.0775</td><td style=\"text-align: right;\">         5.0785</td><td style=\"text-align: right;\">          5.076</td><td style=\"text-align: right;\">         5.0755</td><td style=\"text-align: right;\">        5.23183</td><td style=\"text-align: right;\">        5.12101</td><td style=\"text-align: right;\">         5.0675</td><td style=\"text-align: right;\">        5.11531</td><td style=\"text-align: right;\">        5.1088 </td><td style=\"text-align: right;\">         5.0585</td><td style=\"text-align: right;\">        5.12537</td><td style=\"text-align: right;\">         5.0515</td><td style=\"text-align: right;\">        5.11359</td><td style=\"text-align: right;\">        5.19034</td><td style=\"text-align: right;\">         5.0425</td><td style=\"text-align: right;\">           5.04</td><td style=\"text-align: right;\">        5.04566</td><td style=\"text-align: right;\">        5.03784</td><td style=\"text-align: right;\">        5.03673</td><td style=\"text-align: right;\">         5.0295</td><td style=\"text-align: right;\">        5.04672</td><td style=\"text-align: right;\">        5.108  </td><td style=\"text-align: right;\">        5.09709</td><td style=\"text-align: right;\">         5.0155</td><td style=\"text-align: right;\">        5.05204</td><td style=\"text-align: right;\">        5.20273</td><td style=\"text-align: right;\">        5.13341</td><td style=\"text-align: right;\">        5.0063 </td><td style=\"text-align: right;\">          5.002</td><td style=\"text-align: right;\">          5.008</td><td style=\"text-align: right;\">        5.04851</td><td style=\"text-align: right;\">        5.25058</td><td style=\"text-align: right;\">          5.026</td><td style=\"text-align: right;\">        5.08463</td><td style=\"text-align: right;\">        5.05787</td><td style=\"text-align: right;\">          5.027</td><td style=\"text-align: right;\">        5.25152</td><td style=\"text-align: right;\">        5.08247</td><td style=\"text-align: right;\">        5.27176</td><td style=\"text-align: right;\">          5.054</td><td style=\"text-align: right;\">          5.038</td><td style=\"text-align: right;\">        5.16277</td><td style=\"text-align: right;\">        5.40968</td><td style=\"text-align: right;\">        5.64959</td><td style=\"text-align: right;\">         4.9455</td><td style=\"text-align: right;\">        6.1782 </td><td style=\"text-align: right;\">         4.8575</td><td style=\"text-align: right;\">        5.95012</td><td style=\"text-align: right;\">         4.8635</td><td style=\"text-align: right;\">          4.815</td><td style=\"text-align: right;\">        5.89667</td><td style=\"text-align: right;\">        5.07245</td><td style=\"text-align: right;\">        5.61125</td><td style=\"text-align: right;\">          4.544</td><td style=\"text-align: right;\">          4.482</td><td style=\"text-align: right;\">         4.4275</td><td style=\"text-align: right;\">         4.3695</td><td style=\"text-align: right;\">         4.3385</td><td style=\"text-align: right;\">        4.87045</td><td style=\"text-align: right;\">         4.2555</td><td style=\"text-align: right;\">          4.171</td><td style=\"text-align: right;\">        4.106  </td><td style=\"text-align: right;\">        4.99998</td><td style=\"text-align: right;\">          4.067</td><td style=\"text-align: right;\">          4.074</td><td style=\"text-align: right;\">         4.1015</td><td style=\"text-align: right;\">         4.0755</td><td style=\"text-align: right;\">         4.0455</td><td style=\"text-align: right;\">         4.0165</td><td style=\"text-align: right;\">        4.76944</td><td style=\"text-align: right;\">        4.71198</td><td style=\"text-align: right;\">          3.914</td><td style=\"text-align: right;\">          3.893</td><td style=\"text-align: right;\">          3.893</td><td style=\"text-align: right;\">        4.2742 </td><td style=\"text-align: right;\">        4.25644</td><td style=\"text-align: right;\">        5.05049</td><td style=\"text-align: right;\">         3.8455</td><td style=\"text-align: right;\">        4.62166</td><td style=\"text-align: right;\">        5.55114</td><td style=\"text-align: right;\">        6.52305</td><td style=\"text-align: right;\">        4.03262</td><td style=\"text-align: right;\">         3.9545</td><td style=\"text-align: right;\">        4.52373</td><td style=\"text-align: right;\">          4.035</td><td style=\"text-align: right;\">          4.101</td><td style=\"text-align: right;\">        4.35304</td><td style=\"text-align: right;\">          4.229</td><td style=\"text-align: right;\">        4.38897</td><td style=\"text-align: right;\">        5.52332</td><td style=\"text-align: right;\">         4.3365</td><td style=\"text-align: right;\">          4.358</td><td style=\"text-align: right;\">        4.42923</td><td style=\"text-align: right;\">        5.08798</td><td style=\"text-align: right;\">         4.4345</td><td style=\"text-align: right;\">        4.453  </td><td style=\"text-align: right;\">         4.4595</td><td style=\"text-align: right;\">        4.63203</td><td style=\"text-align: right;\">        5.6758 </td><td style=\"text-align: right;\">          4.489</td><td style=\"text-align: right;\">        6.34738</td><td style=\"text-align: right;\">        5.63178</td><td style=\"text-align: right;\">            4.6</td><td style=\"text-align: right;\">          4.652</td><td style=\"text-align: right;\">        6.44019</td><td style=\"text-align: right;\">        4.90628</td><td style=\"text-align: right;\">         4.8345</td><td style=\"text-align: right;\">         4.8965</td><td style=\"text-align: right;\">        5.42337</td><td style=\"text-align: right;\">        5.33224</td></tr>\n",
       "<tr><td style=\"text-align: right;\">      5.07599</td><td style=\"text-align: right;\">      5.66168</td><td style=\"text-align: right;\">       4.9645</td><td style=\"text-align: right;\">        5.022</td><td style=\"text-align: right;\">       5.0775</td><td style=\"text-align: right;\">      7.1399 </td><td style=\"text-align: right;\">      6.79663</td><td style=\"text-align: right;\">      5.62586</td><td style=\"text-align: right;\">      8.51517</td><td style=\"text-align: right;\">        5.4555</td><td style=\"text-align: right;\">         5.534</td><td style=\"text-align: right;\">        5.6435</td><td style=\"text-align: right;\">         5.748</td><td style=\"text-align: right;\">        5.8465</td><td style=\"text-align: right;\">       6.16788</td><td style=\"text-align: right;\">       8.34363</td><td style=\"text-align: right;\">       6.83066</td><td style=\"text-align: right;\">       6.69342</td><td style=\"text-align: right;\">       6.27032</td><td style=\"text-align: right;\">       7.41012</td><td style=\"text-align: right;\">       6.59642</td><td style=\"text-align: right;\">       6.42672</td><td style=\"text-align: right;\">       6.82133</td><td style=\"text-align: right;\">        6.3795</td><td style=\"text-align: right;\">       6.90401</td><td style=\"text-align: right;\">         6.379</td><td style=\"text-align: right;\">       6.75386</td><td style=\"text-align: right;\">        6.3765</td><td style=\"text-align: right;\">       6.94107</td><td style=\"text-align: right;\">        6.3605</td><td style=\"text-align: right;\">       6.3505 </td><td style=\"text-align: right;\">       6.78391</td><td style=\"text-align: right;\">       6.51559</td><td style=\"text-align: right;\">       6.73581</td><td style=\"text-align: right;\">       6.56833</td><td style=\"text-align: right;\">         6.283</td><td style=\"text-align: right;\">       6.7514 </td><td style=\"text-align: right;\">         6.248</td><td style=\"text-align: right;\">        6.2305</td><td style=\"text-align: right;\">       6.43083</td><td style=\"text-align: right;\">         6.188</td><td style=\"text-align: right;\">         6.168</td><td style=\"text-align: right;\">         6.145</td><td style=\"text-align: right;\">          6.12</td><td style=\"text-align: right;\">        6.0975</td><td style=\"text-align: right;\">       6.10939</td><td style=\"text-align: right;\">       6.08907</td><td style=\"text-align: right;\">        6.0225</td><td style=\"text-align: right;\">       5.999  </td><td style=\"text-align: right;\">       6.82781</td><td style=\"text-align: right;\">         5.954</td><td style=\"text-align: right;\">         5.927</td><td style=\"text-align: right;\">       6.23145</td><td style=\"text-align: right;\">       6.51975</td><td style=\"text-align: right;\">       5.87818</td><td style=\"text-align: right;\">       6.02301</td><td style=\"text-align: right;\">       5.95413</td><td style=\"text-align: right;\">       6.07683</td><td style=\"text-align: right;\">       5.84471</td><td style=\"text-align: right;\">       5.84767</td><td style=\"text-align: right;\">       6.45527</td><td style=\"text-align: right;\">       5.87847</td><td style=\"text-align: right;\">       5.86454</td><td style=\"text-align: right;\">         5.609</td><td style=\"text-align: right;\">       5.76505</td><td style=\"text-align: right;\">         5.552</td><td style=\"text-align: right;\">       6.22495</td><td style=\"text-align: right;\">         5.489</td><td style=\"text-align: right;\">       5.90824</td><td style=\"text-align: right;\">       5.48167</td><td style=\"text-align: right;\">       5.91243</td><td style=\"text-align: right;\">       5.53387</td><td style=\"text-align: right;\">        5.3515</td><td style=\"text-align: right;\">        5.3295</td><td style=\"text-align: right;\">       5.40269</td><td style=\"text-align: right;\">        5.2885</td><td style=\"text-align: right;\">       5.28436</td><td style=\"text-align: right;\">         5.251</td><td style=\"text-align: right;\">         5.234</td><td style=\"text-align: right;\">         5.221</td><td style=\"text-align: right;\">        5.2065</td><td style=\"text-align: right;\">       5.50461</td><td style=\"text-align: right;\">         5.184</td><td style=\"text-align: right;\">         5.174</td><td style=\"text-align: right;\">       5.32123</td><td style=\"text-align: right;\">        5.1555</td><td style=\"text-align: right;\">        5.1485</td><td style=\"text-align: right;\">       5.20044</td><td style=\"text-align: right;\">         5.133</td><td style=\"text-align: right;\">         5.128</td><td style=\"text-align: right;\">        5.1215</td><td style=\"text-align: right;\">       5.17438</td><td style=\"text-align: right;\">       5.12613</td><td style=\"text-align: right;\">        5.1045</td><td style=\"text-align: right;\">         5.103</td><td style=\"text-align: right;\">       5.15504</td><td style=\"text-align: right;\">       5.13866</td><td style=\"text-align: right;\">       5.11009</td><td style=\"text-align: right;\">       5.11123</td><td style=\"text-align: right;\">        5.16266</td><td style=\"text-align: right;\">         5.0775</td><td style=\"text-align: right;\">         5.0785</td><td style=\"text-align: right;\">          5.076</td><td style=\"text-align: right;\">         5.0755</td><td style=\"text-align: right;\">        5.22725</td><td style=\"text-align: right;\">        5.12583</td><td style=\"text-align: right;\">         5.0675</td><td style=\"text-align: right;\">        5.11661</td><td style=\"text-align: right;\">        5.11214</td><td style=\"text-align: right;\">         5.0585</td><td style=\"text-align: right;\">        5.12381</td><td style=\"text-align: right;\">         5.0515</td><td style=\"text-align: right;\">        5.11588</td><td style=\"text-align: right;\">        5.18739</td><td style=\"text-align: right;\">         5.0425</td><td style=\"text-align: right;\">           5.04</td><td style=\"text-align: right;\">        5.04779</td><td style=\"text-align: right;\">        5.037  </td><td style=\"text-align: right;\">        5.03874</td><td style=\"text-align: right;\">         5.0295</td><td style=\"text-align: right;\">        5.04878</td><td style=\"text-align: right;\">        5.10669</td><td style=\"text-align: right;\">        5.09902</td><td style=\"text-align: right;\">         5.0155</td><td style=\"text-align: right;\">        5.04841</td><td style=\"text-align: right;\">        5.19942</td><td style=\"text-align: right;\">        5.13553</td><td style=\"text-align: right;\">        5.00796</td><td style=\"text-align: right;\">          5.002</td><td style=\"text-align: right;\">          5.008</td><td style=\"text-align: right;\">        5.0452 </td><td style=\"text-align: right;\">        5.23703</td><td style=\"text-align: right;\">          5.026</td><td style=\"text-align: right;\">        5.0906 </td><td style=\"text-align: right;\">        5.06065</td><td style=\"text-align: right;\">          5.027</td><td style=\"text-align: right;\">        5.25791</td><td style=\"text-align: right;\">        5.08339</td><td style=\"text-align: right;\">        5.27335</td><td style=\"text-align: right;\">          5.054</td><td style=\"text-align: right;\">          5.038</td><td style=\"text-align: right;\">        5.12614</td><td style=\"text-align: right;\">        5.43378</td><td style=\"text-align: right;\">        5.62638</td><td style=\"text-align: right;\">         4.9455</td><td style=\"text-align: right;\">        6.17817</td><td style=\"text-align: right;\">         4.8575</td><td style=\"text-align: right;\">        5.9799 </td><td style=\"text-align: right;\">         4.8635</td><td style=\"text-align: right;\">          4.815</td><td style=\"text-align: right;\">        5.93876</td><td style=\"text-align: right;\">        5.03031</td><td style=\"text-align: right;\">        5.64793</td><td style=\"text-align: right;\">          4.544</td><td style=\"text-align: right;\">          4.482</td><td style=\"text-align: right;\">         4.4275</td><td style=\"text-align: right;\">         4.3695</td><td style=\"text-align: right;\">         4.3385</td><td style=\"text-align: right;\">        4.78881</td><td style=\"text-align: right;\">         4.2555</td><td style=\"text-align: right;\">          4.171</td><td style=\"text-align: right;\">        4.10617</td><td style=\"text-align: right;\">        4.97057</td><td style=\"text-align: right;\">          4.067</td><td style=\"text-align: right;\">          4.074</td><td style=\"text-align: right;\">         4.1015</td><td style=\"text-align: right;\">         4.0755</td><td style=\"text-align: right;\">         4.0455</td><td style=\"text-align: right;\">         4.0165</td><td style=\"text-align: right;\">        4.78656</td><td style=\"text-align: right;\">        4.69382</td><td style=\"text-align: right;\">          3.914</td><td style=\"text-align: right;\">          3.893</td><td style=\"text-align: right;\">          3.893</td><td style=\"text-align: right;\">        4.3017 </td><td style=\"text-align: right;\">        4.20652</td><td style=\"text-align: right;\">        4.95481</td><td style=\"text-align: right;\">         3.8455</td><td style=\"text-align: right;\">        4.55931</td><td style=\"text-align: right;\">        5.4978 </td><td style=\"text-align: right;\">        6.52102</td><td style=\"text-align: right;\">        3.96076</td><td style=\"text-align: right;\">         3.9545</td><td style=\"text-align: right;\">        4.51578</td><td style=\"text-align: right;\">          4.035</td><td style=\"text-align: right;\">          4.101</td><td style=\"text-align: right;\">        4.35525</td><td style=\"text-align: right;\">          4.229</td><td style=\"text-align: right;\">        4.38334</td><td style=\"text-align: right;\">        5.4561 </td><td style=\"text-align: right;\">         4.3365</td><td style=\"text-align: right;\">          4.358</td><td style=\"text-align: right;\">        4.40213</td><td style=\"text-align: right;\">        5.06776</td><td style=\"text-align: right;\">         4.4345</td><td style=\"text-align: right;\">        4.453  </td><td style=\"text-align: right;\">         4.4595</td><td style=\"text-align: right;\">        4.70953</td><td style=\"text-align: right;\">        5.65966</td><td style=\"text-align: right;\">          4.489</td><td style=\"text-align: right;\">        6.29495</td><td style=\"text-align: right;\">        5.58102</td><td style=\"text-align: right;\">            4.6</td><td style=\"text-align: right;\">          4.652</td><td style=\"text-align: right;\">        6.43417</td><td style=\"text-align: right;\">        4.94145</td><td style=\"text-align: right;\">         4.8345</td><td style=\"text-align: right;\">         4.8965</td><td style=\"text-align: right;\">        5.36153</td><td style=\"text-align: right;\">        5.33313</td></tr>\n",
       "<tr><td style=\"text-align: right;\">      5.02741</td><td style=\"text-align: right;\">      5.68027</td><td style=\"text-align: right;\">       4.9645</td><td style=\"text-align: right;\">        5.022</td><td style=\"text-align: right;\">       5.0775</td><td style=\"text-align: right;\">      7.1174 </td><td style=\"text-align: right;\">      6.83697</td><td style=\"text-align: right;\">      5.59567</td><td style=\"text-align: right;\">      8.43995</td><td style=\"text-align: right;\">        5.4555</td><td style=\"text-align: right;\">         5.534</td><td style=\"text-align: right;\">        5.6435</td><td style=\"text-align: right;\">         5.748</td><td style=\"text-align: right;\">        5.8465</td><td style=\"text-align: right;\">       6.08079</td><td style=\"text-align: right;\">       8.3174 </td><td style=\"text-align: right;\">       6.87148</td><td style=\"text-align: right;\">       6.74621</td><td style=\"text-align: right;\">       6.2355 </td><td style=\"text-align: right;\">       7.38055</td><td style=\"text-align: right;\">       6.60435</td><td style=\"text-align: right;\">       6.41557</td><td style=\"text-align: right;\">       6.83007</td><td style=\"text-align: right;\">        6.3795</td><td style=\"text-align: right;\">       6.8932 </td><td style=\"text-align: right;\">         6.379</td><td style=\"text-align: right;\">       6.74194</td><td style=\"text-align: right;\">        6.3765</td><td style=\"text-align: right;\">       6.96233</td><td style=\"text-align: right;\">        6.3605</td><td style=\"text-align: right;\">       6.3505 </td><td style=\"text-align: right;\">       6.77989</td><td style=\"text-align: right;\">       6.54984</td><td style=\"text-align: right;\">       6.7457 </td><td style=\"text-align: right;\">       6.54966</td><td style=\"text-align: right;\">         6.283</td><td style=\"text-align: right;\">       6.78915</td><td style=\"text-align: right;\">         6.248</td><td style=\"text-align: right;\">        6.2305</td><td style=\"text-align: right;\">       6.40369</td><td style=\"text-align: right;\">         6.188</td><td style=\"text-align: right;\">         6.168</td><td style=\"text-align: right;\">         6.145</td><td style=\"text-align: right;\">          6.12</td><td style=\"text-align: right;\">        6.0975</td><td style=\"text-align: right;\">       6.13887</td><td style=\"text-align: right;\">       6.09977</td><td style=\"text-align: right;\">        6.0225</td><td style=\"text-align: right;\">       5.999  </td><td style=\"text-align: right;\">       6.80998</td><td style=\"text-align: right;\">         5.954</td><td style=\"text-align: right;\">         5.927</td><td style=\"text-align: right;\">       6.23687</td><td style=\"text-align: right;\">       6.48984</td><td style=\"text-align: right;\">       5.89905</td><td style=\"text-align: right;\">       6.03511</td><td style=\"text-align: right;\">       5.90806</td><td style=\"text-align: right;\">       6.09407</td><td style=\"text-align: right;\">       5.86374</td><td style=\"text-align: right;\">       5.90525</td><td style=\"text-align: right;\">       6.43553</td><td style=\"text-align: right;\">       5.91171</td><td style=\"text-align: right;\">       5.84383</td><td style=\"text-align: right;\">         5.609</td><td style=\"text-align: right;\">       5.76825</td><td style=\"text-align: right;\">         5.552</td><td style=\"text-align: right;\">       6.19105</td><td style=\"text-align: right;\">         5.489</td><td style=\"text-align: right;\">       5.93859</td><td style=\"text-align: right;\">       5.46716</td><td style=\"text-align: right;\">       5.87059</td><td style=\"text-align: right;\">       5.52813</td><td style=\"text-align: right;\">        5.3515</td><td style=\"text-align: right;\">        5.3295</td><td style=\"text-align: right;\">       5.37841</td><td style=\"text-align: right;\">        5.2885</td><td style=\"text-align: right;\">       5.28384</td><td style=\"text-align: right;\">         5.251</td><td style=\"text-align: right;\">         5.234</td><td style=\"text-align: right;\">         5.221</td><td style=\"text-align: right;\">        5.2065</td><td style=\"text-align: right;\">       5.49012</td><td style=\"text-align: right;\">         5.184</td><td style=\"text-align: right;\">         5.174</td><td style=\"text-align: right;\">       5.32831</td><td style=\"text-align: right;\">        5.1555</td><td style=\"text-align: right;\">        5.1485</td><td style=\"text-align: right;\">       5.19407</td><td style=\"text-align: right;\">         5.133</td><td style=\"text-align: right;\">         5.128</td><td style=\"text-align: right;\">        5.1215</td><td style=\"text-align: right;\">       5.17102</td><td style=\"text-align: right;\">       5.12872</td><td style=\"text-align: right;\">        5.1045</td><td style=\"text-align: right;\">         5.103</td><td style=\"text-align: right;\">       5.15886</td><td style=\"text-align: right;\">       5.13654</td><td style=\"text-align: right;\">       5.1081 </td><td style=\"text-align: right;\">       5.10799</td><td style=\"text-align: right;\">        5.15379</td><td style=\"text-align: right;\">         5.0775</td><td style=\"text-align: right;\">         5.0785</td><td style=\"text-align: right;\">          5.076</td><td style=\"text-align: right;\">         5.0755</td><td style=\"text-align: right;\">        5.2277 </td><td style=\"text-align: right;\">        5.11835</td><td style=\"text-align: right;\">         5.0675</td><td style=\"text-align: right;\">        5.12264</td><td style=\"text-align: right;\">        5.11686</td><td style=\"text-align: right;\">         5.0585</td><td style=\"text-align: right;\">        5.11738</td><td style=\"text-align: right;\">         5.0515</td><td style=\"text-align: right;\">        5.12026</td><td style=\"text-align: right;\">        5.19039</td><td style=\"text-align: right;\">         5.0425</td><td style=\"text-align: right;\">           5.04</td><td style=\"text-align: right;\">        5.04589</td><td style=\"text-align: right;\">        5.037  </td><td style=\"text-align: right;\">        5.03257</td><td style=\"text-align: right;\">         5.0295</td><td style=\"text-align: right;\">        5.05073</td><td style=\"text-align: right;\">        5.10296</td><td style=\"text-align: right;\">        5.09923</td><td style=\"text-align: right;\">         5.0155</td><td style=\"text-align: right;\">        5.04662</td><td style=\"text-align: right;\">        5.19787</td><td style=\"text-align: right;\">        5.12834</td><td style=\"text-align: right;\">        5.00814</td><td style=\"text-align: right;\">          5.002</td><td style=\"text-align: right;\">          5.008</td><td style=\"text-align: right;\">        5.04182</td><td style=\"text-align: right;\">        5.19671</td><td style=\"text-align: right;\">          5.026</td><td style=\"text-align: right;\">        5.10049</td><td style=\"text-align: right;\">        5.05475</td><td style=\"text-align: right;\">          5.027</td><td style=\"text-align: right;\">        5.27121</td><td style=\"text-align: right;\">        5.09518</td><td style=\"text-align: right;\">        5.27431</td><td style=\"text-align: right;\">          5.054</td><td style=\"text-align: right;\">          5.038</td><td style=\"text-align: right;\">        5.11991</td><td style=\"text-align: right;\">        5.34562</td><td style=\"text-align: right;\">        5.61926</td><td style=\"text-align: right;\">         4.9455</td><td style=\"text-align: right;\">        6.16003</td><td style=\"text-align: right;\">         4.8575</td><td style=\"text-align: right;\">        5.98934</td><td style=\"text-align: right;\">         4.8635</td><td style=\"text-align: right;\">          4.815</td><td style=\"text-align: right;\">        5.92122</td><td style=\"text-align: right;\">        4.98169</td><td style=\"text-align: right;\">        5.68899</td><td style=\"text-align: right;\">          4.544</td><td style=\"text-align: right;\">          4.482</td><td style=\"text-align: right;\">         4.4275</td><td style=\"text-align: right;\">         4.3695</td><td style=\"text-align: right;\">         4.3385</td><td style=\"text-align: right;\">        4.74934</td><td style=\"text-align: right;\">         4.2555</td><td style=\"text-align: right;\">          4.171</td><td style=\"text-align: right;\">        4.14719</td><td style=\"text-align: right;\">        4.92895</td><td style=\"text-align: right;\">          4.067</td><td style=\"text-align: right;\">          4.074</td><td style=\"text-align: right;\">         4.1015</td><td style=\"text-align: right;\">         4.0755</td><td style=\"text-align: right;\">         4.0455</td><td style=\"text-align: right;\">         4.0165</td><td style=\"text-align: right;\">        4.84448</td><td style=\"text-align: right;\">        4.63793</td><td style=\"text-align: right;\">          3.914</td><td style=\"text-align: right;\">          3.893</td><td style=\"text-align: right;\">          3.893</td><td style=\"text-align: right;\">        4.31974</td><td style=\"text-align: right;\">        4.15658</td><td style=\"text-align: right;\">        4.9368 </td><td style=\"text-align: right;\">         3.8455</td><td style=\"text-align: right;\">        4.58432</td><td style=\"text-align: right;\">        5.50451</td><td style=\"text-align: right;\">        6.63951</td><td style=\"text-align: right;\">        3.895  </td><td style=\"text-align: right;\">         3.9545</td><td style=\"text-align: right;\">        4.46083</td><td style=\"text-align: right;\">          4.035</td><td style=\"text-align: right;\">          4.101</td><td style=\"text-align: right;\">        4.42507</td><td style=\"text-align: right;\">          4.229</td><td style=\"text-align: right;\">        4.3175 </td><td style=\"text-align: right;\">        5.50054</td><td style=\"text-align: right;\">         4.3365</td><td style=\"text-align: right;\">          4.358</td><td style=\"text-align: right;\">        4.44232</td><td style=\"text-align: right;\">        5.08784</td><td style=\"text-align: right;\">         4.4345</td><td style=\"text-align: right;\">        4.453  </td><td style=\"text-align: right;\">         4.4595</td><td style=\"text-align: right;\">        4.71043</td><td style=\"text-align: right;\">        5.63512</td><td style=\"text-align: right;\">          4.489</td><td style=\"text-align: right;\">        6.23145</td><td style=\"text-align: right;\">        5.5774 </td><td style=\"text-align: right;\">            4.6</td><td style=\"text-align: right;\">          4.652</td><td style=\"text-align: right;\">        6.2976 </td><td style=\"text-align: right;\">        5.11664</td><td style=\"text-align: right;\">         4.8345</td><td style=\"text-align: right;\">         4.8965</td><td style=\"text-align: right;\">        5.31269</td><td style=\"text-align: right;\">        5.29564</td></tr>\n",
       "<tr><td style=\"text-align: right;\">      5.00527</td><td style=\"text-align: right;\">      5.52377</td><td style=\"text-align: right;\">       4.9645</td><td style=\"text-align: right;\">        5.022</td><td style=\"text-align: right;\">       5.0775</td><td style=\"text-align: right;\">      7.10453</td><td style=\"text-align: right;\">      6.88986</td><td style=\"text-align: right;\">      5.52414</td><td style=\"text-align: right;\">      8.34128</td><td style=\"text-align: right;\">        5.4555</td><td style=\"text-align: right;\">         5.534</td><td style=\"text-align: right;\">        5.6435</td><td style=\"text-align: right;\">         5.748</td><td style=\"text-align: right;\">        5.8465</td><td style=\"text-align: right;\">       5.97355</td><td style=\"text-align: right;\">       8.40675</td><td style=\"text-align: right;\">       6.96452</td><td style=\"text-align: right;\">       6.73546</td><td style=\"text-align: right;\">       6.2355 </td><td style=\"text-align: right;\">       7.38875</td><td style=\"text-align: right;\">       6.57658</td><td style=\"text-align: right;\">       6.46578</td><td style=\"text-align: right;\">       6.84989</td><td style=\"text-align: right;\">        6.3795</td><td style=\"text-align: right;\">       6.84644</td><td style=\"text-align: right;\">         6.379</td><td style=\"text-align: right;\">       6.74007</td><td style=\"text-align: right;\">        6.3765</td><td style=\"text-align: right;\">       6.93336</td><td style=\"text-align: right;\">        6.3605</td><td style=\"text-align: right;\">       6.36109</td><td style=\"text-align: right;\">       6.72661</td><td style=\"text-align: right;\">       6.58878</td><td style=\"text-align: right;\">       6.77635</td><td style=\"text-align: right;\">       6.58645</td><td style=\"text-align: right;\">         6.283</td><td style=\"text-align: right;\">       6.80289</td><td style=\"text-align: right;\">         6.248</td><td style=\"text-align: right;\">        6.2305</td><td style=\"text-align: right;\">       6.41662</td><td style=\"text-align: right;\">         6.188</td><td style=\"text-align: right;\">         6.168</td><td style=\"text-align: right;\">         6.145</td><td style=\"text-align: right;\">          6.12</td><td style=\"text-align: right;\">        6.0975</td><td style=\"text-align: right;\">       6.18572</td><td style=\"text-align: right;\">       6.05913</td><td style=\"text-align: right;\">        6.0225</td><td style=\"text-align: right;\">       6.03473</td><td style=\"text-align: right;\">       6.80387</td><td style=\"text-align: right;\">         5.954</td><td style=\"text-align: right;\">         5.927</td><td style=\"text-align: right;\">       6.24658</td><td style=\"text-align: right;\">       6.53719</td><td style=\"text-align: right;\">       5.89084</td><td style=\"text-align: right;\">       6.05571</td><td style=\"text-align: right;\">       5.93826</td><td style=\"text-align: right;\">       6.11944</td><td style=\"text-align: right;\">       5.93202</td><td style=\"text-align: right;\">       5.93172</td><td style=\"text-align: right;\">       6.43321</td><td style=\"text-align: right;\">       5.93394</td><td style=\"text-align: right;\">       5.75185</td><td style=\"text-align: right;\">         5.609</td><td style=\"text-align: right;\">       5.73745</td><td style=\"text-align: right;\">         5.552</td><td style=\"text-align: right;\">       6.20418</td><td style=\"text-align: right;\">         5.489</td><td style=\"text-align: right;\">       5.9443 </td><td style=\"text-align: right;\">       5.43936</td><td style=\"text-align: right;\">       5.91898</td><td style=\"text-align: right;\">       5.53225</td><td style=\"text-align: right;\">        5.3515</td><td style=\"text-align: right;\">        5.3295</td><td style=\"text-align: right;\">       5.36447</td><td style=\"text-align: right;\">        5.2885</td><td style=\"text-align: right;\">       5.2963 </td><td style=\"text-align: right;\">         5.251</td><td style=\"text-align: right;\">         5.234</td><td style=\"text-align: right;\">         5.221</td><td style=\"text-align: right;\">        5.2065</td><td style=\"text-align: right;\">       5.47997</td><td style=\"text-align: right;\">         5.184</td><td style=\"text-align: right;\">         5.174</td><td style=\"text-align: right;\">       5.32056</td><td style=\"text-align: right;\">        5.1555</td><td style=\"text-align: right;\">        5.1485</td><td style=\"text-align: right;\">       5.19674</td><td style=\"text-align: right;\">         5.133</td><td style=\"text-align: right;\">         5.128</td><td style=\"text-align: right;\">        5.1215</td><td style=\"text-align: right;\">       5.17041</td><td style=\"text-align: right;\">       5.13694</td><td style=\"text-align: right;\">        5.1045</td><td style=\"text-align: right;\">         5.103</td><td style=\"text-align: right;\">       5.15992</td><td style=\"text-align: right;\">       5.12755</td><td style=\"text-align: right;\">       5.1027 </td><td style=\"text-align: right;\">       5.10573</td><td style=\"text-align: right;\">        5.15437</td><td style=\"text-align: right;\">         5.0775</td><td style=\"text-align: right;\">         5.0785</td><td style=\"text-align: right;\">          5.076</td><td style=\"text-align: right;\">         5.0755</td><td style=\"text-align: right;\">        5.22454</td><td style=\"text-align: right;\">        5.11711</td><td style=\"text-align: right;\">         5.0675</td><td style=\"text-align: right;\">        5.12185</td><td style=\"text-align: right;\">        5.11069</td><td style=\"text-align: right;\">         5.0585</td><td style=\"text-align: right;\">        5.11314</td><td style=\"text-align: right;\">         5.0515</td><td style=\"text-align: right;\">        5.11725</td><td style=\"text-align: right;\">        5.19287</td><td style=\"text-align: right;\">         5.0425</td><td style=\"text-align: right;\">           5.04</td><td style=\"text-align: right;\">        5.05579</td><td style=\"text-align: right;\">        5.037  </td><td style=\"text-align: right;\">        5.03653</td><td style=\"text-align: right;\">         5.0295</td><td style=\"text-align: right;\">        5.0531 </td><td style=\"text-align: right;\">        5.10017</td><td style=\"text-align: right;\">        5.10578</td><td style=\"text-align: right;\">         5.0155</td><td style=\"text-align: right;\">        5.0455 </td><td style=\"text-align: right;\">        5.1946 </td><td style=\"text-align: right;\">        5.1262 </td><td style=\"text-align: right;\">        5.00929</td><td style=\"text-align: right;\">          5.002</td><td style=\"text-align: right;\">          5.008</td><td style=\"text-align: right;\">        5.04919</td><td style=\"text-align: right;\">        5.17258</td><td style=\"text-align: right;\">          5.026</td><td style=\"text-align: right;\">        5.09384</td><td style=\"text-align: right;\">        5.05329</td><td style=\"text-align: right;\">          5.027</td><td style=\"text-align: right;\">        5.26092</td><td style=\"text-align: right;\">        5.10604</td><td style=\"text-align: right;\">        5.23953</td><td style=\"text-align: right;\">          5.054</td><td style=\"text-align: right;\">          5.038</td><td style=\"text-align: right;\">        5.10841</td><td style=\"text-align: right;\">        5.30887</td><td style=\"text-align: right;\">        5.62608</td><td style=\"text-align: right;\">         4.9455</td><td style=\"text-align: right;\">        6.25736</td><td style=\"text-align: right;\">         4.8575</td><td style=\"text-align: right;\">        6.02065</td><td style=\"text-align: right;\">         4.8635</td><td style=\"text-align: right;\">          4.815</td><td style=\"text-align: right;\">        5.90807</td><td style=\"text-align: right;\">        4.98029</td><td style=\"text-align: right;\">        5.60548</td><td style=\"text-align: right;\">          4.544</td><td style=\"text-align: right;\">          4.482</td><td style=\"text-align: right;\">         4.4275</td><td style=\"text-align: right;\">         4.3695</td><td style=\"text-align: right;\">         4.3385</td><td style=\"text-align: right;\">        4.77262</td><td style=\"text-align: right;\">         4.2555</td><td style=\"text-align: right;\">          4.171</td><td style=\"text-align: right;\">        4.17154</td><td style=\"text-align: right;\">        4.88025</td><td style=\"text-align: right;\">          4.067</td><td style=\"text-align: right;\">          4.074</td><td style=\"text-align: right;\">         4.1015</td><td style=\"text-align: right;\">         4.0755</td><td style=\"text-align: right;\">         4.0455</td><td style=\"text-align: right;\">         4.0165</td><td style=\"text-align: right;\">        4.91785</td><td style=\"text-align: right;\">        4.61936</td><td style=\"text-align: right;\">          3.914</td><td style=\"text-align: right;\">          3.893</td><td style=\"text-align: right;\">          3.893</td><td style=\"text-align: right;\">        4.34678</td><td style=\"text-align: right;\">        4.12715</td><td style=\"text-align: right;\">        4.95319</td><td style=\"text-align: right;\">         3.8455</td><td style=\"text-align: right;\">        4.55098</td><td style=\"text-align: right;\">        5.55442</td><td style=\"text-align: right;\">        6.71948</td><td style=\"text-align: right;\">        3.93647</td><td style=\"text-align: right;\">         3.9545</td><td style=\"text-align: right;\">        4.51705</td><td style=\"text-align: right;\">          4.035</td><td style=\"text-align: right;\">          4.101</td><td style=\"text-align: right;\">        4.46886</td><td style=\"text-align: right;\">          4.229</td><td style=\"text-align: right;\">        4.3175 </td><td style=\"text-align: right;\">        5.50637</td><td style=\"text-align: right;\">         4.3365</td><td style=\"text-align: right;\">          4.358</td><td style=\"text-align: right;\">        4.39573</td><td style=\"text-align: right;\">        5.0105 </td><td style=\"text-align: right;\">         4.4345</td><td style=\"text-align: right;\">        4.453  </td><td style=\"text-align: right;\">         4.4595</td><td style=\"text-align: right;\">        4.70441</td><td style=\"text-align: right;\">        5.62081</td><td style=\"text-align: right;\">          4.489</td><td style=\"text-align: right;\">        6.47915</td><td style=\"text-align: right;\">        5.76428</td><td style=\"text-align: right;\">            4.6</td><td style=\"text-align: right;\">          4.652</td><td style=\"text-align: right;\">        6.20428</td><td style=\"text-align: right;\">        5.12189</td><td style=\"text-align: right;\">         4.8345</td><td style=\"text-align: right;\">         4.8965</td><td style=\"text-align: right;\">        5.40562</td><td style=\"text-align: right;\">        5.327  </td></tr>\n",
       "<tr><td style=\"text-align: right;\">      4.94372</td><td style=\"text-align: right;\">      5.55903</td><td style=\"text-align: right;\">       4.9645</td><td style=\"text-align: right;\">        5.022</td><td style=\"text-align: right;\">       5.0775</td><td style=\"text-align: right;\">      7.11328</td><td style=\"text-align: right;\">      6.86243</td><td style=\"text-align: right;\">      5.51105</td><td style=\"text-align: right;\">      8.3367 </td><td style=\"text-align: right;\">        5.4555</td><td style=\"text-align: right;\">         5.534</td><td style=\"text-align: right;\">        5.6435</td><td style=\"text-align: right;\">         5.748</td><td style=\"text-align: right;\">        5.8465</td><td style=\"text-align: right;\">       6.03683</td><td style=\"text-align: right;\">       8.40517</td><td style=\"text-align: right;\">       6.89987</td><td style=\"text-align: right;\">       6.70012</td><td style=\"text-align: right;\">       6.2355 </td><td style=\"text-align: right;\">       7.41772</td><td style=\"text-align: right;\">       6.55462</td><td style=\"text-align: right;\">       6.46511</td><td style=\"text-align: right;\">       6.86384</td><td style=\"text-align: right;\">        6.3795</td><td style=\"text-align: right;\">       6.87591</td><td style=\"text-align: right;\">         6.379</td><td style=\"text-align: right;\">       6.7704 </td><td style=\"text-align: right;\">        6.3765</td><td style=\"text-align: right;\">       6.92633</td><td style=\"text-align: right;\">        6.3605</td><td style=\"text-align: right;\">       6.3505 </td><td style=\"text-align: right;\">       6.72897</td><td style=\"text-align: right;\">       6.56614</td><td style=\"text-align: right;\">       6.76347</td><td style=\"text-align: right;\">       6.60147</td><td style=\"text-align: right;\">         6.283</td><td style=\"text-align: right;\">       6.77804</td><td style=\"text-align: right;\">         6.248</td><td style=\"text-align: right;\">        6.2305</td><td style=\"text-align: right;\">       6.43963</td><td style=\"text-align: right;\">         6.188</td><td style=\"text-align: right;\">         6.168</td><td style=\"text-align: right;\">         6.145</td><td style=\"text-align: right;\">          6.12</td><td style=\"text-align: right;\">        6.0975</td><td style=\"text-align: right;\">       6.1709 </td><td style=\"text-align: right;\">       6.07461</td><td style=\"text-align: right;\">        6.0225</td><td style=\"text-align: right;\">       6.00667</td><td style=\"text-align: right;\">       6.8158 </td><td style=\"text-align: right;\">         5.954</td><td style=\"text-align: right;\">         5.927</td><td style=\"text-align: right;\">       6.22312</td><td style=\"text-align: right;\">       6.4868 </td><td style=\"text-align: right;\">       5.89932</td><td style=\"text-align: right;\">       6.04225</td><td style=\"text-align: right;\">       5.93629</td><td style=\"text-align: right;\">       6.10261</td><td style=\"text-align: right;\">       5.88284</td><td style=\"text-align: right;\">       5.86884</td><td style=\"text-align: right;\">       6.42212</td><td style=\"text-align: right;\">       5.94616</td><td style=\"text-align: right;\">       5.77264</td><td style=\"text-align: right;\">         5.609</td><td style=\"text-align: right;\">       5.76096</td><td style=\"text-align: right;\">         5.552</td><td style=\"text-align: right;\">       6.21987</td><td style=\"text-align: right;\">         5.489</td><td style=\"text-align: right;\">       5.91312</td><td style=\"text-align: right;\">       5.47368</td><td style=\"text-align: right;\">       5.92995</td><td style=\"text-align: right;\">       5.51317</td><td style=\"text-align: right;\">        5.3515</td><td style=\"text-align: right;\">        5.3295</td><td style=\"text-align: right;\">       5.38607</td><td style=\"text-align: right;\">        5.2885</td><td style=\"text-align: right;\">       5.28473</td><td style=\"text-align: right;\">         5.251</td><td style=\"text-align: right;\">         5.234</td><td style=\"text-align: right;\">         5.221</td><td style=\"text-align: right;\">        5.2065</td><td style=\"text-align: right;\">       5.47906</td><td style=\"text-align: right;\">         5.184</td><td style=\"text-align: right;\">         5.174</td><td style=\"text-align: right;\">       5.31057</td><td style=\"text-align: right;\">        5.1555</td><td style=\"text-align: right;\">        5.1485</td><td style=\"text-align: right;\">       5.20904</td><td style=\"text-align: right;\">         5.133</td><td style=\"text-align: right;\">         5.128</td><td style=\"text-align: right;\">        5.1215</td><td style=\"text-align: right;\">       5.16704</td><td style=\"text-align: right;\">       5.14034</td><td style=\"text-align: right;\">        5.1045</td><td style=\"text-align: right;\">         5.103</td><td style=\"text-align: right;\">       5.15848</td><td style=\"text-align: right;\">       5.13292</td><td style=\"text-align: right;\">       5.1041 </td><td style=\"text-align: right;\">       5.11124</td><td style=\"text-align: right;\">        5.16253</td><td style=\"text-align: right;\">         5.0775</td><td style=\"text-align: right;\">         5.0785</td><td style=\"text-align: right;\">          5.076</td><td style=\"text-align: right;\">         5.0755</td><td style=\"text-align: right;\">        5.22148</td><td style=\"text-align: right;\">        5.12748</td><td style=\"text-align: right;\">         5.0675</td><td style=\"text-align: right;\">        5.12158</td><td style=\"text-align: right;\">        5.10308</td><td style=\"text-align: right;\">         5.0585</td><td style=\"text-align: right;\">        5.12049</td><td style=\"text-align: right;\">         5.0515</td><td style=\"text-align: right;\">        5.11369</td><td style=\"text-align: right;\">        5.18897</td><td style=\"text-align: right;\">         5.0425</td><td style=\"text-align: right;\">           5.04</td><td style=\"text-align: right;\">        5.05555</td><td style=\"text-align: right;\">        5.037  </td><td style=\"text-align: right;\">        5.04107</td><td style=\"text-align: right;\">         5.0295</td><td style=\"text-align: right;\">        5.05607</td><td style=\"text-align: right;\">        5.10132</td><td style=\"text-align: right;\">        5.10418</td><td style=\"text-align: right;\">         5.0155</td><td style=\"text-align: right;\">        5.04629</td><td style=\"text-align: right;\">        5.19267</td><td style=\"text-align: right;\">        5.12903</td><td style=\"text-align: right;\">        5.01348</td><td style=\"text-align: right;\">          5.002</td><td style=\"text-align: right;\">          5.008</td><td style=\"text-align: right;\">        5.04717</td><td style=\"text-align: right;\">        5.19766</td><td style=\"text-align: right;\">          5.026</td><td style=\"text-align: right;\">        5.09299</td><td style=\"text-align: right;\">        5.06571</td><td style=\"text-align: right;\">          5.027</td><td style=\"text-align: right;\">        5.24022</td><td style=\"text-align: right;\">        5.09387</td><td style=\"text-align: right;\">        5.25498</td><td style=\"text-align: right;\">          5.054</td><td style=\"text-align: right;\">          5.038</td><td style=\"text-align: right;\">        5.06655</td><td style=\"text-align: right;\">        5.36741</td><td style=\"text-align: right;\">        5.60311</td><td style=\"text-align: right;\">         4.9455</td><td style=\"text-align: right;\">        6.24428</td><td style=\"text-align: right;\">         4.8575</td><td style=\"text-align: right;\">        5.99245</td><td style=\"text-align: right;\">         4.8635</td><td style=\"text-align: right;\">          4.815</td><td style=\"text-align: right;\">        5.9295 </td><td style=\"text-align: right;\">        5.00542</td><td style=\"text-align: right;\">        5.59079</td><td style=\"text-align: right;\">          4.544</td><td style=\"text-align: right;\">          4.482</td><td style=\"text-align: right;\">         4.4275</td><td style=\"text-align: right;\">         4.3695</td><td style=\"text-align: right;\">         4.3385</td><td style=\"text-align: right;\">        4.81798</td><td style=\"text-align: right;\">         4.2555</td><td style=\"text-align: right;\">          4.171</td><td style=\"text-align: right;\">        4.10822</td><td style=\"text-align: right;\">        4.8501 </td><td style=\"text-align: right;\">          4.067</td><td style=\"text-align: right;\">          4.074</td><td style=\"text-align: right;\">         4.1015</td><td style=\"text-align: right;\">         4.0755</td><td style=\"text-align: right;\">         4.0455</td><td style=\"text-align: right;\">         4.0165</td><td style=\"text-align: right;\">        4.76411</td><td style=\"text-align: right;\">        4.57567</td><td style=\"text-align: right;\">          3.914</td><td style=\"text-align: right;\">          3.893</td><td style=\"text-align: right;\">          3.893</td><td style=\"text-align: right;\">        4.31697</td><td style=\"text-align: right;\">        4.10674</td><td style=\"text-align: right;\">        4.82077</td><td style=\"text-align: right;\">         3.8455</td><td style=\"text-align: right;\">        4.54293</td><td style=\"text-align: right;\">        5.50511</td><td style=\"text-align: right;\">        6.60053</td><td style=\"text-align: right;\">        3.895  </td><td style=\"text-align: right;\">         3.9545</td><td style=\"text-align: right;\">        4.46623</td><td style=\"text-align: right;\">          4.035</td><td style=\"text-align: right;\">          4.101</td><td style=\"text-align: right;\">        4.38409</td><td style=\"text-align: right;\">          4.229</td><td style=\"text-align: right;\">        4.3175 </td><td style=\"text-align: right;\">        5.44118</td><td style=\"text-align: right;\">         4.3365</td><td style=\"text-align: right;\">          4.358</td><td style=\"text-align: right;\">        4.385  </td><td style=\"text-align: right;\">        4.99554</td><td style=\"text-align: right;\">         4.4345</td><td style=\"text-align: right;\">        4.453  </td><td style=\"text-align: right;\">         4.4595</td><td style=\"text-align: right;\">        4.71802</td><td style=\"text-align: right;\">        5.61528</td><td style=\"text-align: right;\">          4.489</td><td style=\"text-align: right;\">        6.45823</td><td style=\"text-align: right;\">        5.72972</td><td style=\"text-align: right;\">            4.6</td><td style=\"text-align: right;\">          4.652</td><td style=\"text-align: right;\">        6.27948</td><td style=\"text-align: right;\">        5.05172</td><td style=\"text-align: right;\">         4.8345</td><td style=\"text-align: right;\">         4.8965</td><td style=\"text-align: right;\">        5.42789</td><td style=\"text-align: right;\">        5.42471</td></tr>\n",
       "<tr><td style=\"text-align: right;\">      4.93638</td><td style=\"text-align: right;\">      5.57332</td><td style=\"text-align: right;\">       4.9645</td><td style=\"text-align: right;\">        5.022</td><td style=\"text-align: right;\">       5.0775</td><td style=\"text-align: right;\">      7.0927 </td><td style=\"text-align: right;\">      6.88414</td><td style=\"text-align: right;\">      5.49246</td><td style=\"text-align: right;\">      8.33847</td><td style=\"text-align: right;\">        5.4555</td><td style=\"text-align: right;\">         5.534</td><td style=\"text-align: right;\">        5.6435</td><td style=\"text-align: right;\">         5.748</td><td style=\"text-align: right;\">        5.8465</td><td style=\"text-align: right;\">       6.01383</td><td style=\"text-align: right;\">       8.40299</td><td style=\"text-align: right;\">       6.88785</td><td style=\"text-align: right;\">       6.68138</td><td style=\"text-align: right;\">       6.2355 </td><td style=\"text-align: right;\">       7.43231</td><td style=\"text-align: right;\">       6.55488</td><td style=\"text-align: right;\">       6.44992</td><td style=\"text-align: right;\">       6.85546</td><td style=\"text-align: right;\">        6.3795</td><td style=\"text-align: right;\">       6.87988</td><td style=\"text-align: right;\">         6.379</td><td style=\"text-align: right;\">       6.77959</td><td style=\"text-align: right;\">        6.3765</td><td style=\"text-align: right;\">       6.91933</td><td style=\"text-align: right;\">        6.3605</td><td style=\"text-align: right;\">       6.3505 </td><td style=\"text-align: right;\">       6.73266</td><td style=\"text-align: right;\">       6.56942</td><td style=\"text-align: right;\">       6.75901</td><td style=\"text-align: right;\">       6.60484</td><td style=\"text-align: right;\">         6.283</td><td style=\"text-align: right;\">       6.78782</td><td style=\"text-align: right;\">         6.248</td><td style=\"text-align: right;\">        6.2305</td><td style=\"text-align: right;\">       6.43267</td><td style=\"text-align: right;\">         6.188</td><td style=\"text-align: right;\">         6.168</td><td style=\"text-align: right;\">         6.145</td><td style=\"text-align: right;\">          6.12</td><td style=\"text-align: right;\">        6.0975</td><td style=\"text-align: right;\">       6.15468</td><td style=\"text-align: right;\">       6.0731 </td><td style=\"text-align: right;\">        6.0225</td><td style=\"text-align: right;\">       6.02078</td><td style=\"text-align: right;\">       6.81148</td><td style=\"text-align: right;\">         5.954</td><td style=\"text-align: right;\">         5.927</td><td style=\"text-align: right;\">       6.21296</td><td style=\"text-align: right;\">       6.48993</td><td style=\"text-align: right;\">       5.90849</td><td style=\"text-align: right;\">       6.03917</td><td style=\"text-align: right;\">       5.91666</td><td style=\"text-align: right;\">       6.07938</td><td style=\"text-align: right;\">       5.86728</td><td style=\"text-align: right;\">       5.86956</td><td style=\"text-align: right;\">       6.42762</td><td style=\"text-align: right;\">       5.94069</td><td style=\"text-align: right;\">       5.79727</td><td style=\"text-align: right;\">         5.609</td><td style=\"text-align: right;\">       5.77697</td><td style=\"text-align: right;\">         5.552</td><td style=\"text-align: right;\">       6.20348</td><td style=\"text-align: right;\">         5.489</td><td style=\"text-align: right;\">       5.9116 </td><td style=\"text-align: right;\">       5.48696</td><td style=\"text-align: right;\">       5.91871</td><td style=\"text-align: right;\">       5.51075</td><td style=\"text-align: right;\">        5.3515</td><td style=\"text-align: right;\">        5.3295</td><td style=\"text-align: right;\">       5.38952</td><td style=\"text-align: right;\">        5.2885</td><td style=\"text-align: right;\">       5.27778</td><td style=\"text-align: right;\">         5.251</td><td style=\"text-align: right;\">         5.234</td><td style=\"text-align: right;\">         5.221</td><td style=\"text-align: right;\">        5.2065</td><td style=\"text-align: right;\">       5.47616</td><td style=\"text-align: right;\">         5.184</td><td style=\"text-align: right;\">         5.174</td><td style=\"text-align: right;\">       5.31143</td><td style=\"text-align: right;\">        5.1555</td><td style=\"text-align: right;\">        5.1485</td><td style=\"text-align: right;\">       5.20503</td><td style=\"text-align: right;\">         5.133</td><td style=\"text-align: right;\">         5.128</td><td style=\"text-align: right;\">        5.1215</td><td style=\"text-align: right;\">       5.16745</td><td style=\"text-align: right;\">       5.13816</td><td style=\"text-align: right;\">        5.1045</td><td style=\"text-align: right;\">         5.103</td><td style=\"text-align: right;\">       5.15897</td><td style=\"text-align: right;\">       5.13329</td><td style=\"text-align: right;\">       5.10312</td><td style=\"text-align: right;\">       5.11111</td><td style=\"text-align: right;\">        5.16226</td><td style=\"text-align: right;\">         5.0775</td><td style=\"text-align: right;\">         5.0785</td><td style=\"text-align: right;\">          5.076</td><td style=\"text-align: right;\">         5.0755</td><td style=\"text-align: right;\">        5.22366</td><td style=\"text-align: right;\">        5.12672</td><td style=\"text-align: right;\">         5.0675</td><td style=\"text-align: right;\">        5.12079</td><td style=\"text-align: right;\">        5.10335</td><td style=\"text-align: right;\">         5.0585</td><td style=\"text-align: right;\">        5.12163</td><td style=\"text-align: right;\">         5.0515</td><td style=\"text-align: right;\">        5.11132</td><td style=\"text-align: right;\">        5.18872</td><td style=\"text-align: right;\">         5.0425</td><td style=\"text-align: right;\">           5.04</td><td style=\"text-align: right;\">        5.05645</td><td style=\"text-align: right;\">        5.037  </td><td style=\"text-align: right;\">        5.03817</td><td style=\"text-align: right;\">         5.0295</td><td style=\"text-align: right;\">        5.0563 </td><td style=\"text-align: right;\">        5.0996 </td><td style=\"text-align: right;\">        5.10444</td><td style=\"text-align: right;\">         5.0155</td><td style=\"text-align: right;\">        5.04689</td><td style=\"text-align: right;\">        5.19174</td><td style=\"text-align: right;\">        5.1296 </td><td style=\"text-align: right;\">        5.01219</td><td style=\"text-align: right;\">          5.002</td><td style=\"text-align: right;\">          5.008</td><td style=\"text-align: right;\">        5.04981</td><td style=\"text-align: right;\">        5.19839</td><td style=\"text-align: right;\">          5.026</td><td style=\"text-align: right;\">        5.09178</td><td style=\"text-align: right;\">        5.06254</td><td style=\"text-align: right;\">          5.027</td><td style=\"text-align: right;\">        5.23932</td><td style=\"text-align: right;\">        5.09466</td><td style=\"text-align: right;\">        5.25468</td><td style=\"text-align: right;\">          5.054</td><td style=\"text-align: right;\">          5.038</td><td style=\"text-align: right;\">        5.05679</td><td style=\"text-align: right;\">        5.37424</td><td style=\"text-align: right;\">        5.60266</td><td style=\"text-align: right;\">         4.9455</td><td style=\"text-align: right;\">        6.2196 </td><td style=\"text-align: right;\">         4.8575</td><td style=\"text-align: right;\">        5.97268</td><td style=\"text-align: right;\">         4.8635</td><td style=\"text-align: right;\">          4.815</td><td style=\"text-align: right;\">        5.96588</td><td style=\"text-align: right;\">        5.00259</td><td style=\"text-align: right;\">        5.61965</td><td style=\"text-align: right;\">          4.544</td><td style=\"text-align: right;\">          4.482</td><td style=\"text-align: right;\">         4.4275</td><td style=\"text-align: right;\">         4.3695</td><td style=\"text-align: right;\">         4.3385</td><td style=\"text-align: right;\">        4.79675</td><td style=\"text-align: right;\">         4.2555</td><td style=\"text-align: right;\">          4.171</td><td style=\"text-align: right;\">        4.106  </td><td style=\"text-align: right;\">        4.83205</td><td style=\"text-align: right;\">          4.067</td><td style=\"text-align: right;\">          4.074</td><td style=\"text-align: right;\">         4.1015</td><td style=\"text-align: right;\">         4.0755</td><td style=\"text-align: right;\">         4.0455</td><td style=\"text-align: right;\">         4.0165</td><td style=\"text-align: right;\">        4.76642</td><td style=\"text-align: right;\">        4.56201</td><td style=\"text-align: right;\">          3.914</td><td style=\"text-align: right;\">          3.893</td><td style=\"text-align: right;\">          3.893</td><td style=\"text-align: right;\">        4.32514</td><td style=\"text-align: right;\">        4.09816</td><td style=\"text-align: right;\">        4.79151</td><td style=\"text-align: right;\">         3.8455</td><td style=\"text-align: right;\">        4.56459</td><td style=\"text-align: right;\">        5.4669 </td><td style=\"text-align: right;\">        6.57957</td><td style=\"text-align: right;\">        3.895  </td><td style=\"text-align: right;\">         3.9545</td><td style=\"text-align: right;\">        4.47991</td><td style=\"text-align: right;\">          4.035</td><td style=\"text-align: right;\">          4.101</td><td style=\"text-align: right;\">        4.39514</td><td style=\"text-align: right;\">          4.229</td><td style=\"text-align: right;\">        4.3175 </td><td style=\"text-align: right;\">        5.46192</td><td style=\"text-align: right;\">         4.3365</td><td style=\"text-align: right;\">          4.358</td><td style=\"text-align: right;\">        4.385  </td><td style=\"text-align: right;\">        4.98404</td><td style=\"text-align: right;\">         4.4345</td><td style=\"text-align: right;\">        4.453  </td><td style=\"text-align: right;\">         4.4595</td><td style=\"text-align: right;\">        4.73489</td><td style=\"text-align: right;\">        5.62329</td><td style=\"text-align: right;\">          4.489</td><td style=\"text-align: right;\">        6.40696</td><td style=\"text-align: right;\">        5.69484</td><td style=\"text-align: right;\">            4.6</td><td style=\"text-align: right;\">          4.652</td><td style=\"text-align: right;\">        6.27143</td><td style=\"text-align: right;\">        5.03197</td><td style=\"text-align: right;\">         4.8345</td><td style=\"text-align: right;\">         4.8965</td><td style=\"text-align: right;\">        5.42538</td><td style=\"text-align: right;\">        5.36894</td></tr>\n",
       "</tbody>\n",
       "</table>"
      ]
     },
     "metadata": {},
     "output_type": "display_data"
    },
    {
     "data": {
      "text/plain": []
     },
     "execution_count": 43,
     "metadata": {},
     "output_type": "execute_result"
    }
   ],
   "source": [
    "model.predict(test)"
   ]
  },
  {
   "cell_type": "code",
   "execution_count": 44,
   "metadata": {},
   "outputs": [
    {
     "name": "stdout",
     "output_type": "stream",
     "text": [
      "deeplearning Model Build progress: |██████████████████████████████████████| 100%\n"
     ]
    }
   ],
   "source": [
    " model = H2ODeepLearningEstimator(activation=\"RectifierWithDropout\",\n",
    "                                  hidden=[32,32,32],\n",
    "                                  autoencoder=False,input_dropout_ratio=0.2,sparse=True,l1=1e-5,epochs=10)\n",
    "    \n",
    "model.train(x=train.names[:-1],y=train.names[-1],training_frame=train,validation_frame=test)"
   ]
  },
  {
   "cell_type": "code",
   "execution_count": null,
   "metadata": {
    "collapsed": true
   },
   "outputs": [],
   "source": [
    "print(train.names[-1])"
   ]
  },
  {
   "cell_type": "code",
   "execution_count": 45,
   "metadata": {
    "collapsed": true
   },
   "outputs": [],
   "source": [
    "model_path = h2o.save_model(model = model,force = True)"
   ]
  },
  {
   "cell_type": "code",
   "execution_count": 46,
   "metadata": {},
   "outputs": [
    {
     "name": "stdout",
     "output_type": "stream",
     "text": [
      "/Users/prajayshetty/Downloads/ppt/CSCI6360/workshops/DeepLearning_model_python_1508939596978_18\n"
     ]
    }
   ],
   "source": [
    "print(model_path)"
   ]
  },
  {
   "cell_type": "code",
   "execution_count": null,
   "metadata": {
    "collapsed": true
   },
   "outputs": [],
   "source": [
    "saved_model = h2o.load_model(model_path)"
   ]
  },
  {
   "cell_type": "code",
   "execution_count": null,
   "metadata": {
    "collapsed": true
   },
   "outputs": [],
   "source": [
    "print(saved_model)"
   ]
  },
  {
   "cell_type": "code",
   "execution_count": 51,
   "metadata": {},
   "outputs": [
    {
     "name": "stdout",
     "output_type": "stream",
     "text": [
      "deeplearning Grid Build progress: |███████████████████████████████████████| 100%\n"
     ]
    }
   ],
   "source": [
    " hyper_parameters = {'input_dropout_ratio':[0.1,0.2,0.5,0.7]}\n",
    "                                            \n",
    "h2o_gridSearch = H2OGridSearch(H2ODeepLearningEstimator(activation=\"RectifierWithDropout\",\n",
    "                                  hidden=[50,40,30,20,10,5],\n",
    "                                  autoencoder=True,sparse=True,l1=1e-5,epochs=10),hyper_parameters)\n",
    "\n",
    "h2o_gridSearch.train(x=train.names,training_frame=train,validation_frame=test)\n",
    "\n"
   ]
  },
  {
   "cell_type": "code",
   "execution_count": 52,
   "metadata": {
    "scrolled": false
   },
   "outputs": [
    {
     "name": "stdout",
     "output_type": "stream",
     "text": [
      "    input_dropout_ratio  \\\n",
      "0                   0.2   \n",
      "1                   0.5   \n",
      "2                   0.7   \n",
      "3                   0.1   \n",
      "\n",
      "                                                               model_ids  \\\n",
      "0  Grid_DeepLearning_ecg_discord_train4.hex_model_python_150893959697...   \n",
      "1  Grid_DeepLearning_ecg_discord_train4.hex_model_python_150893959697...   \n",
      "2  Grid_DeepLearning_ecg_discord_train4.hex_model_python_150893959697...   \n",
      "3  Grid_DeepLearning_ecg_discord_train4.hex_model_python_150893959697...   \n",
      "\n",
      "                  mse  \n",
      "0  1.1177247737987623  \n",
      "1  1.1227460791988992  \n",
      "2  1.1277023677794682  \n",
      "3  1.1294747939986314  \n",
      "\n"
     ]
    }
   ],
   "source": [
    "print(h2o_gridSearch.get_grid(sort_by=\"mse\"))"
   ]
  },
  {
   "cell_type": "markdown",
   "metadata": {},
   "source": [
    "Now tell me who is going to win ? one with greater epochs or with lower dropout or something else ?"
   ]
  },
  {
   "cell_type": "code",
   "execution_count": 50,
   "metadata": {},
   "outputs": [
    {
     "name": "stdout",
     "output_type": "stream",
     "text": [
      "deeplearning Grid Build progress: |███████████████████████████████████████| 100%\n",
      "     epochs input_dropout_ratio  \\\n",
      "0      10.0                 0.7   \n",
      "1      20.0                 0.1   \n",
      "2      30.0                 0.7   \n",
      "3      30.0                 0.1   \n",
      "4      30.0                 0.5   \n",
      "5      10.0                 0.2   \n",
      "6      40.0                 0.1   \n",
      "7      20.0                 0.7   \n",
      "8      40.0                 0.2   \n",
      "9      10.0                 0.1   \n",
      "10     40.0                 0.5   \n",
      "11     40.0                 0.7   \n",
      "12     30.0                 0.2   \n",
      "13     10.0                 0.5   \n",
      "14     20.0                 0.2   \n",
      "15     20.0                 0.5   \n",
      "\n",
      "                                                                model_ids  \\\n",
      "0   Grid_DeepLearning_ecg_discord_train4.hex_model_python_150893959697...   \n",
      "1   Grid_DeepLearning_ecg_discord_train4.hex_model_python_150893959697...   \n",
      "2   Grid_DeepLearning_ecg_discord_train4.hex_model_python_150893959697...   \n",
      "3   Grid_DeepLearning_ecg_discord_train4.hex_model_python_150893959697...   \n",
      "4   Grid_DeepLearning_ecg_discord_train4.hex_model_python_150893959697...   \n",
      "5   Grid_DeepLearning_ecg_discord_train4.hex_model_python_150893959697...   \n",
      "6   Grid_DeepLearning_ecg_discord_train4.hex_model_python_150893959697...   \n",
      "7   Grid_DeepLearning_ecg_discord_train4.hex_model_python_150893959697...   \n",
      "8   Grid_DeepLearning_ecg_discord_train4.hex_model_python_150893959697...   \n",
      "9   Grid_DeepLearning_ecg_discord_train4.hex_model_python_150893959697...   \n",
      "10  Grid_DeepLearning_ecg_discord_train4.hex_model_python_150893959697...   \n",
      "11  Grid_DeepLearning_ecg_discord_train4.hex_model_python_150893959697...   \n",
      "12  Grid_DeepLearning_ecg_discord_train4.hex_model_python_150893959697...   \n",
      "13  Grid_DeepLearning_ecg_discord_train4.hex_model_python_150893959697...   \n",
      "14  Grid_DeepLearning_ecg_discord_train4.hex_model_python_150893959697...   \n",
      "15  Grid_DeepLearning_ecg_discord_train4.hex_model_python_150893959697...   \n",
      "\n",
      "                   mse  \n",
      "0   1.1535938547394573  \n",
      "1   1.1562329316103637  \n",
      "2   1.1566448588666485  \n",
      "3    1.159861698950193  \n",
      "4   1.1644009813475424  \n",
      "5   1.1645614739950838  \n",
      "6   1.1655196697103989  \n",
      "7   1.1656905475634471  \n",
      "8   1.1717198498945969  \n",
      "9   1.1720297722474604  \n",
      "10  1.1754004353240988  \n",
      "11  1.1760561973726498  \n",
      "12  1.1779863170373361  \n",
      "13  1.1793471264297541  \n",
      "14   1.192625404833221  \n",
      "15  1.1967470032123524  \n",
      "\n"
     ]
    }
   ],
   "source": [
    " hyper_parameters = {'input_dropout_ratio':[0.1,0.2,0.5,0.7],'epochs':[10,20,30,40]}\n",
    "\n",
    "h2o_gridSearch = H2OGridSearch(H2ODeepLearningEstimator(activation=\"RectifierWithDropout\",\n",
    "                                  hidden=[32,32,32],\n",
    "                                  autoencoder=True,sparse=True,l1=1e-5,epochs=10),hyper_parameters)\n",
    "\n",
    "h2o_gridSearch.train(x=train.names,training_frame=train,validation_frame=test)\n",
    "\n",
    "print(h2o_gridSearch.get_grid(sort_by=\"mse\"))\n",
    "    "
   ]
  },
  {
   "cell_type": "code",
   "execution_count": null,
   "metadata": {
    "collapsed": true
   },
   "outputs": [],
   "source": []
  }
 ],
 "metadata": {
  "kernelspec": {
   "display_name": "Python 3",
   "language": "python",
   "name": "python3"
  },
  "language_info": {
   "codemirror_mode": {
    "name": "ipython",
    "version": 3
   },
   "file_extension": ".py",
   "mimetype": "text/x-python",
   "name": "python",
   "nbconvert_exporter": "python",
   "pygments_lexer": "ipython3",
   "version": "3.6.2"
  }
 },
 "nbformat": 4,
 "nbformat_minor": 2
}
