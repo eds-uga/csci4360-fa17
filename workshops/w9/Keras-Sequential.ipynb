{
 "cells": [
  {
   "cell_type": "markdown",
   "metadata": {},
   "source": [
    "# Keras Sequential Models\n",
    "\n",
    "__Keras__ is a high-level frontend to TensorFlow that allows you to think about neural networks in terms of _layers_. Keras exposes 2 different APIs for this purpose, the _Sequential_ API and the _Functional_ API.\n",
    "\n",
    "The Sequential API is ideal for the common case where your network is just a sequence of layers. You start with an empty `Sequential` object, akin to a list, and append your desired layers."
   ]
  },
  {
   "cell_type": "markdown",
   "metadata": {},
   "source": [
    "## Imports"
   ]
  },
  {
   "cell_type": "code",
   "execution_count": 1,
   "metadata": {},
   "outputs": [
    {
     "name": "stderr",
     "output_type": "stream",
     "text": [
      "Using TensorFlow backend.\n"
     ]
    }
   ],
   "source": [
    "import keras\n",
    "from keras.models import Sequential\n",
    "from keras.layers import Dropout, Reshape, Flatten\n",
    "from keras.layers import Dense, Conv2D, MaxPooling2D"
   ]
  },
  {
   "cell_type": "markdown",
   "metadata": {},
   "source": [
    "## MNIST handwritten digits\n",
    "\n",
    "For this tutorial, we will be using the MNIST dataset. Keras provides us this dataset for easily prototyping new models.\n",
    "\n",
    "After we load the data, we add a new axis to the inputs to be the \"channel\" dimension. Then we convert the labels to a one-hot encoding."
   ]
  },
  {
   "cell_type": "code",
   "execution_count": 2,
   "metadata": {},
   "outputs": [
    {
     "name": "stdout",
     "output_type": "stream",
     "text": [
      "x shape = (60000, 28, 28, 1) (10000, 28, 28, 1)\n",
      "y shape = (60000, 10) (10000, 10)\n"
     ]
    },
    {
     "data": {
      "image/png": "[encoded data removed]",
      "text/plain": [
       "<matplotlib.figure.Figure at 0x11e831f28>"
      ]
     },
     "metadata": {},
     "output_type": "display_data"
    }
   ],
   "source": [
    "(x_train, y_train), (x_test, y_test) = keras.datasets.mnist.load_data()\n",
    "\n",
    "x_train = x_train[..., np.newaxis]\n",
    "x_test = x_test[..., np.newaxis]\n",
    "\n",
    "y_train = keras.utils.to_categorical(y_train, 10)\n",
    "y_test = keras.utils.to_categorical(y_test, 10)\n",
    "\n",
    "print('x shape =', x_train.shape, x_test.shape)\n",
    "print('y shape =', y_train.shape, y_test.shape)\n",
    "\n",
    "plt.ion()\n",
    "fig, axs = plt.subplots(1, 4)\n",
    "for ax, x in zip(axs, x_train):\n",
    "    ax.imshow(x.squeeze())"
   ]
  },
  {
   "cell_type": "markdown",
   "metadata": {},
   "source": [
    "## Constructing the Model\n",
    "\n",
    "Building a VGG-like CNN is easy.\n",
    "\n",
    "We start with a `Sequential` model, to which we will be adding the layers.\n",
    "\n",
    "For the first block, we start with two 32-channel 3x3 convolution layers with ReLU activation, followed by a 2x2 max-pooling layer, and dropout. You must provide an input shape to the first layer, but the input shape can be infered for all of the others.\n",
    "\n",
    "The second block is like the first, but with 64 channels.\n",
    "\n",
    "In the third block, we flatten each image into a vector and feed that to a 256-neuron fully-connected layer, followed by strong dropout.\n",
    "\n",
    "Finally, the output is fead into a 10-class softmax regression."
   ]
  },
  {
   "cell_type": "code",
   "execution_count": 3,
   "metadata": {},
   "outputs": [],
   "source": [
    "model = Sequential()\n",
    "\n",
    "model.add(Conv2D(32, (3, 3), activation='relu', input_shape=(28, 28, 1)))\n",
    "model.add(Conv2D(32, (3, 3), activation='relu'))\n",
    "model.add(MaxPooling2D((2, 2)))\n",
    "model.add(Dropout(0.25))\n",
    "\n",
    "model.add(Conv2D(64, (3, 3), activation='relu'))\n",
    "model.add(Conv2D(64, (3, 3), activation='relu'))\n",
    "model.add(MaxPooling2D((2, 2)))\n",
    "model.add(Dropout(0.25))\n",
    "\n",
    "model.add(Flatten())\n",
    "model.add(Dense(256, activation='relu'))\n",
    "model.add(Dropout(0.5))\n",
    "\n",
    "model.add(Dense(10, activation='softmax'))"
   ]
  },
  {
   "cell_type": "markdown",
   "metadata": {},
   "source": [
    "## Evaluating\n",
    "\n",
    "Evaluating your model is also easy.\n",
    "\n",
    "First you must \"compile\" your model into a form Keras can train. This locks down the architecture of your model, so you can't add new layers. As part of the compilation process, you specify the loss function that your model will be fit agains and the optimization algorithm used to update the weights.\n",
    "\n",
    "To train your model, you simply call `model.fit` with your training data and things like your batch size and number of epochs.\n",
    "\n",
    "Once the model is trained, you can easily check it's accuracy with `model.evaluate`."
   ]
  },
  {
   "cell_type": "code",
   "execution_count": 4,
   "metadata": {},
   "outputs": [
    {
     "name": "stdout",
     "output_type": "stream",
     "text": [
      "Epoch 1/10\n",
      "60000/60000 [==============================] - 219s - loss: 13.3947   \n",
      "Epoch 2/10\n",
      "60000/60000 [==============================] - 202s - loss: 13.4990   \n",
      "Epoch 3/10\n",
      "60000/60000 [==============================] - 204s - loss: 13.6713   \n",
      "Epoch 4/10\n",
      "60000/60000 [==============================] - 205s - loss: 13.4828   \n",
      "Epoch 5/10\n",
      "60000/60000 [==============================] - 208s - loss: 13.4702   \n",
      "Epoch 6/10\n",
      "60000/60000 [==============================] - 207s - loss: 13.7168   \n",
      "Epoch 7/10\n",
      "60000/60000 [==============================] - 207s - loss: 13.4275   \n",
      "Epoch 8/10\n",
      "60000/60000 [==============================] - 235s - loss: 12.9826   \n",
      "Epoch 9/10\n",
      "60000/60000 [==============================] - 250s - loss: 12.9885   \n",
      "Epoch 10/10\n",
      "60000/60000 [==============================] - 217s - loss: 13.1266   \n",
      "10000/10000 [==============================] - 10s    \n"
     ]
    },
    {
     "data": {
      "text/plain": [
       "14.533686416625976"
      ]
     },
     "execution_count": 4,
     "metadata": {},
     "output_type": "execute_result"
    }
   ],
   "source": [
    "model.compile(loss='categorical_crossentropy', optimizer='adam')\n",
    "model.fit(x_train, y_train, batch_size=32, epochs=10)\n",
    "model.evaluate(x_test, y_test, batch_size=32)"
   ]
  },
  {
   "cell_type": "markdown",
   "metadata": {},
   "source": [
    "## Saving and loading from disk\n",
    "\n",
    "You can save a model with `model.save` and load a model with `keras.models.load_model`.\n",
    "\n",
    "When you load a model from disk, the result is already compiled."
   ]
  },
  {
   "cell_type": "code",
   "execution_count": 5,
   "metadata": {},
   "outputs": [],
   "source": [
    "model.save('mnist_cnn.h5')\n",
    "model = keras.models.load_model('mnist_cnn.h5')"
   ]
  },
  {
   "cell_type": "code",
   "execution_count": null,
   "metadata": {},
   "outputs": [],
   "source": []
  }
 ],
 "metadata": {
  "kernelspec": {
   "display_name": "Python 3",
   "language": "python",
   "name": "python3"
  },
  "language_info": {
   "codemirror_mode": {
    "name": "ipython",
    "version": 3
   },
   "file_extension": ".py",
   "mimetype": "text/x-python",
   "name": "python",
   "nbconvert_exporter": "python",
   "pygments_lexer": "ipython3",
   "version": "3.6.3"
  }
 },
 "nbformat": 4,
 "nbformat_minor": 2
}
