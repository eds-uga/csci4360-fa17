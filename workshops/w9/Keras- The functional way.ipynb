{
 "cells": [
  {
   "cell_type": "markdown",
   "metadata": {},
   "source": [
    "# Keras: The functional way."
   ]
  },
  {
   "cell_type": "markdown",
   "metadata": {},
   "source": [
    "Import everything we need. Keras has an awesome way to organise things and everything is right where it is supposed to be ... almost.\n",
    "***"
   ]
  },
  {
   "cell_type": "code",
   "execution_count": 1,
   "metadata": {},
   "outputs": [
    {
     "name": "stderr",
     "output_type": "stream",
     "text": [
      "Using TensorFlow backend.\n"
     ]
    }
   ],
   "source": [
    "from keras.datasets import mnist\n",
    "from keras.utils import to_categorical\n",
    "from keras.layers import Conv2D,Dense,Input,Flatten,MaxPool2D\n",
    "from keras.models import Model"
   ]
  },
  {
   "cell_type": "markdown",
   "metadata": {},
   "source": [
    "Then import a few helpers"
   ]
  },
  {
   "cell_type": "code",
   "execution_count": 2,
   "metadata": {
    "collapsed": true
   },
   "outputs": [],
   "source": [
    "import matplotlib.pyplot as plt\n",
    "import numpy"
   ]
  },
  {
   "cell_type": "markdown",
   "metadata": {},
   "source": [
    "And now to import the dataset. This is usually a long process. You always need to write code to get data into the pipeline. But since MNIST is like the 'Hello World!' of deep learning, keras provides us with a single function to get the MNIST data into a 60:40 split."
   ]
  },
  {
   "cell_type": "code",
   "execution_count": 3,
   "metadata": {
    "collapsed": true
   },
   "outputs": [],
   "source": [
    "(train_x,train_y),(test_x,test_y)=mnist.load_data()"
   ]
  },
  {
   "cell_type": "markdown",
   "metadata": {},
   "source": [
    "Lets have a peek at what the data looks like."
   ]
  },
  {
   "cell_type": "code",
   "execution_count": 4,
   "metadata": {},
   "outputs": [
    {
     "data": {
      "image/png": "[encoded data removed]",
      "text/plain": [
       "<matplotlib.figure.Figure at 0x7f73b1d72e80>"
      ]
     },
     "metadata": {},
     "output_type": "display_data"
    }
   ],
   "source": [
    "plt.imshow(train_x[0])\n",
    "plt.show()"
   ]
  },
  {
   "cell_type": "markdown",
   "metadata": {},
   "source": [
    "Now, keras uses the format (batches,height,width,channels) for its CNN layers. But the MNIST dataset is in the format (batches,height,width) since there is only one channel. So we manually need to add the additional axis on the dataset. \n",
    "\n",
    "Also the targets are in the form of integers. But keras needs targets in form of one-hot encoded vectors. (PyTorch is so awesome! It implicitly does the one-hot encoding). So we are going to convert the integer labels to one-hot vectors."
   ]
  },
  {
   "cell_type": "code",
   "execution_count": 5,
   "metadata": {
    "collapsed": true
   },
   "outputs": [],
   "source": [
    "X,y=train_x[:,:,:,numpy.newaxis],to_categorical(train_y,10)"
   ]
  },
  {
   "cell_type": "markdown",
   "metadata": {},
   "source": [
    "## Building the model."
   ]
  },
  {
   "cell_type": "markdown",
   "metadata": {},
   "source": [
    "Now this is the regular CNN model. But instead of declaring a Sequential() wrapper for the keras model and then adding layers to it one by one, we are building the model in a functional way. \n",
    "In the end of the model definition, keras has to be told which layers are the inputs and which layers are the output. The last line of the following code does that."
   ]
  },
  {
   "cell_type": "code",
   "execution_count": 6,
   "metadata": {
    "collapsed": true
   },
   "outputs": [],
   "source": [
    "inputs=Input(shape=(28,28,1))\n",
    "input_layer=Conv2D(filters=3,kernel_size=(2,2),activation='relu')(inputs)\n",
    "second_layer=Conv2D(filters=3,kernel_size=(2,2),activation='relu')(input_layer)\n",
    "max_pool=MaxPool2D(pool_size=(2,2))(second_layer)\n",
    "flatten=Flatten()(max_pool)\n",
    "flat_layer=Dense(8*8*3,activation='relu')(flatten)\n",
    "output_layer=Dense(10,activation='softmax')(flat_layer)\n",
    "model=Model(inputs=inputs,outputs=output_layer)"
   ]
  },
  {
   "cell_type": "markdown",
   "metadata": {},
   "source": [
    "Since we are using tensorflow on the backend. The graph has to be statically compiled first before it is actually run. Keras provides an abstraction to the graph compilation process using a single compile function."
   ]
  },
  {
   "cell_type": "code",
   "execution_count": 7,
   "metadata": {
    "collapsed": true
   },
   "outputs": [],
   "source": [
    "model.compile(optimizer='adam',loss='categorical_crossentropy',metrics=['accuracy'])"
   ]
  },
  {
   "cell_type": "markdown",
   "metadata": {},
   "source": [
    "And the final step. To train the CNN. As keras runs the training iterations, it prints all the metrics specified in the compile function. In this case. It will report the accuracy."
   ]
  },
  {
   "cell_type": "code",
   "execution_count": 8,
   "metadata": {},
   "outputs": [
    {
     "name": "stdout",
     "output_type": "stream",
     "text": [
      "Epoch 1/10\n",
      "60000/60000 [==============================] - 15s - loss: 0.4389 - acc: 0.9216    \n",
      "Epoch 2/10\n",
      "60000/60000 [==============================] - 15s - loss: 0.0927 - acc: 0.9726    \n",
      "Epoch 3/10\n",
      "60000/60000 [==============================] - 15s - loss: 0.0644 - acc: 0.9790    \n",
      "Epoch 4/10\n",
      "60000/60000 [==============================] - 15s - loss: 0.0471 - acc: 0.9844    \n",
      "Epoch 5/10\n",
      "60000/60000 [==============================] - 15s - loss: 0.0368 - acc: 0.9877    \n",
      "Epoch 6/10\n",
      "60000/60000 [==============================] - 15s - loss: 0.0317 - acc: 0.9896    \n",
      "Epoch 7/10\n",
      "60000/60000 [==============================] - 15s - loss: 0.0249 - acc: 0.9917    \n",
      "Epoch 8/10\n",
      "60000/60000 [==============================] - 15s - loss: 0.0218 - acc: 0.9931    \n",
      "Epoch 9/10\n",
      "60000/60000 [==============================] - 15s - loss: 0.0175 - acc: 0.9940    \n",
      "Epoch 10/10\n",
      "60000/60000 [==============================] - 15s - loss: 0.0175 - acc: 0.9943    \n"
     ]
    },
    {
     "data": {
      "text/plain": [
       "<keras.callbacks.History at 0x7f73aacbfd30>"
      ]
     },
     "execution_count": 8,
     "metadata": {},
     "output_type": "execute_result"
    }
   ],
   "source": [
    "model.fit(X,y,epochs=10)"
   ]
  },
  {
   "cell_type": "code",
   "execution_count": 15,
   "metadata": {},
   "outputs": [
    {
     "data": {
      "image/png": "[encoded data removed]",
      "text/plain": [
       "<matplotlib.figure.Figure at 0x7f73aa79c9b0>"
      ]
     },
     "metadata": {},
     "output_type": "display_data"
    }
   ],
   "source": [
    "plt.imshow(test_x[0])\n",
    "plt.show()"
   ]
  },
  {
   "cell_type": "code",
   "execution_count": 14,
   "metadata": {},
   "outputs": [
    {
     "name": "stdout",
     "output_type": "stream",
     "text": [
      "7\n"
     ]
    }
   ],
   "source": [
    "print(numpy.argmax(model.predict(test_x[0][numpy.newaxis,:,:,numpy.newaxis])))"
   ]
  }
 ],
 "metadata": {
  "kernelspec": {
   "display_name": "Python 3",
   "language": "python",
   "name": "python3"
  },
  "language_info": {
   "codemirror_mode": {
    "name": "ipython",
    "version": 3
   },
   "file_extension": ".py",
   "mimetype": "text/x-python",
   "name": "python",
   "nbconvert_exporter": "python",
   "pygments_lexer": "ipython3",
   "version": "3.6.2"
  }
 },
 "nbformat": 4,
 "nbformat_minor": 2
}
